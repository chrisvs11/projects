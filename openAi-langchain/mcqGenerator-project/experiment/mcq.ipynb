{
 "cells": [
  {
   "cell_type": "code",
   "execution_count": 179,
   "metadata": {},
   "outputs": [],
   "source": [
    "import os\n",
    "import json\n",
    "import pandas as pd\n",
    "import traceback\n",
    "from langchain.prompts import PromptTemplate\n",
    "from langchain.chains import LLMChain\n",
    "from langchain.callbacks import get_openai_callback\n",
    "from langchain.chains import SequentialChain\n"
   ]
  },
  {
   "cell_type": "code",
   "execution_count": 180,
   "metadata": {},
   "outputs": [],
   "source": [
    "from langchain.chat_models import ChatOpenAI"
   ]
  },
  {
   "cell_type": "code",
   "execution_count": 181,
   "metadata": {},
   "outputs": [],
   "source": [
    "KEY = os.getenv(\"OPEN_AI_KEY\")"
   ]
  },
  {
   "cell_type": "code",
   "execution_count": 182,
   "metadata": {},
   "outputs": [],
   "source": [
    "llm = ChatOpenAI(openai_api_key=KEY,model_name=\"gpt-3.5-turbo\",temperature=0.5)"
   ]
  },
  {
   "cell_type": "code",
   "execution_count": 183,
   "metadata": {},
   "outputs": [],
   "source": [
    "TEMPLATE = \"\"\"\n",
    "  Text:{text}\n",
    "  You are an expert MCQ maker. Given the above text, it is your job to\\\n",
    "  create a quiz of {number} multiple choice questions(MCQ) of a {subject}. In a {tone} tone.\\\n",
    "  Make sure the questions are not repeated and check all the questions to be conforming the text as well.\n",
    "  Make sure to format your responses like RESPONSE_JSON below and use it as a guide.\\\n",
    "  Ensure to make {number} of MCQs\n",
    "  {response_json}\n",
    "\"\"\""
   ]
  },
  {
   "cell_type": "code",
   "execution_count": 184,
   "metadata": {},
   "outputs": [],
   "source": [
    "RESPONSE_JSON = {\n",
    "  \"1\":{\n",
    "    \"mcq\":\"multiple choice question\",\n",
    "    \"options\":{\n",
    "      \"A\": \" choice here\",\n",
    "      \"B\": \" choice here\",\n",
    "      \"C\": \" choice here\",\n",
    "      \"D\": \" choice here\"\n",
    "    },\n",
    "    \"correct\":\" correct answer letter\"\n",
    "    },\n",
    "  \"2\":{\n",
    "    \"mcq\":\"multiple choice question\",\n",
    "    \"options\":{\n",
    "      \"A\": \" choice here\",\n",
    "      \"B\": \" choice here\",\n",
    "      \"C\": \" choice here\",\n",
    "      \"D\": \" choice here\"\n",
    "    },\n",
    "    \"correct\":\" correct answer letter\"\n",
    "    },\n",
    "  \"3\":{\n",
    "    \"mcq\":\"multiple choice question letter\",\n",
    "    \"options\":{\n",
    "      \"A\": \" choice here\",\n",
    "      \"B\": \" choice here\",\n",
    "      \"C\": \" choice here\",\n",
    "      \"D\": \" choice here\"\n",
    "  },\n",
    "    \"correct\":\" correct answer\"\n",
    "  }\n",
    "}"
   ]
  },
  {
   "cell_type": "code",
   "execution_count": 185,
   "metadata": {},
   "outputs": [],
   "source": [
    "quiz_generation_prompt = PromptTemplate(\n",
    "  input_variables = [\"text\",\"number\",\"subject\",\"tone\",\"response_json\"],\n",
    "  template=TEMPLATE\n",
    ")"
   ]
  },
  {
   "cell_type": "code",
   "execution_count": 186,
   "metadata": {},
   "outputs": [],
   "source": [
    "quiz_chain=LLMChain(llm=llm,prompt=quiz_generation_prompt,output_key=\"quiz\",verbose=True)"
   ]
  },
  {
   "cell_type": "code",
   "execution_count": 187,
   "metadata": {},
   "outputs": [],
   "source": [
    "TEMPLATE2 = \"\"\"\n",
    "  you are an expert english grammarian and writer. Given a Multiple Choice Quiz for {subject} for students\\\n",
    "  You need to evaluate the complexity of the questions and give a complete analysis of the quiz. Only use at max 50 words for complexity analysis,\n",
    "  if the quiz is not at per with the cognitive and analytical abilities of the students,\\\n",
    "  update the quiz questions which needs to be changed and change the tone such that it perfectly fits the student.\n",
    "  Quiz_MCQs:\n",
    "  {quiz}\n",
    "  \n",
    "  Check from and expert English Writer of the above quiz:\n",
    "\"\"\""
   ]
  },
  {
   "cell_type": "code",
   "execution_count": 188,
   "metadata": {},
   "outputs": [],
   "source": [
    "quiz_evaluation_prompt = PromptTemplate(input_variables=[\"subject\",\"quiz\"],template=TEMPLATE2)"
   ]
  },
  {
   "cell_type": "code",
   "execution_count": 189,
   "metadata": {},
   "outputs": [],
   "source": [
    "review_chain=LLMChain(llm=llm,prompt=quiz_evaluation_prompt,output_key=\"review\",verbose=True)"
   ]
  },
  {
   "cell_type": "code",
   "execution_count": 190,
   "metadata": {},
   "outputs": [],
   "source": [
    "generate_evaluate_chain = SequentialChain(chains=[quiz_chain,review_chain],input_variables = [\"text\",\"number\",\"subject\",\"tone\",\"response_json\"],\n",
    "                                          output_variables = [\"quiz\",\"review\"], verbose=True)"
   ]
  },
  {
   "cell_type": "code",
   "execution_count": 191,
   "metadata": {},
   "outputs": [],
   "source": [
    "file_path = r\"C:\\Users\\user\\Documents\\Github\\projects\\openAi-langchain\\mcqGenerator-project\\data.txt\""
   ]
  },
  {
   "cell_type": "code",
   "execution_count": 192,
   "metadata": {},
   "outputs": [
    {
     "data": {
      "text/plain": [
       "'C:\\\\Users\\\\user\\\\Documents\\\\Github\\\\projects\\\\openAi-langchain\\\\mcqGenerator-project\\\\data.txt'"
      ]
     },
     "execution_count": 192,
     "metadata": {},
     "output_type": "execute_result"
    }
   ],
   "source": [
    "file_path"
   ]
  },
  {
   "cell_type": "code",
   "execution_count": 193,
   "metadata": {},
   "outputs": [],
   "source": [
    "with open(file_path,\"r\") as file:\n",
    "  TEXT = file.read()"
   ]
  },
  {
   "cell_type": "code",
   "execution_count": 194,
   "metadata": {},
   "outputs": [
    {
     "name": "stdout",
     "output_type": "stream",
     "text": [
      "Machine learning (ML) is a field of study in artificial intelligence concerned with the development and study of statistical algorithms that can learn from data and generalize to unseen data and thus perform tasks without explicit instructions.[1] Recently, artificial neural networks have been able to surpass many previous approaches in performance.[2]\n",
      "\n",
      "ML finds application in many fields, including natural language processing, computer vision, speech recognition, email filtering, agriculture, and medicine.[3][4] When applied to business problems, it is known under the name predictive analytics. Although not all machine learning is statistically based, computational statistics is an important source of the field's methods.\n",
      "\n",
      "The mathematical foundations of ML are provided by mathematical optimization (mathematical programming) methods. Data mining is a related (parallel) field of study, focusing on exploratory data analysis (EDA) through unsupervised learning.[6][7]\n",
      "\n",
      "From a theoretical viewpoint, probably approximately correct (PAC) learning provides a framework for describing machine learning.\n",
      "\n",
      "History\n",
      "See also: Timeline of machine learning\n",
      "The term machine learning was coined in 1959 by Arthur Samuel, an IBM employee and pioneer in the field of computer gaming and artificial intelligence.[8][9] The synonym self-teaching computers was also used in this time period.[10][11]\n",
      "\n",
      "Although the earliest machine learning model was introduced in the 1950s when Arthur Samuel invented a program that calculated the winning chance in checkers for each side, the history of machine learning roots back to decades of human desire and effort to study human cognitive processes.[12] In 1949, Canadian psychologist Donald Hebb published the book The Organization of Behavior, in which he introduced a theoretical neural structure formed by certain interactions among nerve cells.[13] Hebb's model of neurons interacting with one another set a groundwork for how AIs and machine learning algorithms work under nodes, or artificial neurons used by computers to communicate data.[12] Other researchers who have studied human cognitive systems contributed to the modern machine learning technologies as well, including logician Walter Pitts and Warren McCulloch, who proposed the early mathematical models of neural networks to come up with algorithms that mirror human thought processes.[12]\n",
      "\n",
      "By the early 1960s an experimental \"learning machine\" with punched tape memory, called Cybertron, had been developed by Raytheon Company to analyze sonar signals, electrocardiograms, and speech patterns using rudimentary reinforcement learning. It was repetitively \"trained\" by a human operator/teacher to recognize patterns and equipped with a \"goof\" button to cause it to reevaluate incorrect decisions.[14] A representative book on research into machine learning during the 1960s was Nilsson's book on Learning Machines, dealing mostly with machine learning for pattern classification.[15] Interest related to pattern recognition continued into the 1970s, as described by Duda and Hart in 1973.[16] In 1981 a report was given on using teaching strategies so that an artificial neural network learns to recognize 40 characters (26 letters, 10 digits, and 4 special symbols) from a computer terminal.[17]\n",
      "\n",
      "Tom M. Mitchell provided a widely quoted, more formal definition of the algorithms studied in the machine learning field: \"A computer program is said to learn from experience E with respect to some class of tasks T and performance measure P if its performance at tasks in T, as measured by P, improves with experience E.\"[18] This definition of the tasks in which machine learning is concerned offers a fundamentally operational definition rather than defining the field in cognitive terms. This follows Alan Turing's proposal in his paper \"Computing Machinery and Intelligence\", in which the question \"Can machines think?\" is replaced with the question \"Can machines do what we (as thinking entities) can do?\".[19]\n",
      "\n",
      "Modern-day machine learning has two objectives. One is to classify data based on models which have been developed; the other purpose is to make predictions for future outcomes based on these models. A hypothetical algorithm specific to classifying data may use computer vision of moles coupled with supervised learning in order to train it to classify the cancerous moles. A machine learning algorithm for stock trading may inform the trader of future potential predictions.[20]\n"
     ]
    }
   ],
   "source": [
    "print(TEXT)"
   ]
  },
  {
   "cell_type": "code",
   "execution_count": 195,
   "metadata": {},
   "outputs": [],
   "source": [
    "NUMBER=5,\n",
    "SUBJECT = \"machine learning\",\n",
    "TONE =\"simple\""
   ]
  },
  {
   "cell_type": "code",
   "execution_count": 196,
   "metadata": {},
   "outputs": [
    {
     "name": "stdout",
     "output_type": "stream",
     "text": [
      "\n",
      "\n",
      "\u001b[1m> Entering new SequentialChain chain...\u001b[0m\n",
      "\n",
      "\n",
      "\u001b[1m> Entering new LLMChain chain...\u001b[0m\n",
      "Prompt after formatting:\n",
      "\u001b[32;1m\u001b[1;3m\n",
      "  Text:Machine learning (ML) is a field of study in artificial intelligence concerned with the development and study of statistical algorithms that can learn from data and generalize to unseen data and thus perform tasks without explicit instructions.[1] Recently, artificial neural networks have been able to surpass many previous approaches in performance.[2]\n",
      "\n",
      "ML finds application in many fields, including natural language processing, computer vision, speech recognition, email filtering, agriculture, and medicine.[3][4] When applied to business problems, it is known under the name predictive analytics. Although not all machine learning is statistically based, computational statistics is an important source of the field's methods.\n",
      "\n",
      "The mathematical foundations of ML are provided by mathematical optimization (mathematical programming) methods. Data mining is a related (parallel) field of study, focusing on exploratory data analysis (EDA) through unsupervised learning.[6][7]\n",
      "\n",
      "From a theoretical viewpoint, probably approximately correct (PAC) learning provides a framework for describing machine learning.\n",
      "\n",
      "History\n",
      "See also: Timeline of machine learning\n",
      "The term machine learning was coined in 1959 by Arthur Samuel, an IBM employee and pioneer in the field of computer gaming and artificial intelligence.[8][9] The synonym self-teaching computers was also used in this time period.[10][11]\n",
      "\n",
      "Although the earliest machine learning model was introduced in the 1950s when Arthur Samuel invented a program that calculated the winning chance in checkers for each side, the history of machine learning roots back to decades of human desire and effort to study human cognitive processes.[12] In 1949, Canadian psychologist Donald Hebb published the book The Organization of Behavior, in which he introduced a theoretical neural structure formed by certain interactions among nerve cells.[13] Hebb's model of neurons interacting with one another set a groundwork for how AIs and machine learning algorithms work under nodes, or artificial neurons used by computers to communicate data.[12] Other researchers who have studied human cognitive systems contributed to the modern machine learning technologies as well, including logician Walter Pitts and Warren McCulloch, who proposed the early mathematical models of neural networks to come up with algorithms that mirror human thought processes.[12]\n",
      "\n",
      "By the early 1960s an experimental \"learning machine\" with punched tape memory, called Cybertron, had been developed by Raytheon Company to analyze sonar signals, electrocardiograms, and speech patterns using rudimentary reinforcement learning. It was repetitively \"trained\" by a human operator/teacher to recognize patterns and equipped with a \"goof\" button to cause it to reevaluate incorrect decisions.[14] A representative book on research into machine learning during the 1960s was Nilsson's book on Learning Machines, dealing mostly with machine learning for pattern classification.[15] Interest related to pattern recognition continued into the 1970s, as described by Duda and Hart in 1973.[16] In 1981 a report was given on using teaching strategies so that an artificial neural network learns to recognize 40 characters (26 letters, 10 digits, and 4 special symbols) from a computer terminal.[17]\n",
      "\n",
      "Tom M. Mitchell provided a widely quoted, more formal definition of the algorithms studied in the machine learning field: \"A computer program is said to learn from experience E with respect to some class of tasks T and performance measure P if its performance at tasks in T, as measured by P, improves with experience E.\"[18] This definition of the tasks in which machine learning is concerned offers a fundamentally operational definition rather than defining the field in cognitive terms. This follows Alan Turing's proposal in his paper \"Computing Machinery and Intelligence\", in which the question \"Can machines think?\" is replaced with the question \"Can machines do what we (as thinking entities) can do?\".[19]\n",
      "\n",
      "Modern-day machine learning has two objectives. One is to classify data based on models which have been developed; the other purpose is to make predictions for future outcomes based on these models. A hypothetical algorithm specific to classifying data may use computer vision of moles coupled with supervised learning in order to train it to classify the cancerous moles. A machine learning algorithm for stock trading may inform the trader of future potential predictions.[20]\n",
      "  You are an expert MCQ maker. Given the above text, it is your job to  create a quiz of (5,) multiple choice questions(MCQ) of a ('machine learning',). In a simple tone.  Make sure the questions are not repeated and check all the questions to be conforming the text as well.\n",
      "  Make sure to format your responses like RESPONSE_JSON below and use it as a guide.  Ensure to make (5,) of MCQs\n",
      "  {\"1\": {\"mcq\": \"multiple choice question\", \"options\": {\"A\": \" choice here\", \"B\": \" choice here\", \"C\": \" choice here\", \"D\": \" choice here\"}, \"correct\": \" correct answer letter\"}, \"2\": {\"mcq\": \"multiple choice question\", \"options\": {\"A\": \" choice here\", \"B\": \" choice here\", \"C\": \" choice here\", \"D\": \" choice here\"}, \"correct\": \" correct answer letter\"}, \"3\": {\"mcq\": \"multiple choice question letter\", \"options\": {\"A\": \" choice here\", \"B\": \" choice here\", \"C\": \" choice here\", \"D\": \" choice here\"}, \"correct\": \" correct answer\"}}\n",
      "\u001b[0m\n",
      "\n",
      "\u001b[1m> Finished chain.\u001b[0m\n",
      "\n",
      "\n",
      "\u001b[1m> Entering new LLMChain chain...\u001b[0m\n",
      "Prompt after formatting:\n",
      "\u001b[32;1m\u001b[1;3m\n",
      "  you are an expert english grammarian and writer. Given a Multiple Choice Quiz for ('machine learning',) for students  You need to evaluate the complexity of the questions and give a complete analysis of the quiz. Only use at max 50 words for complexity analysis,\n",
      "  if the quiz is not at per with the cognitive and analytical abilities of the students,  update the quiz questions which needs to be changed and change the tone such that it perfectly fits the student.\n",
      "  Quiz_MCQs:\n",
      "  {\n",
      "  \"1\": {\n",
      "    \"mcq\": \"What is machine learning?\",\n",
      "    \"options\": {\n",
      "      \"A\": \"A field of study in artificial intelligence concerned with the development and study of statistical algorithms\",\n",
      "      \"B\": \"A field of study in robotics concerned with developing physical machines\",\n",
      "      \"C\": \"A field of study in astronomy concerned with studying celestial bodies\",\n",
      "      \"D\": \"A field of study in biology concerned with plant genetics\"\n",
      "    },\n",
      "    \"correct\": \"A\"\n",
      "  },\n",
      "  \"2\": {\n",
      "    \"mcq\": \"What is one of the applications of machine learning?\",\n",
      "    \"options\": {\n",
      "      \"A\": \"Cooking recipes\",\n",
      "      \"B\": \"Natural language processing\",\n",
      "      \"C\": \"Car maintenance\",\n",
      "      \"D\": \"Gardening tips\"\n",
      "    },\n",
      "    \"correct\": \"B\"\n",
      "  },\n",
      "  \"3\": {\n",
      "    \"mcq\": \"Who coined the term 'machine learning'?\",\n",
      "    \"options\": {\n",
      "      \"A\": \"Donald Hebb\",\n",
      "      \"B\": \"Raytheon Company\",\n",
      "      \"C\": \"Arthur Samuel\",\n",
      "      \"D\": \"Tom M. Mitchell\"\n",
      "    },\n",
      "    \"correct\": \"C\"\n",
      "  },\n",
      "  \"4\": {\n",
      "    \"mcq\": \"What is the mathematical foundation of machine learning?\",\n",
      "    \"options\": {\n",
      "      \"A\": \"Algebra\",\n",
      "      \"B\": \"Geometry\",\n",
      "      \"C\": \"Mathematical optimization\",\n",
      "      \"D\": \"Trigonometry\"\n",
      "    },\n",
      "    \"correct\": \"C\"\n",
      "  },\n",
      "  \"5\": {\n",
      "    \"mcq\": \"What is the purpose of modern-day machine learning?\",\n",
      "    \"options\": {\n",
      "      \"A\": \"To confuse people\",\n",
      "      \"B\": \"To entertain audiences\",\n",
      "      \"C\": \"To classify data and make predictions for future outcomes\",\n",
      "      \"D\": \"To create chaos\"\n",
      "    },\n",
      "    \"correct\": \"C\"\n",
      "  }\n",
      "}\n",
      "  \n",
      "  Check from and expert English Writer of the above quiz:\n",
      "\u001b[0m\n",
      "\n",
      "\u001b[1m> Finished chain.\u001b[0m\n",
      "\n",
      "\u001b[1m> Finished chain.\u001b[0m\n"
     ]
    }
   ],
   "source": [
    "with get_openai_callback() as cb:\n",
    "  response=generate_evaluate_chain(\n",
    "    {\n",
    "      \"text\":TEXT,\n",
    "      \"number\":NUMBER,\n",
    "      \"subject\":SUBJECT,\n",
    "      \"tone\":TONE,\n",
    "      \"response_json\":json.dumps(RESPONSE_JSON)\n",
    "    }\n",
    "  )"
   ]
  },
  {
   "cell_type": "code",
   "execution_count": 197,
   "metadata": {},
   "outputs": [
    {
     "name": "stdout",
     "output_type": "stream",
     "text": [
      "Total Tokens: 2088\n",
      "Prompt Tokens: 1637\n",
      "Completion Tokens: 451\n",
      "Total Cost: 0.0033575\n"
     ]
    }
   ],
   "source": [
    "print(f\"Total Tokens: {cb.total_tokens}\")\n",
    "print(f\"Prompt Tokens: {cb.prompt_tokens}\")\n",
    "print(f\"Completion Tokens: {cb.completion_tokens}\")\n",
    "print(f\"Total Cost: {cb.total_cost}\")"
   ]
  },
  {
   "cell_type": "code",
   "execution_count": 198,
   "metadata": {},
   "outputs": [
    {
     "data": {
      "text/plain": [
       "{'text': 'Machine learning (ML) is a field of study in artificial intelligence concerned with the development and study of statistical algorithms that can learn from data and generalize to unseen data and thus perform tasks without explicit instructions.[1] Recently, artificial neural networks have been able to surpass many previous approaches in performance.[2]\\n\\nML finds application in many fields, including natural language processing, computer vision, speech recognition, email filtering, agriculture, and medicine.[3][4] When applied to business problems, it is known under the name predictive analytics. Although not all machine learning is statistically based, computational statistics is an important source of the field\\'s methods.\\n\\nThe mathematical foundations of ML are provided by mathematical optimization (mathematical programming) methods. Data mining is a related (parallel) field of study, focusing on exploratory data analysis (EDA) through unsupervised learning.[6][7]\\n\\nFrom a theoretical viewpoint, probably approximately correct (PAC) learning provides a framework for describing machine learning.\\n\\nHistory\\nSee also: Timeline of machine learning\\nThe term machine learning was coined in 1959 by Arthur Samuel, an IBM employee and pioneer in the field of computer gaming and artificial intelligence.[8][9] The synonym self-teaching computers was also used in this time period.[10][11]\\n\\nAlthough the earliest machine learning model was introduced in the 1950s when Arthur Samuel invented a program that calculated the winning chance in checkers for each side, the history of machine learning roots back to decades of human desire and effort to study human cognitive processes.[12] In 1949, Canadian psychologist Donald Hebb published the book The Organization of Behavior, in which he introduced a theoretical neural structure formed by certain interactions among nerve cells.[13] Hebb\\'s model of neurons interacting with one another set a groundwork for how AIs and machine learning algorithms work under nodes, or artificial neurons used by computers to communicate data.[12] Other researchers who have studied human cognitive systems contributed to the modern machine learning technologies as well, including logician Walter Pitts and Warren McCulloch, who proposed the early mathematical models of neural networks to come up with algorithms that mirror human thought processes.[12]\\n\\nBy the early 1960s an experimental \"learning machine\" with punched tape memory, called Cybertron, had been developed by Raytheon Company to analyze sonar signals, electrocardiograms, and speech patterns using rudimentary reinforcement learning. It was repetitively \"trained\" by a human operator/teacher to recognize patterns and equipped with a \"goof\" button to cause it to reevaluate incorrect decisions.[14] A representative book on research into machine learning during the 1960s was Nilsson\\'s book on Learning Machines, dealing mostly with machine learning for pattern classification.[15] Interest related to pattern recognition continued into the 1970s, as described by Duda and Hart in 1973.[16] In 1981 a report was given on using teaching strategies so that an artificial neural network learns to recognize 40 characters (26 letters, 10 digits, and 4 special symbols) from a computer terminal.[17]\\n\\nTom M. Mitchell provided a widely quoted, more formal definition of the algorithms studied in the machine learning field: \"A computer program is said to learn from experience E with respect to some class of tasks T and performance measure P if its performance at tasks in T, as measured by P, improves with experience E.\"[18] This definition of the tasks in which machine learning is concerned offers a fundamentally operational definition rather than defining the field in cognitive terms. This follows Alan Turing\\'s proposal in his paper \"Computing Machinery and Intelligence\", in which the question \"Can machines think?\" is replaced with the question \"Can machines do what we (as thinking entities) can do?\".[19]\\n\\nModern-day machine learning has two objectives. One is to classify data based on models which have been developed; the other purpose is to make predictions for future outcomes based on these models. A hypothetical algorithm specific to classifying data may use computer vision of moles coupled with supervised learning in order to train it to classify the cancerous moles. A machine learning algorithm for stock trading may inform the trader of future potential predictions.[20]',\n",
       " 'number': (5,),\n",
       " 'subject': ('machine learning',),\n",
       " 'tone': 'simple',\n",
       " 'response_json': '{\"1\": {\"mcq\": \"multiple choice question\", \"options\": {\"A\": \" choice here\", \"B\": \" choice here\", \"C\": \" choice here\", \"D\": \" choice here\"}, \"correct\": \" correct answer letter\"}, \"2\": {\"mcq\": \"multiple choice question\", \"options\": {\"A\": \" choice here\", \"B\": \" choice here\", \"C\": \" choice here\", \"D\": \" choice here\"}, \"correct\": \" correct answer letter\"}, \"3\": {\"mcq\": \"multiple choice question letter\", \"options\": {\"A\": \" choice here\", \"B\": \" choice here\", \"C\": \" choice here\", \"D\": \" choice here\"}, \"correct\": \" correct answer\"}}',\n",
       " 'quiz': '{\\n  \"1\": {\\n    \"mcq\": \"What is machine learning?\",\\n    \"options\": {\\n      \"A\": \"A field of study in artificial intelligence concerned with the development and study of statistical algorithms\",\\n      \"B\": \"A field of study in robotics concerned with developing physical machines\",\\n      \"C\": \"A field of study in astronomy concerned with studying celestial bodies\",\\n      \"D\": \"A field of study in biology concerned with plant genetics\"\\n    },\\n    \"correct\": \"A\"\\n  },\\n  \"2\": {\\n    \"mcq\": \"What is one of the applications of machine learning?\",\\n    \"options\": {\\n      \"A\": \"Cooking recipes\",\\n      \"B\": \"Natural language processing\",\\n      \"C\": \"Car maintenance\",\\n      \"D\": \"Gardening tips\"\\n    },\\n    \"correct\": \"B\"\\n  },\\n  \"3\": {\\n    \"mcq\": \"Who coined the term \\'machine learning\\'?\",\\n    \"options\": {\\n      \"A\": \"Donald Hebb\",\\n      \"B\": \"Raytheon Company\",\\n      \"C\": \"Arthur Samuel\",\\n      \"D\": \"Tom M. Mitchell\"\\n    },\\n    \"correct\": \"C\"\\n  },\\n  \"4\": {\\n    \"mcq\": \"What is the mathematical foundation of machine learning?\",\\n    \"options\": {\\n      \"A\": \"Algebra\",\\n      \"B\": \"Geometry\",\\n      \"C\": \"Mathematical optimization\",\\n      \"D\": \"Trigonometry\"\\n    },\\n    \"correct\": \"C\"\\n  },\\n  \"5\": {\\n    \"mcq\": \"What is the purpose of modern-day machine learning?\",\\n    \"options\": {\\n      \"A\": \"To confuse people\",\\n      \"B\": \"To entertain audiences\",\\n      \"C\": \"To classify data and make predictions for future outcomes\",\\n      \"D\": \"To create chaos\"\\n    },\\n    \"correct\": \"C\"\\n  }\\n}',\n",
       " 'review': 'The complexity of the quiz is appropriate for students studying machine learning. The questions cover fundamental concepts and applications, with clear and concise options. However, the tone could be more engaging and student-friendly. Consider adding visuals or real-life examples to enhance learning experience.'}"
      ]
     },
     "execution_count": 198,
     "metadata": {},
     "output_type": "execute_result"
    }
   ],
   "source": [
    "response"
   ]
  },
  {
   "cell_type": "code",
   "execution_count": 199,
   "metadata": {},
   "outputs": [],
   "source": [
    "quiz = json.loads(response.get(\"quiz\"))"
   ]
  },
  {
   "cell_type": "code",
   "execution_count": 200,
   "metadata": {},
   "outputs": [
    {
     "data": {
      "text/plain": [
       "dict"
      ]
     },
     "execution_count": 200,
     "metadata": {},
     "output_type": "execute_result"
    }
   ],
   "source": [
    "type(quiz)"
   ]
  },
  {
   "cell_type": "code",
   "execution_count": 201,
   "metadata": {},
   "outputs": [],
   "source": [
    "quiz_table_data = []\n",
    "for key,value in quiz.items():\n",
    "  mcq = value[\"mcq\"]\n",
    "  options = \" | \".join (\n",
    "    [\n",
    "      f\"{option}:{option_value}\"\n",
    "      for option, option_value in value[\"options\"].items()\n",
    "    ] )\n",
    "  correct = value[\"correct\"]\n",
    "  quiz_table_data.append({\"MCQ\":mcq,\"Choices\":options, \"Correct\":correct})"
   ]
  },
  {
   "cell_type": "code",
   "execution_count": 202,
   "metadata": {},
   "outputs": [
    {
     "data": {
      "text/plain": [
       "[{'MCQ': 'What is machine learning?',\n",
       "  'Choices': 'A:A field of study in artificial intelligence concerned with the development and study of statistical algorithms | B:A field of study in robotics concerned with developing physical machines | C:A field of study in astronomy concerned with studying celestial bodies | D:A field of study in biology concerned with plant genetics',\n",
       "  'Correct': 'A'},\n",
       " {'MCQ': 'What is one of the applications of machine learning?',\n",
       "  'Choices': 'A:Cooking recipes | B:Natural language processing | C:Car maintenance | D:Gardening tips',\n",
       "  'Correct': 'B'},\n",
       " {'MCQ': \"Who coined the term 'machine learning'?\",\n",
       "  'Choices': 'A:Donald Hebb | B:Raytheon Company | C:Arthur Samuel | D:Tom M. Mitchell',\n",
       "  'Correct': 'C'},\n",
       " {'MCQ': 'What is the mathematical foundation of machine learning?',\n",
       "  'Choices': 'A:Algebra | B:Geometry | C:Mathematical optimization | D:Trigonometry',\n",
       "  'Correct': 'C'},\n",
       " {'MCQ': 'What is the purpose of modern-day machine learning?',\n",
       "  'Choices': 'A:To confuse people | B:To entertain audiences | C:To classify data and make predictions for future outcomes | D:To create chaos',\n",
       "  'Correct': 'C'}]"
      ]
     },
     "execution_count": 202,
     "metadata": {},
     "output_type": "execute_result"
    }
   ],
   "source": [
    "quiz_table_data"
   ]
  },
  {
   "cell_type": "code",
   "execution_count": 203,
   "metadata": {},
   "outputs": [],
   "source": [
    "quiz = pd.DataFrame(quiz_table_data)"
   ]
  },
  {
   "cell_type": "code",
   "execution_count": 204,
   "metadata": {},
   "outputs": [],
   "source": [
    "quiz.to_csv(\"machinelearning.csv\",index=False)"
   ]
  },
  {
   "cell_type": "code",
   "execution_count": null,
   "metadata": {},
   "outputs": [],
   "source": []
  }
 ],
 "metadata": {
  "kernelspec": {
   "display_name": "testingopenai",
   "language": "python",
   "name": "python3"
  },
  "language_info": {
   "codemirror_mode": {
    "name": "ipython",
    "version": 3
   },
   "file_extension": ".py",
   "mimetype": "text/x-python",
   "name": "python",
   "nbconvert_exporter": "python",
   "pygments_lexer": "ipython3",
   "version": "3.12.4"
  }
 },
 "nbformat": 4,
 "nbformat_minor": 2
}
