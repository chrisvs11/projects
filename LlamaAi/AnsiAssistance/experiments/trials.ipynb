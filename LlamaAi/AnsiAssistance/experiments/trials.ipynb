{
 "cells": [
  {
   "cell_type": "code",
   "execution_count": 2,
   "metadata": {},
   "outputs": [
    {
     "name": "stdout",
     "output_type": "stream",
     "text": [
      "Ok\n"
     ]
    }
   ],
   "source": [
    "print(\"Ok\")"
   ]
  },
  {
   "cell_type": "code",
   "execution_count": 3,
   "metadata": {},
   "outputs": [
    {
     "name": "stderr",
     "output_type": "stream",
     "text": [
      "c:\\Users\\user\\anaconda3\\envs\\ansibot\\lib\\site-packages\\pinecone\\data\\index.py:1: TqdmWarning: IProgress not found. Please update jupyter and ipywidgets. See https://ipywidgets.readthedocs.io/en/stable/user_install.html\n",
      "  from tqdm.autonotebook import tqdm\n"
     ]
    }
   ],
   "source": [
    "from langchain.chains import RetrievalQA\n",
    "from langchain.embeddings import HuggingFaceEmbeddings\n",
    "from langchain_community.document_loaders import PyPDFLoader,DirectoryLoader\n",
    "from langchain.text_splitter import RecursiveCharacterTextSplitter\n",
    "# from langchain_pinecone import PineconeVectorStore\n",
    "from langchain.vectorstores.pinecone import PineconeRetriever\n",
    "from langchain.prompts import PromptTemplate\n",
    "from langchain.llms import CTransformers\n",
    "from pinecone import Pinecone\n",
    "from dotenv import load_dotenv\n",
    "import pypdf\n",
    "import os\n",
    "\n",
    "\n"
   ]
  },
  {
   "cell_type": "code",
   "execution_count": 4,
   "metadata": {},
   "outputs": [
    {
     "data": {
      "text/plain": [
       "True"
      ]
     },
     "execution_count": 4,
     "metadata": {},
     "output_type": "execute_result"
    }
   ],
   "source": [
    "load_dotenv()"
   ]
  },
  {
   "cell_type": "code",
   "execution_count": 5,
   "metadata": {},
   "outputs": [],
   "source": [
    "PINECONE_API_KEY = \"92c9671d-43cc-48e8-9a52-c60bc89ff702\""
   ]
  },
  {
   "cell_type": "code",
   "execution_count": 6,
   "metadata": {},
   "outputs": [
    {
     "name": "stdout",
     "output_type": "stream",
     "text": [
      "92c9671d-43cc-48e8-9a52-c60bc89ff702\n"
     ]
    }
   ],
   "source": [
    "print(PINECONE_API_KEY)"
   ]
  },
  {
   "cell_type": "code",
   "execution_count": 7,
   "metadata": {},
   "outputs": [],
   "source": [
    "data=r\"C:\\Users\\user\\Documents\\Github\\projects\\LlamaAi\\AnsiAssistance\\data\""
   ]
  },
  {
   "cell_type": "code",
   "execution_count": 8,
   "metadata": {},
   "outputs": [],
   "source": [
    "def load_pdf(data):\n",
    "    loader = DirectoryLoader(data,glob=\"*.pdf\",loader_cls=PyPDFLoader)\n",
    "    documents = loader.load()\n",
    "    return documents\n"
   ]
  },
  {
   "cell_type": "code",
   "execution_count": 9,
   "metadata": {},
   "outputs": [],
   "source": [
    "#Extract data from the pdf\n",
    "documents = load_pdf(data)"
   ]
  },
  {
   "cell_type": "code",
   "execution_count": 10,
   "metadata": {},
   "outputs": [
    {
     "data": {
      "text/plain": [
       "[Document(metadata={'source': 'C:\\\\Users\\\\user\\\\Documents\\\\Github\\\\projects\\\\LlamaAi\\\\AnsiAssistance\\\\data\\\\E2624-17-SP-Torque-Calibration-Testing-Machine.pdf', 'page': 0}, page_content=\"Designation: E2624 −17\\nStandard Practice for\\nTorque Calibration of Testing Machines1\\nThis standard is issued under the ﬁxed designation E2624; the number immediately following the designation indicates the year of\\noriginal adoption or, in the case of revision, the year of last revision. A number in parentheses indicates the year of last reapproval. Asuperscript epsilon ( ´) indicates an editorial change since the last revision or reapproval.\\n1. Scope*\\n1.1 This practice covers procedures and requirements for\\nthe calibration of torque for static and quasi-static torquecapable testing machines. These may, or may not, have torqueindicating systems and include those devices used for thecalibration of hand torque tools. Testing machines may becalibrated by one of the three following methods or combina-tion thereof:\\n1.1.1 Use of standard weights and lever arms.1.1.2 Use of elastic torque measuring devices.1.1.3 Use of elastic force measuring devices and lever arms.1.1.4 Any of the methods require a speciﬁc uncertainty of\\nmeasurement, displaying metrological traceability to The In-ternational System of Units (SI).\\nNOTE1—– for further deﬁnition of the term metrological traceability,\\nrefer to the latest revision of JCGM 200: International vocabulary ofmetrology — Basic and general concepts and associated terms (VIM).\\n1.2 The procedures of 1.1.1 ,1.1.2 , and 1.1.3 apply to the\\ncalibration of the torque-indicating systems associated with thetesting machine, such as a scale, dial, marked or unmarkedrecorder chart, digital display, etc. In all cases the buyer/owner/user must designate the torque-indicating system(s) to becalibrated and included in the report.\\n1.3 Since conversion factors are not required in this\\npractice, either english units, metric units, or SI units can beused as the standard.\\n1.4 Torque values indicated on displays/printouts of testing\\nmachine data systems—be they instantaneous, delayed, stored,or retransmitted—which are calibrated with provisions of\\n1.1.1 ,1.1.2 or1.1.3 or a combination thereof, and are within\\nthe 61 % of reading accuracy requirement, comply with this\\npractice.\\n1.5 The following applies to all speciﬁed limits in this\\nstandard: For purposes of determining conformance with thesespeciﬁcations, an observed value or a calculated value shall berounded “to the nearest unit” in the last right-hand digit used inexpressing the speciﬁcation limit, in accordance with the\\nrounding method of Practice\\nE29, for Using Signiﬁcant Digits\\nin Test Data to Determine Conformance with Speciﬁcations.\\n1.6 This standard does not purport to address all of the\\nsafety concerns, if any, associated with its use. It is theresponsibility of the user of this standard to establish appro-priate safety, health, and environmental practices and deter-mine the applicability of regulatory limitations prior to use.\\n1.7 This international standard was developed in accor-\\ndance with internationally recognized principles on standard-ization established in the Decision on Principles for theDevelopment of International Standards, Guides and Recom-mendations issued by the World Trade Organization TechnicalBarriers to Trade (TBT) Committee.\\n2. Referenced Documents\\n2.1 ASTM Standards:\\n2\\nE6Terminology Relating to Methods of Mechanical Testing\\nE29Practice for Using Signiﬁcant Digits in Test Data to\\nDetermine Conformance with Speciﬁcations\\nE74Practice of Calibration of Force-Measuring Instruments\\nfor Verifying the Force Indication of Testing Machines\\nE2428 Practice for Calibration and Veriﬁcation of Torque\\nTransducers\\n2.2 NIST Technical Notes:\\nNIST Technical Note 1297 Guidelines for Evaluating and\\nExpressing the Uncertainty of NIST Measurement Re-sults\\n3\\n2.3 BIPM Standard:4\\nJCGM 200 : International vocabulary of metrology — Basic\\nand general concepts and associated terms (VIM)\\n3. Terminology\\n3.1 Deﬁnitions: In addition to the terms listed, see Termi-\\nnology E6.\\n1This practice is under the jurisdiction of ASTM Committee E28on Mechanical\\nTesting and is the direct responsibility of Subcommittee E28.01 on Calibration of\\nMechanical Testing Machines and Apparatus.\\nCurrent edition approved Sept. 1, 2017. Published November 2017. Originally\\napproved in 2009. Last previous edition approved in 2015 as E2624–15. DOI:10.1520/E2624-17.2For referenced ASTM standards, visit the ASTM website, www.astm.org, or\\ncontact ASTM Customer Service at service@astm.org. For Annual Book of ASTM\\nStandards volume information, refer to the standard’s Document Summary page on\\nthe ASTM website.\\n3Available from National Institute of Standards and Technology (NIST), 100\\nBureau Dr., Stop 1070, Gaithersburg, MD 20899-1070, http://www.nist.gov.\\n4Available from BIPM (Bureau International des Poids et Mesures)- Pavillon de\\nBreteuil F-92312 Sèvres Cedex FRANCE http://www.bipm.org\\n*A Summary of Changes section appears at the end of this standard\\nCopyright © ASTM International, 100 Barr Harbor Drive, PO Box C700, West Conshohocken, PA 19428-2959. United StatesThis international standard was developed in accordance with internationally recognized principles on standardization established in the Decisi on on Principles for the\\nDevelopment of International Standards, Guides and Recommendations issued by the World Trade Organization Technical Barriers to Trade (TBT) Commi ttee.\\n1\\n\\x0b8&5\\x0c\\x038QLYHUVLGDG\\x03GH\\x03&RVWD\\x035LFD\\x03SXUVXDQW\\x03WR\\x03/LFHQVH\\x03$JUHHPHQW\\x11\\x031R\\x03IXUWKHU\\x03UHSURGXFWLRQV\\x03DXWKRUL]HG\\x11'RZQORDGHG\\x12SULQWHG\\x03E\\\\\\x03&RS\\\\ULJKW\\x03E\\\\\\x03$670\\x03,QW\\nO\\x03\\x0bDOO\\x03ULJKWV\\x03UHVHUYHG\\x0c\\x036XQ\\x03$SU\\x03\\x14\\x17\\x03\\x14\\x19\\x1d\\x15\\x19\\x1d\\x18\\x14\\x0387&\\x03\\x15\\x13\\x15\\x17\"),\n",
       " Document(metadata={'source': 'C:\\\\Users\\\\user\\\\Documents\\\\Github\\\\projects\\\\LlamaAi\\\\AnsiAssistance\\\\data\\\\E2624-17-SP-Torque-Calibration-Testing-Machine.pdf', 'page': 1}, page_content=\"3.1.1 accuracy— the permissible variation from the correct\\nvalue.\\n3.1.1.1 Discussion— A testing machine is said to be accurate\\nif the indicated torque is within the speciﬁed permissiblevariation from the actual torque. In this practice the word“accurate” applied to a testing machine is used withoutnumerical values. For example, “An accurate testing machinewas used for the investigation.” The accuracy of a testingmachine should not be confused with sensitivity. For example,a testing machine might be very sensitive; that is, it mightindicate quickly and deﬁnitely small changes in torque, butnevertheless, be very inaccurate. On the other hand, theaccuracy of the results is in general limited by the sensitivity.\\n3.1.2 error, n— for a measurement or reading, the amount it\\ndeviates from a known or reference value represented by ameasurement standard. Mathematically, the error is calculatedby subtracting the accepted value from the measurement orreading.\\n3.1.2.1 Discussion— The word “error” shall be used with\\nnumerical values, for example, “At a torque of 3000 lbf·in., theerror of the testing machine was +10 lbf·in.”\\n3.1.3 percent error, n— in the case of a testing machine or\\ndevice, the ratio, expressed as a percent, of an error to theknown accepted value represented by a measurement standard.\\n3.1.4 reference standard, n— an item, typically a material or\\nan instrument, that has been characterized by recognizedstandards or testing laboratories, for some of its physical ormechanical properties, and that is generally used for calibrationor veriﬁcation, or both, of a measurement system or forevaluating a test method.\\n3.1.4.1 Discussion— Torque may be generated by a length\\ncalibrated arm and calibrated masses used to produce knowntorque. Alternatively, torque applied to a torque measuringdevice to be calibrated may be measured by the use of areference torque measurement device, that is, an elastic torquecalibration device, or a length calibrated arm and an elasticforce measuring device.\\n3.1.5 resolution, n— for a particular measurement device,\\nthe smallest change in the quantity being measured that causesa perceptible change in the corresponding indication.\\n3.1.5.1 Discussion— Resolution may depend on the value\\n(magnitude) of the quantity being measured.\\n3.1.5.2 Discussion— For paper charts or analog indicators,\\nthe resolution should not be assumed to be better (smaller) than1⁄10 of the spacing between graduations. For digital devices,\\nthe best resolution potentially achievable is the smallestdifference between two different readings given by the display.\\n3.1.5.3 Discussion— For both analog and digital devices, the\\nactual resolution can be signiﬁcantly poorer than describedabove, due to factors such as noise, friction, etc.\\n3.1.6 torque, n— a moment (of forces) that produces or tends\\nto produce rotation or torsion.\\n3.2 Deﬁnitions of Terms Speciﬁc to This Standard:\\n3.2.1 calibrated range of torque—in the case of testing\\nmachines , the range of indicated torque for which the testing\\nmachine gives results within the permissible variations speci-ﬁed.3.2.2 calibration torque— a torque with metrological trace-\\nability derived from standards of mass and length and ofspeciﬁc uncertainty of measurement, which can be applied totorque measuring devices.\\n3.2.3 capacity range—in the case of testing machines , the\\nrange of torque for which it is designed.\\n3.2.3.1 Discussion— Some testing machines have more than\\none capacity range, that is, multiple ranges.\\n3.2.4 correction—in the case of testing machines , the\\ndifference obtained by subtracting the indicated torque fromthe reference value of the applied torque.\\n3.2.5 elastic torque-measuring device— a device or system\\nconsisting of an elastic member combined with a device forindicating the measured values (or a quantity proportional tothe measured value) of deformation of the member under anapplied torque.\\n3.2.5.1 Discussion— The instrumentation for the elastic de-\\nvices may be either an electrical or a mechanical device, that is,a scale or pointer system.\\n3.2.6 expanded uncertainty— a statistical measurement of\\nthe probable limits of error of a measurement, NIST TechnicalNote 1297 treats the statistical approach including the ex-panded uncertainty.\\n3.2.7 lower torque limit of calibration range— the lowest\\nvalue of torque at which a torque measuring system can becalibrated.\\n3.2.8 parasitic torque— Forces that bypass the torque axis\\nand can cause errors in determining the value of the torque.\\n3.2.8.1 Discussion— Usually the result of off axis loading\\n(bending moments) caused by cables, conduit, or hydrauliclines attached to objects that are in the torque path and causesubsequent errors in the measured torque.\\n3.2.9 permissible variation (or tolerance)— in the case of\\ntesting machines\\n, the maximum allowable error in the value of\\nthe quantity indicated.\\n3.2.9.1 Discussion— It is convenient to express permissible\\nvariation in terms of percentage of error. The numerical valueof the permissible variation for a testing machine is so statedhereafter in these practices.\\n3.2.10 torque-capable testing machine— a testing machine\\nor device that has provision for applying a torque to aspecimen.\\n4. Signiﬁcance and Use\\n4.1 Testing machines that apply and indicate torque are used\\nin many industries, in many ways. They may be used in aresearch laboratory to measure material properties, and in aproduction line to qualify a product for shipment. No matterwhat the end use of the machine may be, it is necessary forusers to know the amount of torque that is applied, and that theaccuracy of the torque value is traceable to the SI. Thisstandard provides a procedure to verify these machines anddevices, in order that the indicated torque values may betraceable. A key element to having metrological traceability isthat the devices used in the calibration produce known torquecharacteristics, and have been calibrated in accordance withPractice\\nE2428 .\\nE2624 − 17\\n2\\n\\x0b8&5\\x0c\\x038QLYHUVLGDG\\x03GH\\x03&RVWD\\x035LFD\\x03SXUVXDQW\\x03WR\\x03/LFHQVH\\x03$JUHHPHQW\\x11\\x031R\\x03IXUWKHU\\x03UHSURGXFWLRQV\\x03DXWKRUL]HG\\x11'RZQORDGHG\\x12SULQWHG\\x03E\\\\\\x03&RS\\\\ULJKW\\x03E\\\\\\x03$670\\x03,QW\\nO\\x03\\x0bDOO\\x03ULJKWV\\x03UHVHUYHG\\x0c\\x036XQ\\x03$SU\\x03\\x14\\x17\\x03\\x14\\x19\\x1d\\x15\\x19\\x1d\\x18\\x14\\x0387&\\x03\\x15\\x13\\x15\\x17\"),\n",
       " Document(metadata={'source': 'C:\\\\Users\\\\user\\\\Documents\\\\Github\\\\projects\\\\LlamaAi\\\\AnsiAssistance\\\\data\\\\E2624-17-SP-Torque-Calibration-Testing-Machine.pdf', 'page': 2}, page_content=\"4.2 This standard may be used by those using, those\\nmanufacturing, and those providing calibration service fortorque capable testing machines or devices and related instru-mentation.\\n5. Calibration Devices\\n5.1 Calibration by Standard Weights and Lever Arms—\\nCalibration by the application of standard weights using a leverarm to the torque sensing mechanism of the testing machine,where practicable, is the most accurate method. Its limitationsare: (1)the small range of torque that can be calibrated, (2)the\\nnon-portability of any high capacity standard weights and (3)\\nanalysis of all parasitic torque components.\\n5.2 Calibration by Elastic Calibration Devices— The sec-\\nond method of calibration of testing machines involves mea-surement of the elastic strain or rotation under the torque of atorque transducer or a force transducer/lever arm combination.The elastic calibration devices are less constrained than thestandards referenced in\\n5.1. The design of ﬁxtures and inter-\\nfaces between the calibration device and the machine arecritical. When using elastic torque or force measuring devices,use the devices only over their Class A loading ranges asdetermined by Practice\\nE2428 for elastic torque measuring\\ndevices or Practice E74 for elastic force measuring devices.\\n6. Requirements for Torque Standards\\n6.1 Weights and Lever Arms— Weights and lever arms with\\ntraceability derived from standards of mass, force, length andof speciﬁc measurement uncertainty may be used to applytorque to testing machines. Weights used as force standardsshall be made of rolled, forged, or cast metal. The expandeduncertainty, with a conﬁdence factor of 95% (k=2), for theweight values shall not exceed 0.1 %.\\n6.1.1 The force exerted by a mass in air is determined by:\\nF5MgS12d\\nDD (1)\\nwhere:\\nF = force, N\\nM = true mass of the weight, kg\\ng = local acceleration due to gravity, m/s2,\\nd = air density (1.2 kg/m3), and\\nD = density of the weight in the same units as d\\nNOTE2—Neglecting air buoyancy can cause errors on the order of\\n0.01% to 0.05% depending on the metal the weight is fabricated from. Ifit is neglected, it should be considered in any uncertainty analysis.\\n6.1.2 For the purposes of this standard, gcan be calculated\\nwith a sufficient uncertainty using the following formula.\\ng59.7803 @110.0053 ~sin[ !2#20.000001967 h (2)\\nwhere:\\n[= latitude\\nh= elevation above sea level in meters.\\nNOTE3—Formula 2 corrects for the shape of the earth and elevation\\nabove sea level. The correction for the shape of the earth is a simpliﬁcationof the World Geodetic System 84 Ellipsoidal Gravity Formula. The resultsobtained with the simpliﬁed formula differ by less than 0.0005%. The termthat corrects for altitude, corrects for an increased distance from the centerof the earth and the counter-acting Bouguer effect of localized increasedmass of the earth. The formula assumes a rock density of 2.67 g/cc. If therock density changed by 0.5 g/cc, an error of 0.003 % would result.\\n6.2 The force in customary units exerted by a weight in air\\nis calculated as follows:\\nFc5Mg\\n9.80665 S12d\\nDD (3)\\nwhere:\\nFc = force expressed in customary units, that is, pound\\nforce or kilogram force\\nM = true mass of the weight\\ng = Local acceleration due to gravity, m/s2\\nd = air density (1. 2 kg/m3)\\nD = density of the weight in the same units as d, and\\n9.80665 = The factor converting SI units of force into\\ncustomary units of force; this factor is equal to thevalue of standard gravity. 9.80665 m/s\\n2\\nNOTE4—If M, the mass of the weight is in pounds, the force will be in\\npound-force units (lbf). If M is in kilograms, the force will be inkilogram-force units (kgf). These customary force units are related to thenewton (N), the SI unit of force, by the following relationships:\\n1lbf 54.448222N (4)\\n1kgf 59.80665N\\n~exact ! (5)\\n6.2.1 For use in verifying testing machines, corrections for\\nlocal values of gravity and air buoyancy to weights calibratedin pounds can be made with sufficient accuracy using themultiplying factors from\\nTable 1 . Alternatively the following\\nformula may be used to ﬁnd the multiplying factor, MF.\\nMultiply MFtimes the mass of the weight given in pounds to\\nobtain the value of force in pounds-force, corrected for localgravity and air buoyancy.\\nMF 59.7803 @110.0053 ~sin[!2#20.000001967 h\\n9.8066530.99985\\n(6)\\nwhere:\\n[= latitude\\nh= elevation above sea level in metres.\\nNOTE5—Equation 6 and Table 1 correct for the shape of the earth,\\nelevation above sea level, and air buoyancy. The correction for the shapeof the earth is a simpliﬁcation of the World Geodetic System 84Ellipsoidal Gravity Formula. The results obtained with the simpliﬁedformula differ by less than 0.0005%. The term that corrects for altitude,corrects for an increased distance from the center of the earth and thecounter-acting Bouguer effect of localized increased mass of the earth.The formula assumes a rock density of 2.67 g/cc. If the rock densitychanged by 0.5 g/cc, an error of 0.003 % would result. The largestinaccuracy to be expected, due to extremes in air pressure and humiditywhen using steel weights, is approximately 0.01%. If aluminum weightsare used, errors on the order of 0.03% can result.\\n6.2.2 Standard weights are typically denominated in a unit\\nof mass. When a standard weight has been calibrated such thatit exerts a speciﬁc force under prescribed conditions, it must berecognized that the weight will exert that force only underthose conditions. When used in other ﬁelds of gravity, it isnecessary to correct the calibrated force value by multiplyingthe force value by the value for local gravity and dividing bythe value of gravity for which the weight was calibrated. Anyrequired air buoyancy corrections must also be taken intoaccount.\\nE2624 − 17\\n3\\n\\x0b8&5\\x0c\\x038QLYHUVLGDG\\x03GH\\x03&RVWD\\x035LFD\\x03SXUVXDQW\\x03WR\\x03/LFHQVH\\x03$JUHHPHQW\\x11\\x031R\\x03IXUWKHU\\x03UHSURGXFWLRQV\\x03DXWKRUL]HG\\x11'RZQORDGHG\\x12SULQWHG\\x03E\\\\\\x03&RS\\\\ULJKW\\x03E\\\\\\x03$670\\x03,QW\\nO\\x03\\x0bDOO\\x03ULJKWV\\x03UHVHUYHG\\x0c\\x036XQ\\x03$SU\\x03\\x14\\x17\\x03\\x14\\x19\\x1d\\x15\\x19\\x1d\\x18\\x14\\x0387&\\x03\\x15\\x13\\x15\\x17\"),\n",
       " Document(metadata={'source': 'C:\\\\Users\\\\user\\\\Documents\\\\Github\\\\projects\\\\LlamaAi\\\\AnsiAssistance\\\\data\\\\E2624-17-SP-Torque-Calibration-Testing-Machine.pdf', 'page': 3}, page_content=\"6.3 The lever arm or wheel shall be calibrated to determine\\nthe length or radius within a known uncertainty, that istraceable to SI. The expanded uncertainty, with a conﬁdencefactor of 95% (k=2), for the measured length of the calibrationlever arm shall not exceed 0.1 %.\\n6.4 Elastic torque-measuring instruments may be used as\\nsecondary standards and shall be calibrated by primary stan-dards. Practice\\nE2428 deﬁnes the calibration of elastic torque-\\nmeasuring instruments. Practice E74deﬁnes the calibration of\\nelastic force-measuring instruments.\\n7. Selection of Applied Torques\\n7.1 Determine the upper and lower limits of the torque\\nrange of the testing machine to be calibrated. In no case shallthe calibrated range of torque include torques below 200 timesthe resolution of the torque indicator.\\n7.2 If the lower limit of the torque range is greater or equal\\nto one-tenth the upper limit, calibrate the testing machine byapplying at least ﬁve test torque values, at least two times, withthe difference between any two successive torque value appli-cations being no larger than one-third the difference betweenthe selected maximum and minimum test torque values.Minimum torque values may be one-tenth the maximum torquevalues. Applied torque values on the second run are to beapproximately the same as those on the ﬁrst run. Report allvalues, including the indicator reading, after removal oftorques. Include indicator resolution for the minimum torquevalue.\\nNOTE6—When calibration is done using lever arms and weights, the\\ncombination of standard weights and lever arms may not exactly corre-spond to the desired upper and lower torques to be applied to the testingmachine. In this case torque values that differ from the desired value by62.5 % are acceptable.\\n7.3 When the lower limit of a calibrated torque range is less\\nthan 10 % of the capacity of the range, or where the resolutionof the torque indicator changes automatically and extends orselects ranges without the inﬂuence of an operator, verify thetorque range by applying at least two successive series oftorque values, arranged in overlapping decade groups, suchthat the maximum torque value in one decade is the minimumtorque value in the next higher decade. Starting with theselected minimal torque value in each decade, there are to be at\\nleast ﬁve torque applications, in an approximate ratio of 1:1,2:1, 4:1, 7:1, 10:1 or 1:1, 2.5:1, 5:1, 7.5:1, 10:1, unless themaximum torque value is reached prior to completing alltorque application ratios. The decade’s minimum torque mustbe a torque 200 or more times the resolution of the torqueindicator in each decade. Report all torque values and theirpercent errors. Include the resolution of the torque indicator foreach decade. See\\n3.1.6 andAppendix X1 , which contains a\\nnon-mandatory method for determining resolution.\\nNOTE7—Example: If full scale is 5000 lbf·in. and the minimal torque\\nresolution is 0.04 lbf·in., the minimum calibrated torque would be 8 lbf·in.(0.04 × 200). Instead of decades of 8, 80 and 800 lbf·in., three decades of10, 100 and 1000 lbf·in. could be selected to cover the torque applicationrange. Suitable calibration test torque values would then be approximately10, 20, 40, 70, 100, 200, 400, 700, 1000, 2000, 4000, 5000 lbf·in. Notethat the uppermost decade would not be a complete decade and would beterminated with the maximum torque value in the range. If the alternatedistribution of torques is used, the veriﬁcation torques selected would be10, 25, 50, 75, 100, 250, 500, 750, 1000, 2500, 3750, 5000 lbf·in.\\n7.4 Report the resolution of each decade and the percent\\nerror for each test torque value of the two runs. The largestreported error of the two sets of the test runs is the maximumerror for the torque range.\\n7.5 Approximately 30 seconds after removing the maximum\\ntorque in a range, record the return to zero indicator reading.This reading shall be 0.0 6either the resolution, 0.1 % of the\\nmaximum torque just applied, or 1 % of the lowest calibratedtorque in the range, whichever is greater.\\n8. Extraneous Factors\\n8.1 For the purpose of determining the calibrated torque\\nrange of a testing machine, apply all torque values such that theresultant torque is as nearly along the axis of the torque sensingdevice as is possible. Care should be given to minimize anyconcentricity or angular misalignment.\\n8.2 Where a lever arm is to be used, ensure that there is\\nminimal angular misalignment to the reaction point of appliedtorque values and the centerline of the torque sensing device.The lever arm shall be designed so that it will withstand theloading applied during calibration without deﬂections that willchange it’s effective length. It shall be supported in such aTABLE 1 Unit Force Exerted by a Unit Mass in Air at Various Latitudes\\nLatitiude, [,°Elevation Above Sea Level, h, m (ft)\\n0\\n(0)500\\n(1640)1000\\n(3280)1500\\n(4920)2000\\n(6560)2500\\n(8200)\\n0 0.9972 0.9971 0.9970 0.9969 0.9968 0.9967\\n5 0.9972 0.9971 0.9970 0.9969 0.9968 0.9967\\n10 0.9973 0.9972 0.9971 0.9970 0.9969 0.996815 0.9975 0.9974 0.9973 0.9972 0.9971 0.997020 0.9978 0.9977 0.9976 0.9975 0.9974 0.997325 0.9981 0.9980 0.9979 0.9978 0.9977 0.997630 0.9985 0.9984 0.9983 0.9982 0.9981 0.998035 0.9989 0.9988 0.9987 0.9986 0.9985 0.998440 0.9993 0.9992 0.9991 0.9990 0.9989 0.998845 0.9998 0.9997 0.9996 0.9995 0.9994 0.999350 1.0003 1.0002 1.0001 1.0000 0.9999 0.999855 1.0007 1.0006 1.0005 1.0004 1.0003 1.000260 1.0011 1.0010 1.0009 1.0008 1.0007 1.000665 1.0015 1.0014 1.0013 1.0012 1.0011 1.001070 1.0018 1.0017 1.0016 1.0015 1.0014 1.0013\\nE2624 − 17\\n4\\n\\x0b8&5\\x0c\\x038QLYHUVLGDG\\x03GH\\x03&RVWD\\x035LFD\\x03SXUVXDQW\\x03WR\\x03/LFHQVH\\x03$JUHHPHQW\\x11\\x031R\\x03IXUWKHU\\x03UHSURGXFWLRQV\\x03DXWKRUL]HG\\x11'RZQORDGHG\\x12SULQWHG\\x03E\\\\\\x03&RS\\\\ULJKW\\x03E\\\\\\x03$670\\x03,QW\\nO\\x03\\x0bDOO\\x03ULJKWV\\x03UHVHUYHG\\x0c\\x036XQ\\x03$SU\\x03\\x14\\x17\\x03\\x14\\x19\\x1d\\x15\\x19\\x1d\\x18\\x14\\x0387&\\x03\\x15\\x13\\x15\\x17\"),\n",
       " Document(metadata={'source': 'C:\\\\Users\\\\user\\\\Documents\\\\Github\\\\projects\\\\LlamaAi\\\\AnsiAssistance\\\\data\\\\E2624-17-SP-Torque-Calibration-Testing-Machine.pdf', 'page': 4}, page_content=\"manner to minimize bending around the centerline of the\\ntorque sensing device. The support shall be designed so as tominimize all parasitic forces from being applied to the torquetransducer.\\n8.3 Where a reference torque transducer is to be used for\\ntorque calibration of a testing machine, ensure that there isminimum misalignment of the transducers or load train vari-ables that could exert bias within the setup.\\n8.4 Temperature Considerations:\\n8.4.1 Where the torque measuring device(s) are electrical,\\nconnect the force/torque transducer, indicator, interface, etc.using the appropriate cabling used in the actual machine setup.Turn on power and allow the components to warm up for aperiod of time recommended by the manufacturer. In theabsence of any recommendations, allow at least 15 minutes forthe components to be energized.\\n8.4.2 Position a temperature measurement device in close\\nproximity of the machine being calibrated. Allow the force/torque measuring devices and all relevant parts of the measur-ing system equipment to reach thermal stability.\\n9. System Calibration\\n9.1 A testing machine shall be calibrated as a system with\\nthe torque sensing and indicating devices (see\\n1.2and1.4)i n\\nplace and operating as in actual use.\\n9.2 System calibration is invalid if the torque sensing\\ndevices are removed and calibrated independently of thetesting machine.\\n9.3 A calibration consists of at least two runs of torque\\ncontained in the torque range(s) selected. See\\n7.2and7.3.\\n9.3.1 If the initial run produces values within the require-\\nments of Section 10, the data may be used “as found” for run\\none of the two required for the new calibration certiﬁcate.\\n9.3.2 If the initial run produces any values which are outside\\nof these requirements, the “as found” data may be reported andmay be used in accordance with applicable quality controlprograms. Calibration adjustments shall be made to the torqueindicator system(s), after which the two required runs shall beconducted and reported in the new calibration certiﬁcate.\\n9.3.3 Calibration adjustments may be made to improve the\\naccuracy of the system. They shall be followed by the tworequired runs, and issuance of a new calibration certiﬁcate.\\n9.3.4 The indicated torque of a testing machine that exceeds\\nthe permissible variation and that cannot be properly adjusted,shall not be corrected either by calculation or by the use of acalibration diagram in order to obtain torque values within therequired permissible variation.\\n9.4 In the calibration of a testing machine, approach the\\ntorque value to be calibrated by increasing the torque from alower value.\\n9.4.1 For any testing machine the errors observed at a given\\ntorque value taken ﬁrst by increasing the torque to any giventorque value and then by decreasing the torque to that samevalue, may not agree. If a testing machine is to be used underdecreasing torque mode, it shall be calibrated under decreasingtorque as well.9.5 Testing machines that are used to apply torque in both\\nclockwise and counterclockwise directions shall be calibratedin both directions.\\n9.6 Before commencing with the procedure, condition the\\nsystem to the loads that will be applied during calibration byexercising the torque measuring device to the maximumcalibration torque. Care should be given to the way a testingmachine is used in determining the appropriate procedure forexercising a given machine.\\n9.6.1 If the testing machine is to be used in a single\\ndirection, exercise the system three times to the maximumtorque in that direction prior to calibrating.\\n9.6.2 If the testing machine is to be used in both clockwise\\nand counter clockwise directions exercise the system to themaximum torque three times in the appropriate mode prior tocalibrating that mode.\\n9.6.3 If a testing system is to be used through zero (applying\\npositive torque values and then negative torque values withoutthe ability to exercise the system), exercise the system tomaximum positive torque once and then to the maximumnegative torque. Repeat this process three times, zeroing theindicated torque at zero applied torque. Start the positivetorque calibration after the third application of the maximumnegative calibration torque.\\n9.7 Remove all applied torque and set the machine‘s torque\\nindication device to read zero.\\n9.8 Zero the reading of the calibration apparatus.9.9 Calibration by Use of Standard Weights:\\n9.9.1 Place standard weights meeting the requirements of\\n6.1on the calibration weight pan suspended from the calibra-\\ntion lever arm. Apply the weights in increments and remove inthe reverse order. Apply the weights symmetrically maintain-ing a force vector perpendicular to the moment arm radius.Record the applied torque value and the indicated torque valuefor each test torque value applied, and the error and the percenterror calculated from this data.\\nNOTE8—Care should be given to ensure that the applied forces are\\napplied at the lever arm’s calibrated length.\\n9.10 Calibration by Use of Elastic Calibration Devices:\\n9.10.1 Temperature Equalization:\\n9.10.1.1 When using an elastic calibration device to verify\\nthe torque values of a testing machine, place the device near to,or preferably in, the testing machine a sufficient length of timebefore the test to assure that the indication of the calibrationdevice is stable.\\n9.10.1.2 During the calibration, measure the temperature of\\nthe elastic device within 62°F or 61°C by placing a calibrated\\nthermometer as close to the device as possible.\\n9.10.1.3 Elastic calibration devices not having an inherent\\ntemperature-compensating feature must be corrected math-ematically for the difference between ambient temperature andthe temperature to which its calibration is referenced.Temperature-correction coefficients should be furnished (ifapplicable) by the manufacturer of the calibration device.\\n9.10.1.4 Place the elastic calibration device in the testing\\nmachine so that it is aligned properly with the torque sensing\\nE2624 − 17\\n5\\n\\x0b8&5\\x0c\\x038QLYHUVLGDG\\x03GH\\x03&RVWD\\x035LFD\\x03SXUVXDQW\\x03WR\\x03/LFHQVH\\x03$JUHHPHQW\\x11\\x031R\\x03IXUWKHU\\x03UHSURGXFWLRQV\\x03DXWKRUL]HG\\x11'RZQORDGHG\\x12SULQWHG\\x03E\\\\\\x03&RS\\\\ULJKW\\x03E\\\\\\x03$670\\x03,QW\\nO\\x03\\x0bDOO\\x03ULJKWV\\x03UHVHUYHG\\x0c\\x036XQ\\x03$SU\\x03\\x14\\x17\\x03\\x14\\x19\\x1d\\x15\\x19\\x1d\\x18\\x14\\x0387&\\x03\\x15\\x13\\x15\\x17\"),\n",
       " Document(metadata={'source': 'C:\\\\Users\\\\user\\\\Documents\\\\Github\\\\projects\\\\LlamaAi\\\\AnsiAssistance\\\\data\\\\E2624-17-SP-Torque-Calibration-Testing-Machine.pdf', 'page': 5}, page_content=\"device of the unit under test. If an elastic torque measuring\\ndevice is used for calibration, position its centerline so that itcoincides with the centerline of the torque sensing device of theunit under test. If an elastic-force measuring device is used forcalibration, align its sensing axis so that it is perpendicular tothe associated lever arm. Each elastic calibration device shallbe used within its Class A torque range and identiﬁed with thecalibration readings for which it is used.\\n9.10.1.5 To ensure a stable zero, ﬂex the elastic device from\\nzero torque to the maximum torque at which the device will beused as described in\\n9.6. Allow sufficient time for stability.\\n9.10.1.6 There are two methods for using elastic calibration\\ndevices. Select the method to be used and use only that methodthrough out the calibration of the test machine:\\n(1) Follow-the-Torque Method— The torque on the elastic\\ncalibration device is followed until the torque reaches anominal graduation on the torque-readout scale of the testingmachine. Record the torque on the elastic calibration device.\\n(2) Set-the-Torque Method— The nominal torque is preset\\non the torque calibration standard, and the testing machinetorque readout is read when the nominal torque on the torquecalibration standard is achieved.\\n9.10.1.7 After selecting suitable torque increments, obtain\\nzero readings for both the machine and elastic device, andapply the torques slowly and smoothly without over shootingthe intended torques during all calibration measurements.\\n9.10.1.8 Ensure that the uses of the maximum torque\\nindicators, recorders, or other accessory devices do not causeerrors which exceed the acceptable tolerances of\\n10.1.\\n9.10.1.9 Record the indicated torque of the testing machine\\nand the applied torque from the elastic calibration device(temperature corrected as necessary), as well as the error andpercentage of error calculated from the readings.\\n10. Basis of Calibration\\n10.1 The percent error for torque values within the cali-\\nbrated range of the testing machine shall not exceed 61.0 %.\\nThe algebraic difference between errors of two applications ofsame torque (repeatability) shall not exceed 1.0 % (see\\n7.1and\\n7.3).\\n10.2 The certiﬁcate of the calibration of a testing machine\\nwill state within what range of torque values it may be used,rather than reporting a blanket acceptance or rejection of themachine. For testing machines that possess multiple-capacityranges, the range of torque values of each range must be stated.\\n10.3 In no case shall the calibrated range of torque be stated\\nas including torque values below 200 times the resolution ofthe machine’s torque indicator (see\\n3.1.6 ).\\n10.4 In no case shall the calibrated range of torque values be\\nstated as including torque outside the range of torque valuesapplied during the calibration test.\\n10.5 Testing machines may be more or less accurate than\\nthe allowable 61.0 % of reading error, or more or less\\nrepeatable than 1.0 % of reading, which is the Practice E2624calibration basis. Buyers/owners/users or product speciﬁcationgroups might require or allow larger or smaller error systems.Systems with accuracy errors larger than 61.0 % of reading or\\nrepeatability errors larger than 1.0 % of reading do not complywith Practice E2624.\\n11. Time Interval Between Calibrations\\n11.1 It is recommended that testing machines be calibrated\\nannually or more frequently if required. In no case shall thetime interval exceed 18 months except for machines in whicha long-time test runs beyond the 18 month period. In suchcases, the machine shall be calibrated after completion of thetest.\\n11.2 Testing machines shall be calibrated immediately after\\nrepairs (this includes new or replacement parts, or mechanicalor electrical adjustments) that may in any way affect theoperation of the torque indicating device or the values dis-played.\\n11.2.1 Examples of new or replacement parts that may not\\naffect the proper operation of a torque indicating system, are:printers, computer monitors, keyboards, and modems.\\n11.3 Calibration is required immediately after a testing\\nmachine is relocated (except for machines that are designed tobe moved from place to place in normal use) and wheneverthere is a reason to doubt the accuracy of the torque indicatingsystem, regardless of the time interval since the last calibration.\\n12. Report\\n12.1 Calculating Results:\\n12.1.1 Error— calculate the error E, as follows:\\nE5A2B (7)\\nwhere:\\nA= Torque indicated by the testing machine being veriﬁed,\\nB= Applied torque, N·m (lbf·in.), as determined by the\\nreference device.\\n12.1.2 Percentage of error— calculate the percentage of\\nerror, Epas follows:\\nEp5~~A 2B!⁄B!3100 (8)\\nwhere:\\nA= Torque indicated by the testing machine being veriﬁed,\\nB= Applied torque, N·m (lbf·in.), as determined by the\\nreference device.\\n12.2 Reporting Results:\\n12.2.1 Reports should include the following information:12.2.1.1 Name of the calibrating agency,12.2.1.2 Date of calibration,12.2.1.3 Testing machine description, serial number, and\\nlocation,\\n12.2.1.4 Method of calibration used,12.2.1.5 Manufacturer, serial number, calibrated range of\\ntorque, and calibration date of devices used in calibration,\\n12.2.1.6 Statement of how, by whom, and when the calibra-\\ntion of the apparatus used in verifying the testing machine wasdone,\\n12.2.1.7 Class A range of torques, in accordance with\\nPractice\\nE2428 , for each calibration device,\\nE2624 − 17\\n6\\n\\x0b8&5\\x0c\\x038QLYHUVLGDG\\x03GH\\x03&RVWD\\x035LFD\\x03SXUVXDQW\\x03WR\\x03/LFHQVH\\x03$JUHHPHQW\\x11\\x031R\\x03IXUWKHU\\x03UHSURGXFWLRQV\\x03DXWKRUL]HG\\x11'RZQORDGHG\\x12SULQWHG\\x03E\\\\\\x03&RS\\\\ULJKW\\x03E\\\\\\x03$670\\x03,QW\\nO\\x03\\x0bDOO\\x03ULJKWV\\x03UHVHUYHG\\x0c\\x036XQ\\x03$SU\\x03\\x14\\x17\\x03\\x14\\x19\\x1d\\x15\\x19\\x1d\\x18\\x14\\x0387&\\x03\\x15\\x13\\x15\\x17\"),\n",
       " Document(metadata={'source': 'C:\\\\Users\\\\user\\\\Documents\\\\Github\\\\projects\\\\LlamaAi\\\\AnsiAssistance\\\\data\\\\E2624-17-SP-Torque-Calibration-Testing-Machine.pdf', 'page': 6}, page_content=\"12.2.1.8 Temperature of the calibration device and a state-\\nment that computed torque values have been temperaturecorrected as necessary,\\n12.2.1.9 Identiﬁcation of the torque-indicating systems that\\nwere calibrated (for testing machines having more than onetype of indicating system),\\n12.2.1.10 The testing machine error and percent error for\\neach torque-indicating system at each torque value and themaximum algebraic error difference (repeatability) for eachtorque range and torque-indicating system calibrated,\\n12.2.1.11 The uncertainty of the applied torque values, as\\nrequired.\\nAppendix X2 is an example a method which may be\\nused to calculate and state uncertainties and/or errors,\\n12.2.1.12 Calibrated range of torque of each torque- indi-\\ncating system of the testing machine,12.2.1.13 Results obtained on the return-to-zero reading for\\neach range (see 7.5),\\n12.2.1.14 Statement that calibration has been performed in\\naccordance with Practice E2624. It is recommended thatcalibration be performed in accordance with the latest pub-lished issue of Practice E2624.\\n12.2.2 Names of calibration personnel and witnesses (if\\nrequired).\\n12.3 The certiﬁcate shall be error free, and contain no\\nalteration of data, dates, etc.\\n13. Keywords\\n13.1 calibration; resolution; torque range\\nAPPENDIXES\\n(Nonmandatory Information)\\nX1. DETERMINING RESOLUTION OF THE TORQUE INDICATOR\\nX1.1 The resolution of a torque capable testing machine in\\ngeneral is a complex function of many variables includingapplied torque range, electrical and mechanical components,electrical and mechanical noise, and application software.\\nX1.2 A variety of methods may be used to check the\\nresolution of the system. Some suggested procedures are as\\nfollows.\\nX1.3 Procedure for Analog-Type Torque Indicators :\\nX1.3.1 Typically these devices are not auto-ranging. The\\nresolution should be checked at the lowest calibrated torque ineach torque range (typically 10 % of the torque range).\\nX1.3.2 Divide the pointer width by the distance between\\ntwo adjacent graduation marks at the torque where the resolu-tion is to be ascertained to determine the pointer to graduationratio. If the distance between the two adjacent graduationmarks is less than 0.10 in. (2.5 mm) and the ratio is less than1:5, use 1:5 for the ratio. If the distance between the twoadjacent graduation marks is greater than or equal to 0.10 in.(2.5 mm) and the ratio is less than 1:10, use 1:10 for the ratio.If the ratio is greater than those given in these exceptions, usethe ratio determined. Typical ratios in common usage are 1:1,1:2, 1:5, and 1:10.\\nX1.3.3 Multiply the ratio determined above by the torque\\nrepresented by one graduation to determine the resolution.\\nX1.3.4 Apply as constant a torque as possible where the\\nresolution is to be ascertained to minimize the ﬂuctuation of thetorque indicator. It is recommended that the ﬂuctuation be nomore than twice the resolution determined in the previous step.X1.4 Procedure for Non-Auto-Ranging Digital-Type Torque\\nIndicators :\\nX1.4.1 The resolution should be checked at the lowest\\ncalibrated torque in each torque range (typically 10 % of thetorque range).\\nX1.4.2 Apply a clockwise or counter clockwise torque to a\\nspecimen approximately equal to that at which the resolution isto be ascertained, and slowly change the applied torque.Record the smallest change in torque that can be ascertained asthe resolution. Applying the torque values to a compliantelement, such as a spring or an elastomer, makes it easier toslowly change the applied torque.\\nX1.4.3 Next apply a constant torque at the torque value\\nwhere the resolution is to be ascertained to ensure that thetorque indicator does not ﬂuctuate by more than twice theresolution determined in the previous step. If the indicatorﬂuctuates by more than twice the resolution, the resolutionshall be equal to one-half the range of the ﬂuctuation.\\nX1.5 Procedure for Auto-Ranging-Digital Type Torque In-\\ndicators :\\nX1.5.1 This procedure is the same as that for non-auto-\\nranging digital torque indicators except that the resolution ischecked at the lowest calibrated torque in each decade or atother torques to ensure that the indicator resolution is 200 timessmaller than the torques. Some examples are as follows.\\nX1.5.1.1 A 60 000 lbf·in. capacity machine is to be cali-\\nbrated from 240 lbf·in. up to 60 000 lb·in. The resolutionshould be determined at 240, 2400, and 24 000 lbf·in.\\nX1.5.1.2 A 1000 lbf·in. capacity machine is to be calibrated\\nfrom 5 lbf·in. up to 1000 lbf·in. The resolution should bedetermined at 5, 50, and 500 lbf·in.\\nE2624 − 17\\n7\\n\\x0b8&5\\x0c\\x038QLYHUVLGDG\\x03GH\\x03&RVWD\\x035LFD\\x03SXUVXDQW\\x03WR\\x03/LFHQVH\\x03$JUHHPHQW\\x11\\x031R\\x03IXUWKHU\\x03UHSURGXFWLRQV\\x03DXWKRUL]HG\\x11'RZQORDGHG\\x12SULQWHG\\x03E\\\\\\x03&RS\\\\ULJKW\\x03E\\\\\\x03$670\\x03,QW\\nO\\x03\\x0bDOO\\x03ULJKWV\\x03UHVHUYHG\\x0c\\x036XQ\\x03$SU\\x03\\x14\\x17\\x03\\x14\\x19\\x1d\\x15\\x19\\x1d\\x18\\x14\\x0387&\\x03\\x15\\x13\\x15\\x17\"),\n",
       " Document(metadata={'source': 'C:\\\\Users\\\\user\\\\Documents\\\\Github\\\\projects\\\\LlamaAi\\\\AnsiAssistance\\\\data\\\\E2624-17-SP-Torque-Calibration-Testing-Machine.pdf', 'page': 7}, page_content=\"X2. SAMPLE UNCERTAINTY ANALYSIS FOR TORQUE\\nX2.1 The measurement uncertainty determined using this\\nappendix is the measurement uncertainty of the errors reportedduring veriﬁcation of a testing machine by standard weightsand lever arm. It is not the measurement uncertainty of thetesting machine or test results using the testing machine.\\nX2.2 The torque equation is:\\nT5rFsinΘ (X2.1)\\nwhere:\\nT= applied torque,\\nr= the distance between the point of rotation and the\\napplied force,\\nF= applied force, and\\nΘ= angle between the direction of the applied force and the\\narm of radius r.\\nX2.3 In this example the measurement uncertainty of the\\nreported errors of a testing machine determined during averiﬁcation using Practice\\nE2428 is a combination of multiple\\ncomponents and can be expressed as follows:\\nuT25~FsinΘ!2ur21~rsinΘ!2uF21~rFcosΘ!2uΘ2(X2.2)\\nwhere:\\nuT= the standard uncertainty of T,\\nur= the standard uncertainty of r,\\nuF= the standard uncertainty of F, and\\nuΘ= the standard uncertainty of Θ.\\nX2.4 So the standard uncertainty or 1 sigma value is:\\nuT5=~FsinΘ!2ur21~rsinΘ!2uF21~rFcosΘ!2uΘ2(X2.3)\\nX2.5 So the expanded uncertainty Uis:\\nU5kuT(X2.4)\\nwhere:\\nk= characteristic constant, or coverage factor for XX.XX\\npercent conﬁdence.\\nX2.6 A problem arises for θ=90° because rFcosθ=0, so the\\ncontribution of uθappears to disappear. However θdoes\\ncontribute to the standard uncertainty. Assuming uθequals\\nsome constant Cand provided that 0°< θ<90°, then θ=90° 6C\\nor 90°- C<θ<90°+ C. Given the fact that sin 90°+ C=sin 90°- C,\\nthe torque value at either angle yields a value T=rFsin(90°- C).\\nSo the % error becomes:\\n%ERROR 5rFsin~90°2C!2rFsin90 °\\nrFsin90 °3100 (X2.5)\\nwhich simpliﬁes to:\\n%ERROR 5@rFsin~90°2C!21#3100 (X2.6)\\nX2.6.1 This result can be used to replace ( rFcosθ)2u2\\nθin the\\nabove uTequation or used later when combining other uncer-\\ntainties.X2.7 The following addresses issues surrounding tempera-\\nture. The relationship between the length of the arm rand the\\ntemperature tis:\\nrt25rt1@11α~t22t1!# (X2.7)\\nwhere:\\nrt2= the length of the arm at the time of the torque\\nmeasurement,\\nrt1= the length of the arm rat the time of its calibration,\\nα= thermal expansion coefficient for the arm material,\\nt2= the temperature at the time of the torque measurement,\\nand\\nt1= the temperature at the time of the arm rcalibration.\\nX2.8 So it follows that the uncertainty of the length of the\\narm at any temperature tyields:\\nUr5rtαUt (X2.8)\\nwhere:\\nUr= the uncertainty of the arm rat the time of the torque\\nmeasurement, and\\nUt= the uncertainty of the temperature measurement.\\nX2.8.1 Assuming rt2=20 in., α=6.5ppm/°F for steel and\\nUt=1°F, Ur=0.00013 in., or 0.00065 %. Using the standard\\nuncertainties and the RSS method of combining them, yieldsan even lower contribution to the expanded uncertainty.\\nX2.9 The uncertainty of the weights is such that they are not\\nimpacted by the laboratory environmental conditions.\\nX2.10 The uncertainty due to repeatability during the veri-\\nﬁcation can be assessed by evaluating the differences betweenthe two runs of data.\\nX2.10.1 For each force veriﬁcation point, ﬁnd the sum of\\nthe squares of the differences in error between the ﬁrst andsecond run of that veriﬁcation point and the four veriﬁcationpoints closest to that veriﬁcation point. Divide that sum by tenand take the square root of the result to obtain an estimate ofthe uncertainty due to repeatability during the veriﬁcationprocess.\\nNOTEX2.1—The sum is divided by ten because there are ﬁve pairs of\\nreadings used, and the variance of each pair is equal to the differencedivided by two.\\nN\\nOTEX2.2—Example: The repeatability contribution to the uncertainty\\nof a 2.25 N·m capacity testing machine is to be determined at 40 percentof the range. See\\nTable X2.1 for results of two calibration runs.\\nThe uncertainty component due to repeatability at 40% of range, urepis\\ncalculated as follows:The repeatability at 40% of range and the four closest torques to 40% ofrange are 0.00% of 0.2241 N·m, 0.00% of 0.448199 N·m, 0.00% of 0.8964N·m, 0.06% of 1.58115 N·m and 0.09% of 2.2161 N·m which respectivelyare 0.00, 0.00, 0.00, 0.000949 and 0.001994 N·m. Therefore:\\nu\\nrep 5Œ0.00210.00210.00210.000949210.0019942\\n10\\n50.00070N·m\\nE2624 − 17\\n8\\n\\x0b8&5\\x0c\\x038QLYHUVLGDG\\x03GH\\x03&RVWD\\x035LFD\\x03SXUVXDQW\\x03WR\\x03/LFHQVH\\x03$JUHHPHQW\\x11\\x031R\\x03IXUWKHU\\x03UHSURGXFWLRQV\\x03DXWKRUL]HG\\x11'RZQORDGHG\\x12SULQWHG\\x03E\\\\\\x03&RS\\\\ULJKW\\x03E\\\\\\x03$670\\x03,QW\\nO\\x03\\x0bDOO\\x03ULJKWV\\x03UHVHUYHG\\x0c\\x036XQ\\x03$SU\\x03\\x14\\x17\\x03\\x14\\x19\\x1d\\x15\\x19\\x1d\\x18\\x14\\x0387&\\x03\\x15\\x13\\x15\\x17\"),\n",
       " Document(metadata={'source': 'C:\\\\Users\\\\user\\\\Documents\\\\Github\\\\projects\\\\LlamaAi\\\\AnsiAssistance\\\\data\\\\E2624-17-SP-Torque-Calibration-Testing-Machine.pdf', 'page': 8}, page_content=\"X2.11 The uncertainty due to friction involving the knife\\nedges and ﬁxtures can’t be quantiﬁed; however they arebelieved to be extremely small relative the other uncertaintiestherefore considered insigniﬁcant and not included in the\\nassessment.\\nSUMMARY OF CHANGES\\nCommittee E28 has identiﬁed the location of selected changes to this standard since the last issue (E2624–15)\\nthat may impact the use of this standard.\\n(1)\\nTable 1 was revised.\\nASTM International takes no position respecting the validity of any patent rights asserted in connection with any item mentioned\\nin this standard. Users of this standard are expressly advised that determination of the validity of any such patent rights, and the riskof infringement of such rights, are entirely their own responsibility.\\nThis standard is subject to revision at any time by the responsible technical committee and must be reviewed every ﬁve years and\\nif not revised, either reapproved or withdrawn. Your comments are invited either for revision of this standard or for additional standardsand should be addressed to ASTM International Headquarters. Your comments will receive careful consideration at a meeting of theresponsible technical committee, which you may attend. If you feel that your comments have not received a fair hearing you shouldmake your views known to the ASTM Committee on Standards, at the address shown below.\\nThis standard is copyrighted by ASTM International, 100 Barr Harbor Drive, PO Box C700, West Conshohocken, PA 19428-2959,\\nUnited States. Individual reprints (single or multiple copies) of this standard may be obtained by contacting ASTM at the aboveaddress or at 610-832-9585 (phone), 610-832-9555 (fax), or service@astm.org (e-mail); or through the ASTM website(www.astm.org). Permission rights to photocopy the standard may also be secured from the Copyright Clearance Center, 222Rosewood Drive, Danvers, MA 01923, Tel: (978) 646-2600; http://www.copyright.com/TABLE X2.1 Calibration Runs\\nPercent of\\nRangeRun 1\\nIndicatedRun 1\\nAppliedRun 1\\nError %Run 2\\nIndicatedRun 2\\nAppliedRun 2\\nError %%\\nRepeatability\\n1 0.025 0.0249 0.40 0.025 0.0249 0.40 0.002 0.050 0.0497999 0.40 0.050 0.0497999 0.40 0.004 0.087 0.0871501 -0.17 0.087 0.0871501 -0.17 0.007 0.162 0.16185 0.09 0.162 0.16185 0.09 0.00\\n10 0.225 0.2241 0.40 0.225 0.2241 -0.40 0.004420 0.449 0.448199 0.18 0.449 0.448199 0.18 0.0040 0.897 0.8964 0.07 0.897 0.8964 0.07 0.0070 1.582 1.58115 0.05 1.583 1.58115 0.12 0.06\\n100 2.215 2.2161 -0.05 2.217 2.2161 0.04 0.09\\nE2624 − 17\\n9\\n\\x0b8&5\\x0c\\x038QLYHUVLGDG\\x03GH\\x03&RVWD\\x035LFD\\x03SXUVXDQW\\x03WR\\x03/LFHQVH\\x03$JUHHPHQW\\x11\\x031R\\x03IXUWKHU\\x03UHSURGXFWLRQV\\x03DXWKRUL]HG\\x11'RZQORDGHG\\x12SULQWHG\\x03E\\\\\\x03&RS\\\\ULJKW\\x03E\\\\\\x03$670\\x03,QW\\nO\\x03\\x0bDOO\\x03ULJKWV\\x03UHVHUYHG\\x0c\\x036XQ\\x03$SU\\x03\\x14\\x17\\x03\\x14\\x19\\x1d\\x15\\x19\\x1d\\x18\\x14\\x0387&\\x03\\x15\\x13\\x15\\x17\")]"
      ]
     },
     "execution_count": 10,
     "metadata": {},
     "output_type": "execute_result"
    }
   ],
   "source": [
    "documents"
   ]
  },
  {
   "cell_type": "code",
   "execution_count": 11,
   "metadata": {},
   "outputs": [],
   "source": [
    "def text_split(extracted_data):\n",
    "  text_splitter = RecursiveCharacterTextSplitter(chunk_size = 500, chunk_overlap = 20)\n",
    "  text_chunks = text_splitter.split_documents(extracted_data)\n",
    "  return text_chunks"
   ]
  },
  {
   "cell_type": "code",
   "execution_count": 12,
   "metadata": {},
   "outputs": [],
   "source": [
    "text_chunks = text_split(documents)"
   ]
  },
  {
   "cell_type": "code",
   "execution_count": 13,
   "metadata": {},
   "outputs": [
    {
     "data": {
      "text/plain": [
       "[Document(page_content='Designation: E2624 −17\\nStandard Practice for\\nTorque Calibration of Testing Machines1\\nThis standard is issued under the ﬁxed designation E2624; the number immediately following the designation indicates the year of\\noriginal adoption or, in the case of revision, the year of last revision. A number in parentheses indicates the year of last reapproval. Asuperscript epsilon ( ´) indicates an editorial change since the last revision or reapproval.\\n1. Scope*', metadata={'source': 'C:\\\\Users\\\\user\\\\Documents\\\\Github\\\\projects\\\\LlamaAi\\\\AnsiAssistance\\\\data\\\\E2624-17-SP-Torque-Calibration-Testing-Machine.pdf', 'page': 0}),\n",
       " Document(page_content='1. Scope*\\n1.1 This practice covers procedures and requirements for\\nthe calibration of torque for static and quasi-static torquecapable testing machines. These may, or may not, have torqueindicating systems and include those devices used for thecalibration of hand torque tools. Testing machines may becalibrated by one of the three following methods or combina-tion thereof:', metadata={'source': 'C:\\\\Users\\\\user\\\\Documents\\\\Github\\\\projects\\\\LlamaAi\\\\AnsiAssistance\\\\data\\\\E2624-17-SP-Torque-Calibration-Testing-Machine.pdf', 'page': 0}),\n",
       " Document(page_content='1.1.1 Use of standard weights and lever arms.1.1.2 Use of elastic torque measuring devices.1.1.3 Use of elastic force measuring devices and lever arms.1.1.4 Any of the methods require a speciﬁc uncertainty of\\nmeasurement, displaying metrological traceability to The In-ternational System of Units (SI).\\nNOTE1—– for further deﬁnition of the term metrological traceability,', metadata={'source': 'C:\\\\Users\\\\user\\\\Documents\\\\Github\\\\projects\\\\LlamaAi\\\\AnsiAssistance\\\\data\\\\E2624-17-SP-Torque-Calibration-Testing-Machine.pdf', 'page': 0}),\n",
       " Document(page_content='refer to the latest revision of JCGM 200: International vocabulary ofmetrology — Basic and general concepts and associated terms (VIM).\\n1.2 The procedures of 1.1.1 ,1.1.2 , and 1.1.3 apply to the\\ncalibration of the torque-indicating systems associated with thetesting machine, such as a scale, dial, marked or unmarkedrecorder chart, digital display, etc. In all cases the buyer/owner/user must designate the torque-indicating system(s) to becalibrated and included in the report.', metadata={'source': 'C:\\\\Users\\\\user\\\\Documents\\\\Github\\\\projects\\\\LlamaAi\\\\AnsiAssistance\\\\data\\\\E2624-17-SP-Torque-Calibration-Testing-Machine.pdf', 'page': 0}),\n",
       " Document(page_content='1.3 Since conversion factors are not required in this\\npractice, either english units, metric units, or SI units can beused as the standard.\\n1.4 Torque values indicated on displays/printouts of testing\\nmachine data systems—be they instantaneous, delayed, stored,or retransmitted—which are calibrated with provisions of\\n1.1.1 ,1.1.2 or1.1.3 or a combination thereof, and are within\\nthe 61 % of reading accuracy requirement, comply with this\\npractice.', metadata={'source': 'C:\\\\Users\\\\user\\\\Documents\\\\Github\\\\projects\\\\LlamaAi\\\\AnsiAssistance\\\\data\\\\E2624-17-SP-Torque-Calibration-Testing-Machine.pdf', 'page': 0}),\n",
       " Document(page_content='practice.\\n1.5 The following applies to all speciﬁed limits in this\\nstandard: For purposes of determining conformance with thesespeciﬁcations, an observed value or a calculated value shall berounded “to the nearest unit” in the last right-hand digit used inexpressing the speciﬁcation limit, in accordance with the\\nrounding method of Practice\\nE29, for Using Signiﬁcant Digits\\nin Test Data to Determine Conformance with Speciﬁcations.\\n1.6 This standard does not purport to address all of the', metadata={'source': 'C:\\\\Users\\\\user\\\\Documents\\\\Github\\\\projects\\\\LlamaAi\\\\AnsiAssistance\\\\data\\\\E2624-17-SP-Torque-Calibration-Testing-Machine.pdf', 'page': 0}),\n",
       " Document(page_content='safety concerns, if any, associated with its use. It is theresponsibility of the user of this standard to establish appro-priate safety, health, and environmental practices and deter-mine the applicability of regulatory limitations prior to use.\\n1.7 This international standard was developed in accor-', metadata={'source': 'C:\\\\Users\\\\user\\\\Documents\\\\Github\\\\projects\\\\LlamaAi\\\\AnsiAssistance\\\\data\\\\E2624-17-SP-Torque-Calibration-Testing-Machine.pdf', 'page': 0}),\n",
       " Document(page_content='dance with internationally recognized principles on standard-ization established in the Decision on Principles for theDevelopment of International Standards, Guides and Recom-mendations issued by the World Trade Organization TechnicalBarriers to Trade (TBT) Committee.\\n2. Referenced Documents\\n2.1 ASTM Standards:\\n2\\nE6Terminology Relating to Methods of Mechanical Testing\\nE29Practice for Using Signiﬁcant Digits in Test Data to\\nDetermine Conformance with Speciﬁcations', metadata={'source': 'C:\\\\Users\\\\user\\\\Documents\\\\Github\\\\projects\\\\LlamaAi\\\\AnsiAssistance\\\\data\\\\E2624-17-SP-Torque-Calibration-Testing-Machine.pdf', 'page': 0}),\n",
       " Document(page_content='E74Practice of Calibration of Force-Measuring Instruments\\nfor Verifying the Force Indication of Testing Machines\\nE2428 Practice for Calibration and Veriﬁcation of Torque\\nTransducers\\n2.2 NIST Technical Notes:\\nNIST Technical Note 1297 Guidelines for Evaluating and\\nExpressing the Uncertainty of NIST Measurement Re-sults\\n3\\n2.3 BIPM Standard:4\\nJCGM 200 : International vocabulary of metrology — Basic\\nand general concepts and associated terms (VIM)\\n3. Terminology', metadata={'source': 'C:\\\\Users\\\\user\\\\Documents\\\\Github\\\\projects\\\\LlamaAi\\\\AnsiAssistance\\\\data\\\\E2624-17-SP-Torque-Calibration-Testing-Machine.pdf', 'page': 0}),\n",
       " Document(page_content='3. Terminology\\n3.1 Deﬁnitions: In addition to the terms listed, see Termi-\\nnology E6.\\n1This practice is under the jurisdiction of ASTM Committee E28on Mechanical\\nTesting and is the direct responsibility of Subcommittee E28.01 on Calibration of\\nMechanical Testing Machines and Apparatus.\\nCurrent edition approved Sept. 1, 2017. Published November 2017. Originally', metadata={'source': 'C:\\\\Users\\\\user\\\\Documents\\\\Github\\\\projects\\\\LlamaAi\\\\AnsiAssistance\\\\data\\\\E2624-17-SP-Torque-Calibration-Testing-Machine.pdf', 'page': 0}),\n",
       " Document(page_content='approved in 2009. Last previous edition approved in 2015 as E2624–15. DOI:10.1520/E2624-17.2For referenced ASTM standards, visit the ASTM website, www.astm.org, or\\ncontact ASTM Customer Service at service@astm.org. For Annual Book of ASTM\\nStandards volume information, refer to the standard’s Document Summary page on\\nthe ASTM website.\\n3Available from National Institute of Standards and Technology (NIST), 100\\nBureau Dr., Stop 1070, Gaithersburg, MD 20899-1070, http://www.nist.gov.', metadata={'source': 'C:\\\\Users\\\\user\\\\Documents\\\\Github\\\\projects\\\\LlamaAi\\\\AnsiAssistance\\\\data\\\\E2624-17-SP-Torque-Calibration-Testing-Machine.pdf', 'page': 0}),\n",
       " Document(page_content='4Available from BIPM (Bureau International des Poids et Mesures)- Pavillon de\\nBreteuil F-92312 Sèvres Cedex FRANCE http://www.bipm.org\\n*A Summary of Changes section appears at the end of this standard\\nCopyright © ASTM International, 100 Barr Harbor Drive, PO Box C700, West Conshohocken, PA 19428-2959. United StatesThis international standard was developed in accordance with internationally recognized principles on standardization established in the Decisi on on Principles for the', metadata={'source': 'C:\\\\Users\\\\user\\\\Documents\\\\Github\\\\projects\\\\LlamaAi\\\\AnsiAssistance\\\\data\\\\E2624-17-SP-Torque-Calibration-Testing-Machine.pdf', 'page': 0}),\n",
       " Document(page_content=\"Development of International Standards, Guides and Recommendations issued by the World Trade Organization Technical Barriers to Trade (TBT) Commi ttee.\\n1\\n\\x0b8&5\\x0c\\x038QLYHUVLGDG\\x03GH\\x03&RVWD\\x035LFD\\x03SXUVXDQW\\x03WR\\x03/LFHQVH\\x03$JUHHPHQW\\x11\\x031R\\x03IXUWKHU\\x03UHSURGXFWLRQV\\x03DXWKRUL]HG\\x11'RZQORDGHG\\x12SULQWHG\\x03E\\\\\\x03&RS\\\\ULJKW\\x03E\\\\\\x03$670\\x03,QW\\nO\\x03\\x0bDOO\\x03ULJKWV\\x03UHVHUYHG\\x0c\\x036XQ\\x03$SU\\x03\\x14\\x17\\x03\\x14\\x19\\x1d\\x15\\x19\\x1d\\x18\\x14\\x0387&\\x03\\x15\\x13\\x15\\x17\", metadata={'source': 'C:\\\\Users\\\\user\\\\Documents\\\\Github\\\\projects\\\\LlamaAi\\\\AnsiAssistance\\\\data\\\\E2624-17-SP-Torque-Calibration-Testing-Machine.pdf', 'page': 0}),\n",
       " Document(page_content='3.1.1 accuracy— the permissible variation from the correct\\nvalue.\\n3.1.1.1 Discussion— A testing machine is said to be accurate', metadata={'source': 'C:\\\\Users\\\\user\\\\Documents\\\\Github\\\\projects\\\\LlamaAi\\\\AnsiAssistance\\\\data\\\\E2624-17-SP-Torque-Calibration-Testing-Machine.pdf', 'page': 1}),\n",
       " Document(page_content='if the indicated torque is within the speciﬁed permissiblevariation from the actual torque. In this practice the word“accurate” applied to a testing machine is used withoutnumerical values. For example, “An accurate testing machinewas used for the investigation.” The accuracy of a testingmachine should not be confused with sensitivity. For example,a testing machine might be very sensitive; that is, it mightindicate quickly and deﬁnitely small changes in torque, butnevertheless, be very', metadata={'source': 'C:\\\\Users\\\\user\\\\Documents\\\\Github\\\\projects\\\\LlamaAi\\\\AnsiAssistance\\\\data\\\\E2624-17-SP-Torque-Calibration-Testing-Machine.pdf', 'page': 1}),\n",
       " Document(page_content='be very inaccurate. On the other hand, theaccuracy of the results is in general limited by the sensitivity.', metadata={'source': 'C:\\\\Users\\\\user\\\\Documents\\\\Github\\\\projects\\\\LlamaAi\\\\AnsiAssistance\\\\data\\\\E2624-17-SP-Torque-Calibration-Testing-Machine.pdf', 'page': 1}),\n",
       " Document(page_content='3.1.2 error, n— for a measurement or reading, the amount it\\ndeviates from a known or reference value represented by ameasurement standard. Mathematically, the error is calculatedby subtracting the accepted value from the measurement orreading.\\n3.1.2.1 Discussion— The word “error” shall be used with\\nnumerical values, for example, “At a torque of 3000 lbf·in., theerror of the testing machine was +10 lbf·in.”\\n3.1.3 percent error, n— in the case of a testing machine or', metadata={'source': 'C:\\\\Users\\\\user\\\\Documents\\\\Github\\\\projects\\\\LlamaAi\\\\AnsiAssistance\\\\data\\\\E2624-17-SP-Torque-Calibration-Testing-Machine.pdf', 'page': 1}),\n",
       " Document(page_content='device, the ratio, expressed as a percent, of an error to theknown accepted value represented by a measurement standard.\\n3.1.4 reference standard, n— an item, typically a material or\\nan instrument, that has been characterized by recognizedstandards or testing laboratories, for some of its physical ormechanical properties, and that is generally used for calibrationor veriﬁcation, or both, of a measurement system or forevaluating a test method.', metadata={'source': 'C:\\\\Users\\\\user\\\\Documents\\\\Github\\\\projects\\\\LlamaAi\\\\AnsiAssistance\\\\data\\\\E2624-17-SP-Torque-Calibration-Testing-Machine.pdf', 'page': 1}),\n",
       " Document(page_content='3.1.4.1 Discussion— Torque may be generated by a length\\ncalibrated arm and calibrated masses used to produce knowntorque. Alternatively, torque applied to a torque measuringdevice to be calibrated may be measured by the use of areference torque measurement device, that is, an elastic torquecalibration device, or a length calibrated arm and an elasticforce measuring device.\\n3.1.5 resolution, n— for a particular measurement device,', metadata={'source': 'C:\\\\Users\\\\user\\\\Documents\\\\Github\\\\projects\\\\LlamaAi\\\\AnsiAssistance\\\\data\\\\E2624-17-SP-Torque-Calibration-Testing-Machine.pdf', 'page': 1}),\n",
       " Document(page_content='the smallest change in the quantity being measured that causesa perceptible change in the corresponding indication.\\n3.1.5.1 Discussion— Resolution may depend on the value\\n(magnitude) of the quantity being measured.\\n3.1.5.2 Discussion— For paper charts or analog indicators,\\nthe resolution should not be assumed to be better (smaller) than1⁄10 of the spacing between graduations. For digital devices,', metadata={'source': 'C:\\\\Users\\\\user\\\\Documents\\\\Github\\\\projects\\\\LlamaAi\\\\AnsiAssistance\\\\data\\\\E2624-17-SP-Torque-Calibration-Testing-Machine.pdf', 'page': 1}),\n",
       " Document(page_content='the best resolution potentially achievable is the smallestdifference between two different readings given by the display.\\n3.1.5.3 Discussion— For both analog and digital devices, the\\nactual resolution can be signiﬁcantly poorer than describedabove, due to factors such as noise, friction, etc.\\n3.1.6 torque, n— a moment (of forces) that produces or tends\\nto produce rotation or torsion.\\n3.2 Deﬁnitions of Terms Speciﬁc to This Standard:\\n3.2.1 calibrated range of torque—in the case of testing', metadata={'source': 'C:\\\\Users\\\\user\\\\Documents\\\\Github\\\\projects\\\\LlamaAi\\\\AnsiAssistance\\\\data\\\\E2624-17-SP-Torque-Calibration-Testing-Machine.pdf', 'page': 1}),\n",
       " Document(page_content='machines , the range of indicated torque for which the testing\\nmachine gives results within the permissible variations speci-ﬁed.3.2.2 calibration torque— a torque with metrological trace-\\nability derived from standards of mass and length and ofspeciﬁc uncertainty of measurement, which can be applied totorque measuring devices.\\n3.2.3 capacity range—in the case of testing machines , the\\nrange of torque for which it is designed.\\n3.2.3.1 Discussion— Some testing machines have more than', metadata={'source': 'C:\\\\Users\\\\user\\\\Documents\\\\Github\\\\projects\\\\LlamaAi\\\\AnsiAssistance\\\\data\\\\E2624-17-SP-Torque-Calibration-Testing-Machine.pdf', 'page': 1}),\n",
       " Document(page_content='one capacity range, that is, multiple ranges.\\n3.2.4 correction—in the case of testing machines , the\\ndifference obtained by subtracting the indicated torque fromthe reference value of the applied torque.\\n3.2.5 elastic torque-measuring device— a device or system\\nconsisting of an elastic member combined with a device forindicating the measured values (or a quantity proportional tothe measured value) of deformation of the member under anapplied torque.', metadata={'source': 'C:\\\\Users\\\\user\\\\Documents\\\\Github\\\\projects\\\\LlamaAi\\\\AnsiAssistance\\\\data\\\\E2624-17-SP-Torque-Calibration-Testing-Machine.pdf', 'page': 1}),\n",
       " Document(page_content='3.2.5.1 Discussion— The instrumentation for the elastic de-\\nvices may be either an electrical or a mechanical device, that is,a scale or pointer system.\\n3.2.6 expanded uncertainty— a statistical measurement of\\nthe probable limits of error of a measurement, NIST TechnicalNote 1297 treats the statistical approach including the ex-panded uncertainty.\\n3.2.7 lower torque limit of calibration range— the lowest\\nvalue of torque at which a torque measuring system can becalibrated.', metadata={'source': 'C:\\\\Users\\\\user\\\\Documents\\\\Github\\\\projects\\\\LlamaAi\\\\AnsiAssistance\\\\data\\\\E2624-17-SP-Torque-Calibration-Testing-Machine.pdf', 'page': 1}),\n",
       " Document(page_content='3.2.8 parasitic torque— Forces that bypass the torque axis\\nand can cause errors in determining the value of the torque.\\n3.2.8.1 Discussion— Usually the result of off axis loading\\n(bending moments) caused by cables, conduit, or hydrauliclines attached to objects that are in the torque path and causesubsequent errors in the measured torque.\\n3.2.9 permissible variation (or tolerance)— in the case of\\ntesting machines\\n, the maximum allowable error in the value of\\nthe quantity indicated.', metadata={'source': 'C:\\\\Users\\\\user\\\\Documents\\\\Github\\\\projects\\\\LlamaAi\\\\AnsiAssistance\\\\data\\\\E2624-17-SP-Torque-Calibration-Testing-Machine.pdf', 'page': 1}),\n",
       " Document(page_content='3.2.9.1 Discussion— It is convenient to express permissible\\nvariation in terms of percentage of error. The numerical valueof the permissible variation for a testing machine is so statedhereafter in these practices.\\n3.2.10 torque-capable testing machine— a testing machine\\nor device that has provision for applying a torque to aspecimen.\\n4. Signiﬁcance and Use\\n4.1 Testing machines that apply and indicate torque are used', metadata={'source': 'C:\\\\Users\\\\user\\\\Documents\\\\Github\\\\projects\\\\LlamaAi\\\\AnsiAssistance\\\\data\\\\E2624-17-SP-Torque-Calibration-Testing-Machine.pdf', 'page': 1}),\n",
       " Document(page_content='in many industries, in many ways. They may be used in aresearch laboratory to measure material properties, and in aproduction line to qualify a product for shipment. No matterwhat the end use of the machine may be, it is necessary forusers to know the amount of torque that is applied, and that theaccuracy of the torque value is traceable to the SI. Thisstandard provides a procedure to verify these machines anddevices, in order that the indicated torque values may betraceable. A key element to', metadata={'source': 'C:\\\\Users\\\\user\\\\Documents\\\\Github\\\\projects\\\\LlamaAi\\\\AnsiAssistance\\\\data\\\\E2624-17-SP-Torque-Calibration-Testing-Machine.pdf', 'page': 1}),\n",
       " Document(page_content='A key element to having metrological traceability isthat the devices used in the calibration produce known torquecharacteristics, and have been calibrated in accordance withPractice', metadata={'source': 'C:\\\\Users\\\\user\\\\Documents\\\\Github\\\\projects\\\\LlamaAi\\\\AnsiAssistance\\\\data\\\\E2624-17-SP-Torque-Calibration-Testing-Machine.pdf', 'page': 1}),\n",
       " Document(page_content=\"E2428 .\\nE2624 − 17\\n2\\n\\x0b8&5\\x0c\\x038QLYHUVLGDG\\x03GH\\x03&RVWD\\x035LFD\\x03SXUVXDQW\\x03WR\\x03/LFHQVH\\x03$JUHHPHQW\\x11\\x031R\\x03IXUWKHU\\x03UHSURGXFWLRQV\\x03DXWKRUL]HG\\x11'RZQORDGHG\\x12SULQWHG\\x03E\\\\\\x03&RS\\\\ULJKW\\x03E\\\\\\x03$670\\x03,QW\\nO\\x03\\x0bDOO\\x03ULJKWV\\x03UHVHUYHG\\x0c\\x036XQ\\x03$SU\\x03\\x14\\x17\\x03\\x14\\x19\\x1d\\x15\\x19\\x1d\\x18\\x14\\x0387&\\x03\\x15\\x13\\x15\\x17\", metadata={'source': 'C:\\\\Users\\\\user\\\\Documents\\\\Github\\\\projects\\\\LlamaAi\\\\AnsiAssistance\\\\data\\\\E2624-17-SP-Torque-Calibration-Testing-Machine.pdf', 'page': 1}),\n",
       " Document(page_content='4.2 This standard may be used by those using, those\\nmanufacturing, and those providing calibration service fortorque capable testing machines or devices and related instru-mentation.\\n5. Calibration Devices\\n5.1 Calibration by Standard Weights and Lever Arms—', metadata={'source': 'C:\\\\Users\\\\user\\\\Documents\\\\Github\\\\projects\\\\LlamaAi\\\\AnsiAssistance\\\\data\\\\E2624-17-SP-Torque-Calibration-Testing-Machine.pdf', 'page': 2}),\n",
       " Document(page_content='Calibration by the application of standard weights using a leverarm to the torque sensing mechanism of the testing machine,where practicable, is the most accurate method. Its limitationsare: (1)the small range of torque that can be calibrated, (2)the\\nnon-portability of any high capacity standard weights and (3)\\nanalysis of all parasitic torque components.\\n5.2 Calibration by Elastic Calibration Devices— The sec-', metadata={'source': 'C:\\\\Users\\\\user\\\\Documents\\\\Github\\\\projects\\\\LlamaAi\\\\AnsiAssistance\\\\data\\\\E2624-17-SP-Torque-Calibration-Testing-Machine.pdf', 'page': 2}),\n",
       " Document(page_content='ond method of calibration of testing machines involves mea-surement of the elastic strain or rotation under the torque of atorque transducer or a force transducer/lever arm combination.The elastic calibration devices are less constrained than thestandards referenced in\\n5.1. The design of ﬁxtures and inter-', metadata={'source': 'C:\\\\Users\\\\user\\\\Documents\\\\Github\\\\projects\\\\LlamaAi\\\\AnsiAssistance\\\\data\\\\E2624-17-SP-Torque-Calibration-Testing-Machine.pdf', 'page': 2}),\n",
       " Document(page_content='faces between the calibration device and the machine arecritical. When using elastic torque or force measuring devices,use the devices only over their Class A loading ranges asdetermined by Practice\\nE2428 for elastic torque measuring\\ndevices or Practice E74 for elastic force measuring devices.\\n6. Requirements for Torque Standards\\n6.1 Weights and Lever Arms— Weights and lever arms with', metadata={'source': 'C:\\\\Users\\\\user\\\\Documents\\\\Github\\\\projects\\\\LlamaAi\\\\AnsiAssistance\\\\data\\\\E2624-17-SP-Torque-Calibration-Testing-Machine.pdf', 'page': 2}),\n",
       " Document(page_content='traceability derived from standards of mass, force, length andof speciﬁc measurement uncertainty may be used to applytorque to testing machines. Weights used as force standardsshall be made of rolled, forged, or cast metal. The expandeduncertainty, with a conﬁdence factor of 95% (k=2), for theweight values shall not exceed 0.1 %.\\n6.1.1 The force exerted by a mass in air is determined by:\\nF5MgS12d\\nDD (1)\\nwhere:\\nF = force, N\\nM = true mass of the weight, kg', metadata={'source': 'C:\\\\Users\\\\user\\\\Documents\\\\Github\\\\projects\\\\LlamaAi\\\\AnsiAssistance\\\\data\\\\E2624-17-SP-Torque-Calibration-Testing-Machine.pdf', 'page': 2}),\n",
       " Document(page_content='g = local acceleration due to gravity, m/s2,\\nd = air density (1.2 kg/m3), and\\nD = density of the weight in the same units as d\\nNOTE2—Neglecting air buoyancy can cause errors on the order of\\n0.01% to 0.05% depending on the metal the weight is fabricated from. Ifit is neglected, it should be considered in any uncertainty analysis.\\n6.1.2 For the purposes of this standard, gcan be calculated\\nwith a sufficient uncertainty using the following formula.\\ng59.7803 @110.0053 ~sin[ !2#20.000001967 h (2)', metadata={'source': 'C:\\\\Users\\\\user\\\\Documents\\\\Github\\\\projects\\\\LlamaAi\\\\AnsiAssistance\\\\data\\\\E2624-17-SP-Torque-Calibration-Testing-Machine.pdf', 'page': 2}),\n",
       " Document(page_content='where:\\n[= latitude\\nh= elevation above sea level in meters.\\nNOTE3—Formula 2 corrects for the shape of the earth and elevation', metadata={'source': 'C:\\\\Users\\\\user\\\\Documents\\\\Github\\\\projects\\\\LlamaAi\\\\AnsiAssistance\\\\data\\\\E2624-17-SP-Torque-Calibration-Testing-Machine.pdf', 'page': 2}),\n",
       " Document(page_content='above sea level. The correction for the shape of the earth is a simpliﬁcationof the World Geodetic System 84 Ellipsoidal Gravity Formula. The resultsobtained with the simpliﬁed formula differ by less than 0.0005%. The termthat corrects for altitude, corrects for an increased distance from the centerof the earth and the counter-acting Bouguer effect of localized increasedmass of the earth. The formula assumes a rock density of 2.67 g/cc. If therock density changed by 0.5 g/cc, an error of 0.003', metadata={'source': 'C:\\\\Users\\\\user\\\\Documents\\\\Github\\\\projects\\\\LlamaAi\\\\AnsiAssistance\\\\data\\\\E2624-17-SP-Torque-Calibration-Testing-Machine.pdf', 'page': 2}),\n",
       " Document(page_content='an error of 0.003 % would result.', metadata={'source': 'C:\\\\Users\\\\user\\\\Documents\\\\Github\\\\projects\\\\LlamaAi\\\\AnsiAssistance\\\\data\\\\E2624-17-SP-Torque-Calibration-Testing-Machine.pdf', 'page': 2}),\n",
       " Document(page_content='6.2 The force in customary units exerted by a weight in air\\nis calculated as follows:\\nFc5Mg\\n9.80665 S12d\\nDD (3)\\nwhere:\\nFc = force expressed in customary units, that is, pound\\nforce or kilogram force\\nM = true mass of the weight\\ng = Local acceleration due to gravity, m/s2\\nd = air density (1. 2 kg/m3)\\nD = density of the weight in the same units as d, and\\n9.80665 = The factor converting SI units of force into', metadata={'source': 'C:\\\\Users\\\\user\\\\Documents\\\\Github\\\\projects\\\\LlamaAi\\\\AnsiAssistance\\\\data\\\\E2624-17-SP-Torque-Calibration-Testing-Machine.pdf', 'page': 2}),\n",
       " Document(page_content='customary units of force; this factor is equal to thevalue of standard gravity. 9.80665 m/s\\n2\\nNOTE4—If M, the mass of the weight is in pounds, the force will be in\\npound-force units (lbf). If M is in kilograms, the force will be inkilogram-force units (kgf). These customary force units are related to thenewton (N), the SI unit of force, by the following relationships:\\n1lbf 54.448222N (4)\\n1kgf 59.80665N\\n~exact ! (5)\\n6.2.1 For use in verifying testing machines, corrections for', metadata={'source': 'C:\\\\Users\\\\user\\\\Documents\\\\Github\\\\projects\\\\LlamaAi\\\\AnsiAssistance\\\\data\\\\E2624-17-SP-Torque-Calibration-Testing-Machine.pdf', 'page': 2}),\n",
       " Document(page_content='local values of gravity and air buoyancy to weights calibratedin pounds can be made with sufficient accuracy using themultiplying factors from\\nTable 1 . Alternatively the following\\nformula may be used to ﬁnd the multiplying factor, MF.\\nMultiply MFtimes the mass of the weight given in pounds to\\nobtain the value of force in pounds-force, corrected for localgravity and air buoyancy.\\nMF 59.7803 @110.0053 ~sin[!2#20.000001967 h\\n9.8066530.99985\\n(6)\\nwhere:\\n[= latitude', metadata={'source': 'C:\\\\Users\\\\user\\\\Documents\\\\Github\\\\projects\\\\LlamaAi\\\\AnsiAssistance\\\\data\\\\E2624-17-SP-Torque-Calibration-Testing-Machine.pdf', 'page': 2}),\n",
       " Document(page_content='where:\\n[= latitude\\nh= elevation above sea level in metres.\\nNOTE5—Equation 6 and Table 1 correct for the shape of the earth,', metadata={'source': 'C:\\\\Users\\\\user\\\\Documents\\\\Github\\\\projects\\\\LlamaAi\\\\AnsiAssistance\\\\data\\\\E2624-17-SP-Torque-Calibration-Testing-Machine.pdf', 'page': 2}),\n",
       " Document(page_content='elevation above sea level, and air buoyancy. The correction for the shapeof the earth is a simpliﬁcation of the World Geodetic System 84Ellipsoidal Gravity Formula. The results obtained with the simpliﬁedformula differ by less than 0.0005%. The term that corrects for altitude,corrects for an increased distance from the center of the earth and thecounter-acting Bouguer effect of localized increased mass of the earth.The formula assumes a rock density of 2.67 g/cc. If the rock densitychanged by', metadata={'source': 'C:\\\\Users\\\\user\\\\Documents\\\\Github\\\\projects\\\\LlamaAi\\\\AnsiAssistance\\\\data\\\\E2624-17-SP-Torque-Calibration-Testing-Machine.pdf', 'page': 2}),\n",
       " Document(page_content='densitychanged by 0.5 g/cc, an error of 0.003 % would result. The largestinaccuracy to be expected, due to extremes in air pressure and humiditywhen using steel weights, is approximately 0.01%. If aluminum weightsare used, errors on the order of 0.03% can result.', metadata={'source': 'C:\\\\Users\\\\user\\\\Documents\\\\Github\\\\projects\\\\LlamaAi\\\\AnsiAssistance\\\\data\\\\E2624-17-SP-Torque-Calibration-Testing-Machine.pdf', 'page': 2}),\n",
       " Document(page_content='6.2.2 Standard weights are typically denominated in a unit', metadata={'source': 'C:\\\\Users\\\\user\\\\Documents\\\\Github\\\\projects\\\\LlamaAi\\\\AnsiAssistance\\\\data\\\\E2624-17-SP-Torque-Calibration-Testing-Machine.pdf', 'page': 2}),\n",
       " Document(page_content='of mass. When a standard weight has been calibrated such thatit exerts a speciﬁc force under prescribed conditions, it must berecognized that the weight will exert that force only underthose conditions. When used in other ﬁelds of gravity, it isnecessary to correct the calibrated force value by multiplyingthe force value by the value for local gravity and dividing bythe value of gravity for which the weight was calibrated. Anyrequired air buoyancy corrections must also be taken intoaccount.', metadata={'source': 'C:\\\\Users\\\\user\\\\Documents\\\\Github\\\\projects\\\\LlamaAi\\\\AnsiAssistance\\\\data\\\\E2624-17-SP-Torque-Calibration-Testing-Machine.pdf', 'page': 2}),\n",
       " Document(page_content=\"E2624 − 17\\n3\\n\\x0b8&5\\x0c\\x038QLYHUVLGDG\\x03GH\\x03&RVWD\\x035LFD\\x03SXUVXDQW\\x03WR\\x03/LFHQVH\\x03$JUHHPHQW\\x11\\x031R\\x03IXUWKHU\\x03UHSURGXFWLRQV\\x03DXWKRUL]HG\\x11'RZQORDGHG\\x12SULQWHG\\x03E\\\\\\x03&RS\\\\ULJKW\\x03E\\\\\\x03$670\\x03,QW\\nO\\x03\\x0bDOO\\x03ULJKWV\\x03UHVHUYHG\\x0c\\x036XQ\\x03$SU\\x03\\x14\\x17\\x03\\x14\\x19\\x1d\\x15\\x19\\x1d\\x18\\x14\\x0387&\\x03\\x15\\x13\\x15\\x17\", metadata={'source': 'C:\\\\Users\\\\user\\\\Documents\\\\Github\\\\projects\\\\LlamaAi\\\\AnsiAssistance\\\\data\\\\E2624-17-SP-Torque-Calibration-Testing-Machine.pdf', 'page': 2}),\n",
       " Document(page_content='6.3 The lever arm or wheel shall be calibrated to determine\\nthe length or radius within a known uncertainty, that istraceable to SI. The expanded uncertainty, with a conﬁdencefactor of 95% (k=2), for the measured length of the calibrationlever arm shall not exceed 0.1 %.\\n6.4 Elastic torque-measuring instruments may be used as\\nsecondary standards and shall be calibrated by primary stan-dards. Practice\\nE2428 deﬁnes the calibration of elastic torque-', metadata={'source': 'C:\\\\Users\\\\user\\\\Documents\\\\Github\\\\projects\\\\LlamaAi\\\\AnsiAssistance\\\\data\\\\E2624-17-SP-Torque-Calibration-Testing-Machine.pdf', 'page': 3}),\n",
       " Document(page_content='measuring instruments. Practice E74deﬁnes the calibration of\\nelastic force-measuring instruments.\\n7. Selection of Applied Torques\\n7.1 Determine the upper and lower limits of the torque\\nrange of the testing machine to be calibrated. In no case shallthe calibrated range of torque include torques below 200 timesthe resolution of the torque indicator.\\n7.2 If the lower limit of the torque range is greater or equal', metadata={'source': 'C:\\\\Users\\\\user\\\\Documents\\\\Github\\\\projects\\\\LlamaAi\\\\AnsiAssistance\\\\data\\\\E2624-17-SP-Torque-Calibration-Testing-Machine.pdf', 'page': 3}),\n",
       " Document(page_content='to one-tenth the upper limit, calibrate the testing machine byapplying at least ﬁve test torque values, at least two times, withthe difference between any two successive torque value appli-cations being no larger than one-third the difference betweenthe selected maximum and minimum test torque values.Minimum torque values may be one-tenth the maximum torquevalues. Applied torque values on the second run are to beapproximately the same as those on the ﬁrst run. Report allvalues, including the', metadata={'source': 'C:\\\\Users\\\\user\\\\Documents\\\\Github\\\\projects\\\\LlamaAi\\\\AnsiAssistance\\\\data\\\\E2624-17-SP-Torque-Calibration-Testing-Machine.pdf', 'page': 3}),\n",
       " Document(page_content='including the indicator reading, after removal oftorques. Include indicator resolution for the minimum torquevalue.', metadata={'source': 'C:\\\\Users\\\\user\\\\Documents\\\\Github\\\\projects\\\\LlamaAi\\\\AnsiAssistance\\\\data\\\\E2624-17-SP-Torque-Calibration-Testing-Machine.pdf', 'page': 3}),\n",
       " Document(page_content='NOTE6—When calibration is done using lever arms and weights, the\\ncombination of standard weights and lever arms may not exactly corre-spond to the desired upper and lower torques to be applied to the testingmachine. In this case torque values that differ from the desired value by62.5 % are acceptable.\\n7.3 When the lower limit of a calibrated torque range is less', metadata={'source': 'C:\\\\Users\\\\user\\\\Documents\\\\Github\\\\projects\\\\LlamaAi\\\\AnsiAssistance\\\\data\\\\E2624-17-SP-Torque-Calibration-Testing-Machine.pdf', 'page': 3}),\n",
       " Document(page_content='than 10 % of the capacity of the range, or where the resolutionof the torque indicator changes automatically and extends orselects ranges without the inﬂuence of an operator, verify thetorque range by applying at least two successive series oftorque values, arranged in overlapping decade groups, suchthat the maximum torque value in one decade is the minimumtorque value in the next higher decade. Starting with theselected minimal torque value in each decade, there are to be at', metadata={'source': 'C:\\\\Users\\\\user\\\\Documents\\\\Github\\\\projects\\\\LlamaAi\\\\AnsiAssistance\\\\data\\\\E2624-17-SP-Torque-Calibration-Testing-Machine.pdf', 'page': 3}),\n",
       " Document(page_content='least ﬁve torque applications, in an approximate ratio of 1:1,2:1, 4:1, 7:1, 10:1 or 1:1, 2.5:1, 5:1, 7.5:1, 10:1, unless themaximum torque value is reached prior to completing alltorque application ratios. The decade’s minimum torque mustbe a torque 200 or more times the resolution of the torqueindicator in each decade. Report all torque values and theirpercent errors. Include the resolution of the torque indicator foreach decade. See\\n3.1.6 andAppendix X1 , which contains a', metadata={'source': 'C:\\\\Users\\\\user\\\\Documents\\\\Github\\\\projects\\\\LlamaAi\\\\AnsiAssistance\\\\data\\\\E2624-17-SP-Torque-Calibration-Testing-Machine.pdf', 'page': 3}),\n",
       " Document(page_content='non-mandatory method for determining resolution.\\nNOTE7—Example: If full scale is 5000 lbf·in. and the minimal torque', metadata={'source': 'C:\\\\Users\\\\user\\\\Documents\\\\Github\\\\projects\\\\LlamaAi\\\\AnsiAssistance\\\\data\\\\E2624-17-SP-Torque-Calibration-Testing-Machine.pdf', 'page': 3}),\n",
       " Document(page_content='resolution is 0.04 lbf·in., the minimum calibrated torque would be 8 lbf·in.(0.04 × 200). Instead of decades of 8, 80 and 800 lbf·in., three decades of10, 100 and 1000 lbf·in. could be selected to cover the torque applicationrange. Suitable calibration test torque values would then be approximately10, 20, 40, 70, 100, 200, 400, 700, 1000, 2000, 4000, 5000 lbf·in. Notethat the uppermost decade would not be a complete decade and would beterminated with the maximum torque value in the range. If', metadata={'source': 'C:\\\\Users\\\\user\\\\Documents\\\\Github\\\\projects\\\\LlamaAi\\\\AnsiAssistance\\\\data\\\\E2624-17-SP-Torque-Calibration-Testing-Machine.pdf', 'page': 3}),\n",
       " Document(page_content='in the range. If the alternatedistribution of torques is used, the veriﬁcation torques selected would be10, 25, 50, 75, 100, 250, 500, 750, 1000, 2500, 3750, 5000 lbf·in.', metadata={'source': 'C:\\\\Users\\\\user\\\\Documents\\\\Github\\\\projects\\\\LlamaAi\\\\AnsiAssistance\\\\data\\\\E2624-17-SP-Torque-Calibration-Testing-Machine.pdf', 'page': 3}),\n",
       " Document(page_content='7.4 Report the resolution of each decade and the percent\\nerror for each test torque value of the two runs. The largestreported error of the two sets of the test runs is the maximumerror for the torque range.\\n7.5 Approximately 30 seconds after removing the maximum\\ntorque in a range, record the return to zero indicator reading.This reading shall be 0.0 6either the resolution, 0.1 % of the\\nmaximum torque just applied, or 1 % of the lowest calibratedtorque in the range, whichever is greater.', metadata={'source': 'C:\\\\Users\\\\user\\\\Documents\\\\Github\\\\projects\\\\LlamaAi\\\\AnsiAssistance\\\\data\\\\E2624-17-SP-Torque-Calibration-Testing-Machine.pdf', 'page': 3}),\n",
       " Document(page_content='8. Extraneous Factors\\n8.1 For the purpose of determining the calibrated torque\\nrange of a testing machine, apply all torque values such that theresultant torque is as nearly along the axis of the torque sensingdevice as is possible. Care should be given to minimize anyconcentricity or angular misalignment.\\n8.2 Where a lever arm is to be used, ensure that there is', metadata={'source': 'C:\\\\Users\\\\user\\\\Documents\\\\Github\\\\projects\\\\LlamaAi\\\\AnsiAssistance\\\\data\\\\E2624-17-SP-Torque-Calibration-Testing-Machine.pdf', 'page': 3}),\n",
       " Document(page_content='minimal angular misalignment to the reaction point of appliedtorque values and the centerline of the torque sensing device.The lever arm shall be designed so that it will withstand theloading applied during calibration without deﬂections that willchange it’s effective length. It shall be supported in such aTABLE 1 Unit Force Exerted by a Unit Mass in Air at Various Latitudes\\nLatitiude, [,°Elevation Above Sea Level, h, m (ft)\\n0\\n(0)500\\n(1640)1000\\n(3280)1500\\n(4920)2000\\n(6560)2500\\n(8200)', metadata={'source': 'C:\\\\Users\\\\user\\\\Documents\\\\Github\\\\projects\\\\LlamaAi\\\\AnsiAssistance\\\\data\\\\E2624-17-SP-Torque-Calibration-Testing-Machine.pdf', 'page': 3}),\n",
       " Document(page_content='(6560)2500\\n(8200)\\n0 0.9972 0.9971 0.9970 0.9969 0.9968 0.9967\\n5 0.9972 0.9971 0.9970 0.9969 0.9968 0.9967', metadata={'source': 'C:\\\\Users\\\\user\\\\Documents\\\\Github\\\\projects\\\\LlamaAi\\\\AnsiAssistance\\\\data\\\\E2624-17-SP-Torque-Calibration-Testing-Machine.pdf', 'page': 3}),\n",
       " Document(page_content='10 0.9973 0.9972 0.9971 0.9970 0.9969 0.996815 0.9975 0.9974 0.9973 0.9972 0.9971 0.997020 0.9978 0.9977 0.9976 0.9975 0.9974 0.997325 0.9981 0.9980 0.9979 0.9978 0.9977 0.997630 0.9985 0.9984 0.9983 0.9982 0.9981 0.998035 0.9989 0.9988 0.9987 0.9986 0.9985 0.998440 0.9993 0.9992 0.9991 0.9990 0.9989 0.998845 0.9998 0.9997 0.9996 0.9995 0.9994 0.999350 1.0003 1.0002 1.0001 1.0000 0.9999 0.999855 1.0007 1.0006 1.0005 1.0004 1.0003 1.000260 1.0011 1.0010 1.0009 1.0008 1.0007 1.000665 1.0015', metadata={'source': 'C:\\\\Users\\\\user\\\\Documents\\\\Github\\\\projects\\\\LlamaAi\\\\AnsiAssistance\\\\data\\\\E2624-17-SP-Torque-Calibration-Testing-Machine.pdf', 'page': 3}),\n",
       " Document(page_content='1.000665 1.0015 1.0014 1.0013 1.0012 1.0011 1.001070 1.0018 1.0017 1.0016 1.0015 1.0014 1.0013', metadata={'source': 'C:\\\\Users\\\\user\\\\Documents\\\\Github\\\\projects\\\\LlamaAi\\\\AnsiAssistance\\\\data\\\\E2624-17-SP-Torque-Calibration-Testing-Machine.pdf', 'page': 3}),\n",
       " Document(page_content=\"E2624 − 17\\n4\\n\\x0b8&5\\x0c\\x038QLYHUVLGDG\\x03GH\\x03&RVWD\\x035LFD\\x03SXUVXDQW\\x03WR\\x03/LFHQVH\\x03$JUHHPHQW\\x11\\x031R\\x03IXUWKHU\\x03UHSURGXFWLRQV\\x03DXWKRUL]HG\\x11'RZQORDGHG\\x12SULQWHG\\x03E\\\\\\x03&RS\\\\ULJKW\\x03E\\\\\\x03$670\\x03,QW\\nO\\x03\\x0bDOO\\x03ULJKWV\\x03UHVHUYHG\\x0c\\x036XQ\\x03$SU\\x03\\x14\\x17\\x03\\x14\\x19\\x1d\\x15\\x19\\x1d\\x18\\x14\\x0387&\\x03\\x15\\x13\\x15\\x17\", metadata={'source': 'C:\\\\Users\\\\user\\\\Documents\\\\Github\\\\projects\\\\LlamaAi\\\\AnsiAssistance\\\\data\\\\E2624-17-SP-Torque-Calibration-Testing-Machine.pdf', 'page': 3}),\n",
       " Document(page_content='manner to minimize bending around the centerline of the\\ntorque sensing device. The support shall be designed so as tominimize all parasitic forces from being applied to the torquetransducer.\\n8.3 Where a reference torque transducer is to be used for\\ntorque calibration of a testing machine, ensure that there isminimum misalignment of the transducers or load train vari-ables that could exert bias within the setup.\\n8.4 Temperature Considerations:', metadata={'source': 'C:\\\\Users\\\\user\\\\Documents\\\\Github\\\\projects\\\\LlamaAi\\\\AnsiAssistance\\\\data\\\\E2624-17-SP-Torque-Calibration-Testing-Machine.pdf', 'page': 4}),\n",
       " Document(page_content='8.4.1 Where the torque measuring device(s) are electrical,\\nconnect the force/torque transducer, indicator, interface, etc.using the appropriate cabling used in the actual machine setup.Turn on power and allow the components to warm up for aperiod of time recommended by the manufacturer. In theabsence of any recommendations, allow at least 15 minutes forthe components to be energized.\\n8.4.2 Position a temperature measurement device in close', metadata={'source': 'C:\\\\Users\\\\user\\\\Documents\\\\Github\\\\projects\\\\LlamaAi\\\\AnsiAssistance\\\\data\\\\E2624-17-SP-Torque-Calibration-Testing-Machine.pdf', 'page': 4}),\n",
       " Document(page_content='proximity of the machine being calibrated. Allow the force/torque measuring devices and all relevant parts of the measur-ing system equipment to reach thermal stability.\\n9. System Calibration\\n9.1 A testing machine shall be calibrated as a system with\\nthe torque sensing and indicating devices (see\\n1.2and1.4)i n\\nplace and operating as in actual use.\\n9.2 System calibration is invalid if the torque sensing\\ndevices are removed and calibrated independently of thetesting machine.', metadata={'source': 'C:\\\\Users\\\\user\\\\Documents\\\\Github\\\\projects\\\\LlamaAi\\\\AnsiAssistance\\\\data\\\\E2624-17-SP-Torque-Calibration-Testing-Machine.pdf', 'page': 4}),\n",
       " Document(page_content='9.3 A calibration consists of at least two runs of torque\\ncontained in the torque range(s) selected. See\\n7.2and7.3.\\n9.3.1 If the initial run produces values within the require-\\nments of Section 10, the data may be used “as found” for run\\none of the two required for the new calibration certiﬁcate.\\n9.3.2 If the initial run produces any values which are outside', metadata={'source': 'C:\\\\Users\\\\user\\\\Documents\\\\Github\\\\projects\\\\LlamaAi\\\\AnsiAssistance\\\\data\\\\E2624-17-SP-Torque-Calibration-Testing-Machine.pdf', 'page': 4}),\n",
       " Document(page_content='of these requirements, the “as found” data may be reported andmay be used in accordance with applicable quality controlprograms. Calibration adjustments shall be made to the torqueindicator system(s), after which the two required runs shall beconducted and reported in the new calibration certiﬁcate.\\n9.3.3 Calibration adjustments may be made to improve the\\naccuracy of the system. They shall be followed by the tworequired runs, and issuance of a new calibration certiﬁcate.', metadata={'source': 'C:\\\\Users\\\\user\\\\Documents\\\\Github\\\\projects\\\\LlamaAi\\\\AnsiAssistance\\\\data\\\\E2624-17-SP-Torque-Calibration-Testing-Machine.pdf', 'page': 4}),\n",
       " Document(page_content='9.3.4 The indicated torque of a testing machine that exceeds\\nthe permissible variation and that cannot be properly adjusted,shall not be corrected either by calculation or by the use of acalibration diagram in order to obtain torque values within therequired permissible variation.\\n9.4 In the calibration of a testing machine, approach the\\ntorque value to be calibrated by increasing the torque from alower value.\\n9.4.1 For any testing machine the errors observed at a given', metadata={'source': 'C:\\\\Users\\\\user\\\\Documents\\\\Github\\\\projects\\\\LlamaAi\\\\AnsiAssistance\\\\data\\\\E2624-17-SP-Torque-Calibration-Testing-Machine.pdf', 'page': 4}),\n",
       " Document(page_content='torque value taken ﬁrst by increasing the torque to any giventorque value and then by decreasing the torque to that samevalue, may not agree. If a testing machine is to be used underdecreasing torque mode, it shall be calibrated under decreasingtorque as well.9.5 Testing machines that are used to apply torque in both\\nclockwise and counterclockwise directions shall be calibratedin both directions.\\n9.6 Before commencing with the procedure, condition the', metadata={'source': 'C:\\\\Users\\\\user\\\\Documents\\\\Github\\\\projects\\\\LlamaAi\\\\AnsiAssistance\\\\data\\\\E2624-17-SP-Torque-Calibration-Testing-Machine.pdf', 'page': 4}),\n",
       " Document(page_content='system to the loads that will be applied during calibration byexercising the torque measuring device to the maximumcalibration torque. Care should be given to the way a testingmachine is used in determining the appropriate procedure forexercising a given machine.\\n9.6.1 If the testing machine is to be used in a single\\ndirection, exercise the system three times to the maximumtorque in that direction prior to calibrating.\\n9.6.2 If the testing machine is to be used in both clockwise', metadata={'source': 'C:\\\\Users\\\\user\\\\Documents\\\\Github\\\\projects\\\\LlamaAi\\\\AnsiAssistance\\\\data\\\\E2624-17-SP-Torque-Calibration-Testing-Machine.pdf', 'page': 4}),\n",
       " Document(page_content='and counter clockwise directions exercise the system to themaximum torque three times in the appropriate mode prior tocalibrating that mode.\\n9.6.3 If a testing system is to be used through zero (applying', metadata={'source': 'C:\\\\Users\\\\user\\\\Documents\\\\Github\\\\projects\\\\LlamaAi\\\\AnsiAssistance\\\\data\\\\E2624-17-SP-Torque-Calibration-Testing-Machine.pdf', 'page': 4}),\n",
       " Document(page_content='positive torque values and then negative torque values withoutthe ability to exercise the system), exercise the system tomaximum positive torque once and then to the maximumnegative torque. Repeat this process three times, zeroing theindicated torque at zero applied torque. Start the positivetorque calibration after the third application of the maximumnegative calibration torque.\\n9.7 Remove all applied torque and set the machine‘s torque\\nindication device to read zero.', metadata={'source': 'C:\\\\Users\\\\user\\\\Documents\\\\Github\\\\projects\\\\LlamaAi\\\\AnsiAssistance\\\\data\\\\E2624-17-SP-Torque-Calibration-Testing-Machine.pdf', 'page': 4}),\n",
       " Document(page_content='9.8 Zero the reading of the calibration apparatus.9.9 Calibration by Use of Standard Weights:\\n9.9.1 Place standard weights meeting the requirements of\\n6.1on the calibration weight pan suspended from the calibra-', metadata={'source': 'C:\\\\Users\\\\user\\\\Documents\\\\Github\\\\projects\\\\LlamaAi\\\\AnsiAssistance\\\\data\\\\E2624-17-SP-Torque-Calibration-Testing-Machine.pdf', 'page': 4}),\n",
       " Document(page_content='tion lever arm. Apply the weights in increments and remove inthe reverse order. Apply the weights symmetrically maintain-ing a force vector perpendicular to the moment arm radius.Record the applied torque value and the indicated torque valuefor each test torque value applied, and the error and the percenterror calculated from this data.\\nNOTE8—Care should be given to ensure that the applied forces are\\napplied at the lever arm’s calibrated length.', metadata={'source': 'C:\\\\Users\\\\user\\\\Documents\\\\Github\\\\projects\\\\LlamaAi\\\\AnsiAssistance\\\\data\\\\E2624-17-SP-Torque-Calibration-Testing-Machine.pdf', 'page': 4}),\n",
       " Document(page_content='9.10 Calibration by Use of Elastic Calibration Devices:\\n9.10.1 Temperature Equalization:\\n9.10.1.1 When using an elastic calibration device to verify\\nthe torque values of a testing machine, place the device near to,or preferably in, the testing machine a sufficient length of timebefore the test to assure that the indication of the calibrationdevice is stable.\\n9.10.1.2 During the calibration, measure the temperature of\\nthe elastic device within 62°F or 61°C by placing a calibrated', metadata={'source': 'C:\\\\Users\\\\user\\\\Documents\\\\Github\\\\projects\\\\LlamaAi\\\\AnsiAssistance\\\\data\\\\E2624-17-SP-Torque-Calibration-Testing-Machine.pdf', 'page': 4}),\n",
       " Document(page_content='thermometer as close to the device as possible.\\n9.10.1.3 Elastic calibration devices not having an inherent\\ntemperature-compensating feature must be corrected math-ematically for the difference between ambient temperature andthe temperature to which its calibration is referenced.Temperature-correction coefficients should be furnished (ifapplicable) by the manufacturer of the calibration device.\\n9.10.1.4 Place the elastic calibration device in the testing', metadata={'source': 'C:\\\\Users\\\\user\\\\Documents\\\\Github\\\\projects\\\\LlamaAi\\\\AnsiAssistance\\\\data\\\\E2624-17-SP-Torque-Calibration-Testing-Machine.pdf', 'page': 4}),\n",
       " Document(page_content=\"machine so that it is aligned properly with the torque sensing\\nE2624 − 17\\n5\\n\\x0b8&5\\x0c\\x038QLYHUVLGDG\\x03GH\\x03&RVWD\\x035LFD\\x03SXUVXDQW\\x03WR\\x03/LFHQVH\\x03$JUHHPHQW\\x11\\x031R\\x03IXUWKHU\\x03UHSURGXFWLRQV\\x03DXWKRUL]HG\\x11'RZQORDGHG\\x12SULQWHG\\x03E\\\\\\x03&RS\\\\ULJKW\\x03E\\\\\\x03$670\\x03,QW\\nO\\x03\\x0bDOO\\x03ULJKWV\\x03UHVHUYHG\\x0c\\x036XQ\\x03$SU\\x03\\x14\\x17\\x03\\x14\\x19\\x1d\\x15\\x19\\x1d\\x18\\x14\\x0387&\\x03\\x15\\x13\\x15\\x17\", metadata={'source': 'C:\\\\Users\\\\user\\\\Documents\\\\Github\\\\projects\\\\LlamaAi\\\\AnsiAssistance\\\\data\\\\E2624-17-SP-Torque-Calibration-Testing-Machine.pdf', 'page': 4}),\n",
       " Document(page_content='device of the unit under test. If an elastic torque measuring\\ndevice is used for calibration, position its centerline so that itcoincides with the centerline of the torque sensing device of theunit under test. If an elastic-force measuring device is used forcalibration, align its sensing axis so that it is perpendicular tothe associated lever arm. Each elastic calibration device shallbe used within its Class A torque range and identiﬁed with thecalibration readings for which it is used.', metadata={'source': 'C:\\\\Users\\\\user\\\\Documents\\\\Github\\\\projects\\\\LlamaAi\\\\AnsiAssistance\\\\data\\\\E2624-17-SP-Torque-Calibration-Testing-Machine.pdf', 'page': 5}),\n",
       " Document(page_content='9.10.1.5 To ensure a stable zero, ﬂex the elastic device from\\nzero torque to the maximum torque at which the device will beused as described in\\n9.6. Allow sufficient time for stability.\\n9.10.1.6 There are two methods for using elastic calibration\\ndevices. Select the method to be used and use only that methodthrough out the calibration of the test machine:\\n(1) Follow-the-Torque Method— The torque on the elastic', metadata={'source': 'C:\\\\Users\\\\user\\\\Documents\\\\Github\\\\projects\\\\LlamaAi\\\\AnsiAssistance\\\\data\\\\E2624-17-SP-Torque-Calibration-Testing-Machine.pdf', 'page': 5}),\n",
       " Document(page_content='calibration device is followed until the torque reaches anominal graduation on the torque-readout scale of the testingmachine. Record the torque on the elastic calibration device.\\n(2) Set-the-Torque Method— The nominal torque is preset\\non the torque calibration standard, and the testing machinetorque readout is read when the nominal torque on the torquecalibration standard is achieved.\\n9.10.1.7 After selecting suitable torque increments, obtain', metadata={'source': 'C:\\\\Users\\\\user\\\\Documents\\\\Github\\\\projects\\\\LlamaAi\\\\AnsiAssistance\\\\data\\\\E2624-17-SP-Torque-Calibration-Testing-Machine.pdf', 'page': 5}),\n",
       " Document(page_content='zero readings for both the machine and elastic device, andapply the torques slowly and smoothly without over shootingthe intended torques during all calibration measurements.\\n9.10.1.8 Ensure that the uses of the maximum torque\\nindicators, recorders, or other accessory devices do not causeerrors which exceed the acceptable tolerances of\\n10.1.\\n9.10.1.9 Record the indicated torque of the testing machine', metadata={'source': 'C:\\\\Users\\\\user\\\\Documents\\\\Github\\\\projects\\\\LlamaAi\\\\AnsiAssistance\\\\data\\\\E2624-17-SP-Torque-Calibration-Testing-Machine.pdf', 'page': 5}),\n",
       " Document(page_content='and the applied torque from the elastic calibration device(temperature corrected as necessary), as well as the error andpercentage of error calculated from the readings.\\n10. Basis of Calibration\\n10.1 The percent error for torque values within the cali-\\nbrated range of the testing machine shall not exceed 61.0 %.\\nThe algebraic difference between errors of two applications ofsame torque (repeatability) shall not exceed 1.0 % (see\\n7.1and\\n7.3).', metadata={'source': 'C:\\\\Users\\\\user\\\\Documents\\\\Github\\\\projects\\\\LlamaAi\\\\AnsiAssistance\\\\data\\\\E2624-17-SP-Torque-Calibration-Testing-Machine.pdf', 'page': 5}),\n",
       " Document(page_content='7.1and\\n7.3).\\n10.2 The certiﬁcate of the calibration of a testing machine\\nwill state within what range of torque values it may be used,rather than reporting a blanket acceptance or rejection of themachine. For testing machines that possess multiple-capacityranges, the range of torque values of each range must be stated.\\n10.3 In no case shall the calibrated range of torque be stated\\nas including torque values below 200 times the resolution ofthe machine’s torque indicator (see\\n3.1.6 ).', metadata={'source': 'C:\\\\Users\\\\user\\\\Documents\\\\Github\\\\projects\\\\LlamaAi\\\\AnsiAssistance\\\\data\\\\E2624-17-SP-Torque-Calibration-Testing-Machine.pdf', 'page': 5}),\n",
       " Document(page_content='3.1.6 ).\\n10.4 In no case shall the calibrated range of torque values be\\nstated as including torque outside the range of torque valuesapplied during the calibration test.\\n10.5 Testing machines may be more or less accurate than\\nthe allowable 61.0 % of reading error, or more or less', metadata={'source': 'C:\\\\Users\\\\user\\\\Documents\\\\Github\\\\projects\\\\LlamaAi\\\\AnsiAssistance\\\\data\\\\E2624-17-SP-Torque-Calibration-Testing-Machine.pdf', 'page': 5}),\n",
       " Document(page_content='repeatable than 1.0 % of reading, which is the Practice E2624calibration basis. Buyers/owners/users or product speciﬁcationgroups might require or allow larger or smaller error systems.Systems with accuracy errors larger than 61.0 % of reading or\\nrepeatability errors larger than 1.0 % of reading do not complywith Practice E2624.\\n11. Time Interval Between Calibrations\\n11.1 It is recommended that testing machines be calibrated', metadata={'source': 'C:\\\\Users\\\\user\\\\Documents\\\\Github\\\\projects\\\\LlamaAi\\\\AnsiAssistance\\\\data\\\\E2624-17-SP-Torque-Calibration-Testing-Machine.pdf', 'page': 5}),\n",
       " Document(page_content='annually or more frequently if required. In no case shall thetime interval exceed 18 months except for machines in whicha long-time test runs beyond the 18 month period. In suchcases, the machine shall be calibrated after completion of thetest.\\n11.2 Testing machines shall be calibrated immediately after\\nrepairs (this includes new or replacement parts, or mechanicalor electrical adjustments) that may in any way affect theoperation of the torque indicating device or the values dis-played.', metadata={'source': 'C:\\\\Users\\\\user\\\\Documents\\\\Github\\\\projects\\\\LlamaAi\\\\AnsiAssistance\\\\data\\\\E2624-17-SP-Torque-Calibration-Testing-Machine.pdf', 'page': 5}),\n",
       " Document(page_content='11.2.1 Examples of new or replacement parts that may not\\naffect the proper operation of a torque indicating system, are:printers, computer monitors, keyboards, and modems.\\n11.3 Calibration is required immediately after a testing\\nmachine is relocated (except for machines that are designed tobe moved from place to place in normal use) and wheneverthere is a reason to doubt the accuracy of the torque indicatingsystem, regardless of the time interval since the last calibration.\\n12. Report', metadata={'source': 'C:\\\\Users\\\\user\\\\Documents\\\\Github\\\\projects\\\\LlamaAi\\\\AnsiAssistance\\\\data\\\\E2624-17-SP-Torque-Calibration-Testing-Machine.pdf', 'page': 5}),\n",
       " Document(page_content='12. Report\\n12.1 Calculating Results:\\n12.1.1 Error— calculate the error E, as follows:\\nE5A2B (7)\\nwhere:\\nA= Torque indicated by the testing machine being veriﬁed,\\nB= Applied torque, N·m (lbf·in.), as determined by the\\nreference device.\\n12.1.2 Percentage of error— calculate the percentage of\\nerror, Epas follows:\\nEp5~~A 2B!⁄B!3100 (8)\\nwhere:\\nA= Torque indicated by the testing machine being veriﬁed,\\nB= Applied torque, N·m (lbf·in.), as determined by the\\nreference device.\\n12.2 Reporting Results:', metadata={'source': 'C:\\\\Users\\\\user\\\\Documents\\\\Github\\\\projects\\\\LlamaAi\\\\AnsiAssistance\\\\data\\\\E2624-17-SP-Torque-Calibration-Testing-Machine.pdf', 'page': 5}),\n",
       " Document(page_content='12.2.1 Reports should include the following information:12.2.1.1 Name of the calibrating agency,12.2.1.2 Date of calibration,12.2.1.3 Testing machine description, serial number, and\\nlocation,\\n12.2.1.4 Method of calibration used,12.2.1.5 Manufacturer, serial number, calibrated range of\\ntorque, and calibration date of devices used in calibration,\\n12.2.1.6 Statement of how, by whom, and when the calibra-\\ntion of the apparatus used in verifying the testing machine wasdone,', metadata={'source': 'C:\\\\Users\\\\user\\\\Documents\\\\Github\\\\projects\\\\LlamaAi\\\\AnsiAssistance\\\\data\\\\E2624-17-SP-Torque-Calibration-Testing-Machine.pdf', 'page': 5}),\n",
       " Document(page_content=\"12.2.1.7 Class A range of torques, in accordance with\\nPractice\\nE2428 , for each calibration device,\\nE2624 − 17\\n6\\n\\x0b8&5\\x0c\\x038QLYHUVLGDG\\x03GH\\x03&RVWD\\x035LFD\\x03SXUVXDQW\\x03WR\\x03/LFHQVH\\x03$JUHHPHQW\\x11\\x031R\\x03IXUWKHU\\x03UHSURGXFWLRQV\\x03DXWKRUL]HG\\x11'RZQORDGHG\\x12SULQWHG\\x03E\\\\\\x03&RS\\\\ULJKW\\x03E\\\\\\x03$670\\x03,QW\\nO\\x03\\x0bDOO\\x03ULJKWV\\x03UHVHUYHG\\x0c\\x036XQ\\x03$SU\\x03\\x14\\x17\\x03\\x14\\x19\\x1d\\x15\\x19\\x1d\\x18\\x14\\x0387&\\x03\\x15\\x13\\x15\\x17\", metadata={'source': 'C:\\\\Users\\\\user\\\\Documents\\\\Github\\\\projects\\\\LlamaAi\\\\AnsiAssistance\\\\data\\\\E2624-17-SP-Torque-Calibration-Testing-Machine.pdf', 'page': 5}),\n",
       " Document(page_content='12.2.1.8 Temperature of the calibration device and a state-\\nment that computed torque values have been temperaturecorrected as necessary,\\n12.2.1.9 Identiﬁcation of the torque-indicating systems that\\nwere calibrated (for testing machines having more than onetype of indicating system),\\n12.2.1.10 The testing machine error and percent error for', metadata={'source': 'C:\\\\Users\\\\user\\\\Documents\\\\Github\\\\projects\\\\LlamaAi\\\\AnsiAssistance\\\\data\\\\E2624-17-SP-Torque-Calibration-Testing-Machine.pdf', 'page': 6}),\n",
       " Document(page_content='each torque-indicating system at each torque value and themaximum algebraic error difference (repeatability) for eachtorque range and torque-indicating system calibrated,\\n12.2.1.11 The uncertainty of the applied torque values, as\\nrequired.\\nAppendix X2 is an example a method which may be\\nused to calculate and state uncertainties and/or errors,\\n12.2.1.12 Calibrated range of torque of each torque- indi-', metadata={'source': 'C:\\\\Users\\\\user\\\\Documents\\\\Github\\\\projects\\\\LlamaAi\\\\AnsiAssistance\\\\data\\\\E2624-17-SP-Torque-Calibration-Testing-Machine.pdf', 'page': 6}),\n",
       " Document(page_content='cating system of the testing machine,12.2.1.13 Results obtained on the return-to-zero reading for\\neach range (see 7.5),\\n12.2.1.14 Statement that calibration has been performed in\\naccordance with Practice E2624. It is recommended thatcalibration be performed in accordance with the latest pub-lished issue of Practice E2624.\\n12.2.2 Names of calibration personnel and witnesses (if\\nrequired).\\n12.3 The certiﬁcate shall be error free, and contain no\\nalteration of data, dates, etc.\\n13. Keywords', metadata={'source': 'C:\\\\Users\\\\user\\\\Documents\\\\Github\\\\projects\\\\LlamaAi\\\\AnsiAssistance\\\\data\\\\E2624-17-SP-Torque-Calibration-Testing-Machine.pdf', 'page': 6}),\n",
       " Document(page_content='13. Keywords\\n13.1 calibration; resolution; torque range\\nAPPENDIXES\\n(Nonmandatory Information)\\nX1. DETERMINING RESOLUTION OF THE TORQUE INDICATOR\\nX1.1 The resolution of a torque capable testing machine in\\ngeneral is a complex function of many variables includingapplied torque range, electrical and mechanical components,electrical and mechanical noise, and application software.\\nX1.2 A variety of methods may be used to check the\\nresolution of the system. Some suggested procedures are as\\nfollows.', metadata={'source': 'C:\\\\Users\\\\user\\\\Documents\\\\Github\\\\projects\\\\LlamaAi\\\\AnsiAssistance\\\\data\\\\E2624-17-SP-Torque-Calibration-Testing-Machine.pdf', 'page': 6}),\n",
       " Document(page_content='follows.\\nX1.3 Procedure for Analog-Type Torque Indicators :\\nX1.3.1 Typically these devices are not auto-ranging. The\\nresolution should be checked at the lowest calibrated torque ineach torque range (typically 10 % of the torque range).\\nX1.3.2 Divide the pointer width by the distance between', metadata={'source': 'C:\\\\Users\\\\user\\\\Documents\\\\Github\\\\projects\\\\LlamaAi\\\\AnsiAssistance\\\\data\\\\E2624-17-SP-Torque-Calibration-Testing-Machine.pdf', 'page': 6}),\n",
       " Document(page_content='two adjacent graduation marks at the torque where the resolu-tion is to be ascertained to determine the pointer to graduationratio. If the distance between the two adjacent graduationmarks is less than 0.10 in. (2.5 mm) and the ratio is less than1:5, use 1:5 for the ratio. If the distance between the twoadjacent graduation marks is greater than or equal to 0.10 in.(2.5 mm) and the ratio is less than 1:10, use 1:10 for the ratio.If the ratio is greater than those given in these exceptions,', metadata={'source': 'C:\\\\Users\\\\user\\\\Documents\\\\Github\\\\projects\\\\LlamaAi\\\\AnsiAssistance\\\\data\\\\E2624-17-SP-Torque-Calibration-Testing-Machine.pdf', 'page': 6}),\n",
       " Document(page_content='these exceptions, usethe ratio determined. Typical ratios in common usage are 1:1,1:2, 1:5, and 1:10.', metadata={'source': 'C:\\\\Users\\\\user\\\\Documents\\\\Github\\\\projects\\\\LlamaAi\\\\AnsiAssistance\\\\data\\\\E2624-17-SP-Torque-Calibration-Testing-Machine.pdf', 'page': 6}),\n",
       " Document(page_content='X1.3.3 Multiply the ratio determined above by the torque\\nrepresented by one graduation to determine the resolution.\\nX1.3.4 Apply as constant a torque as possible where the\\nresolution is to be ascertained to minimize the ﬂuctuation of thetorque indicator. It is recommended that the ﬂuctuation be nomore than twice the resolution determined in the previous step.X1.4 Procedure for Non-Auto-Ranging Digital-Type Torque\\nIndicators :\\nX1.4.1 The resolution should be checked at the lowest', metadata={'source': 'C:\\\\Users\\\\user\\\\Documents\\\\Github\\\\projects\\\\LlamaAi\\\\AnsiAssistance\\\\data\\\\E2624-17-SP-Torque-Calibration-Testing-Machine.pdf', 'page': 6}),\n",
       " Document(page_content='calibrated torque in each torque range (typically 10 % of thetorque range).\\nX1.4.2 Apply a clockwise or counter clockwise torque to a\\nspecimen approximately equal to that at which the resolution isto be ascertained, and slowly change the applied torque.Record the smallest change in torque that can be ascertained asthe resolution. Applying the torque values to a compliantelement, such as a spring or an elastomer, makes it easier toslowly change the applied torque.', metadata={'source': 'C:\\\\Users\\\\user\\\\Documents\\\\Github\\\\projects\\\\LlamaAi\\\\AnsiAssistance\\\\data\\\\E2624-17-SP-Torque-Calibration-Testing-Machine.pdf', 'page': 6}),\n",
       " Document(page_content='X1.4.3 Next apply a constant torque at the torque value\\nwhere the resolution is to be ascertained to ensure that thetorque indicator does not ﬂuctuate by more than twice theresolution determined in the previous step. If the indicatorﬂuctuates by more than twice the resolution, the resolutionshall be equal to one-half the range of the ﬂuctuation.\\nX1.5 Procedure for Auto-Ranging-Digital Type Torque In-\\ndicators :\\nX1.5.1 This procedure is the same as that for non-auto-', metadata={'source': 'C:\\\\Users\\\\user\\\\Documents\\\\Github\\\\projects\\\\LlamaAi\\\\AnsiAssistance\\\\data\\\\E2624-17-SP-Torque-Calibration-Testing-Machine.pdf', 'page': 6}),\n",
       " Document(page_content='ranging digital torque indicators except that the resolution ischecked at the lowest calibrated torque in each decade or atother torques to ensure that the indicator resolution is 200 timessmaller than the torques. Some examples are as follows.\\nX1.5.1.1 A 60 000 lbf·in. capacity machine is to be cali-\\nbrated from 240 lbf·in. up to 60 000 lb·in. The resolutionshould be determined at 240, 2400, and 24 000 lbf·in.\\nX1.5.1.2 A 1000 lbf·in. capacity machine is to be calibrated', metadata={'source': 'C:\\\\Users\\\\user\\\\Documents\\\\Github\\\\projects\\\\LlamaAi\\\\AnsiAssistance\\\\data\\\\E2624-17-SP-Torque-Calibration-Testing-Machine.pdf', 'page': 6}),\n",
       " Document(page_content=\"from 5 lbf·in. up to 1000 lbf·in. The resolution should bedetermined at 5, 50, and 500 lbf·in.\\nE2624 − 17\\n7\\n\\x0b8&5\\x0c\\x038QLYHUVLGDG\\x03GH\\x03&RVWD\\x035LFD\\x03SXUVXDQW\\x03WR\\x03/LFHQVH\\x03$JUHHPHQW\\x11\\x031R\\x03IXUWKHU\\x03UHSURGXFWLRQV\\x03DXWKRUL]HG\\x11'RZQORDGHG\\x12SULQWHG\\x03E\\\\\\x03&RS\\\\ULJKW\\x03E\\\\\\x03$670\\x03,QW\\nO\\x03\\x0bDOO\\x03ULJKWV\\x03UHVHUYHG\\x0c\\x036XQ\\x03$SU\\x03\\x14\\x17\\x03\\x14\\x19\\x1d\\x15\\x19\\x1d\\x18\\x14\\x0387&\\x03\\x15\\x13\\x15\\x17\", metadata={'source': 'C:\\\\Users\\\\user\\\\Documents\\\\Github\\\\projects\\\\LlamaAi\\\\AnsiAssistance\\\\data\\\\E2624-17-SP-Torque-Calibration-Testing-Machine.pdf', 'page': 6}),\n",
       " Document(page_content='X2. SAMPLE UNCERTAINTY ANALYSIS FOR TORQUE\\nX2.1 The measurement uncertainty determined using this\\nappendix is the measurement uncertainty of the errors reportedduring veriﬁcation of a testing machine by standard weightsand lever arm. It is not the measurement uncertainty of thetesting machine or test results using the testing machine.\\nX2.2 The torque equation is:\\nT5rFsinΘ (X2.1)\\nwhere:\\nT= applied torque,\\nr= the distance between the point of rotation and the\\napplied force,\\nF= applied force, and', metadata={'source': 'C:\\\\Users\\\\user\\\\Documents\\\\Github\\\\projects\\\\LlamaAi\\\\AnsiAssistance\\\\data\\\\E2624-17-SP-Torque-Calibration-Testing-Machine.pdf', 'page': 7}),\n",
       " Document(page_content='Θ= angle between the direction of the applied force and the\\narm of radius r.\\nX2.3 In this example the measurement uncertainty of the\\nreported errors of a testing machine determined during averiﬁcation using Practice\\nE2428 is a combination of multiple\\ncomponents and can be expressed as follows:\\nuT25~FsinΘ!2ur21~rsinΘ!2uF21~rFcosΘ!2uΘ2(X2.2)\\nwhere:\\nuT= the standard uncertainty of T,\\nur= the standard uncertainty of r,\\nuF= the standard uncertainty of F, and\\nuΘ= the standard uncertainty of Θ.', metadata={'source': 'C:\\\\Users\\\\user\\\\Documents\\\\Github\\\\projects\\\\LlamaAi\\\\AnsiAssistance\\\\data\\\\E2624-17-SP-Torque-Calibration-Testing-Machine.pdf', 'page': 7}),\n",
       " Document(page_content='X2.4 So the standard uncertainty or 1 sigma value is:\\nuT5=~FsinΘ!2ur21~rsinΘ!2uF21~rFcosΘ!2uΘ2(X2.3)\\nX2.5 So the expanded uncertainty Uis:\\nU5kuT(X2.4)\\nwhere:\\nk= characteristic constant, or coverage factor for XX.XX\\npercent conﬁdence.\\nX2.6 A problem arises for θ=90° because rFcosθ=0, so the\\ncontribution of uθappears to disappear. However θdoes\\ncontribute to the standard uncertainty. Assuming uθequals\\nsome constant Cand provided that 0°< θ<90°, then θ=90° 6C', metadata={'source': 'C:\\\\Users\\\\user\\\\Documents\\\\Github\\\\projects\\\\LlamaAi\\\\AnsiAssistance\\\\data\\\\E2624-17-SP-Torque-Calibration-Testing-Machine.pdf', 'page': 7}),\n",
       " Document(page_content='or 90°- C<θ<90°+ C. Given the fact that sin 90°+ C=sin 90°- C,\\nthe torque value at either angle yields a value T=rFsin(90°- C).\\nSo the % error becomes:\\n%ERROR 5rFsin~90°2C!2rFsin90 °\\nrFsin90 °3100 (X2.5)\\nwhich simpliﬁes to:\\n%ERROR 5@rFsin~90°2C!21#3100 (X2.6)\\nX2.6.1 This result can be used to replace ( rFcosθ)2u2\\nθin the\\nabove uTequation or used later when combining other uncer-\\ntainties.X2.7 The following addresses issues surrounding tempera-', metadata={'source': 'C:\\\\Users\\\\user\\\\Documents\\\\Github\\\\projects\\\\LlamaAi\\\\AnsiAssistance\\\\data\\\\E2624-17-SP-Torque-Calibration-Testing-Machine.pdf', 'page': 7}),\n",
       " Document(page_content='ture. The relationship between the length of the arm rand the\\ntemperature tis:\\nrt25rt1@11α~t22t1!# (X2.7)\\nwhere:\\nrt2= the length of the arm at the time of the torque\\nmeasurement,\\nrt1= the length of the arm rat the time of its calibration,\\nα= thermal expansion coefficient for the arm material,\\nt2= the temperature at the time of the torque measurement,\\nand\\nt1= the temperature at the time of the arm rcalibration.\\nX2.8 So it follows that the uncertainty of the length of the', metadata={'source': 'C:\\\\Users\\\\user\\\\Documents\\\\Github\\\\projects\\\\LlamaAi\\\\AnsiAssistance\\\\data\\\\E2624-17-SP-Torque-Calibration-Testing-Machine.pdf', 'page': 7}),\n",
       " Document(page_content='arm at any temperature tyields:\\nUr5rtαUt (X2.8)\\nwhere:\\nUr= the uncertainty of the arm rat the time of the torque\\nmeasurement, and\\nUt= the uncertainty of the temperature measurement.\\nX2.8.1 Assuming rt2=20 in., α=6.5ppm/°F for steel and\\nUt=1°F, Ur=0.00013 in., or 0.00065 %. Using the standard\\nuncertainties and the RSS method of combining them, yieldsan even lower contribution to the expanded uncertainty.\\nX2.9 The uncertainty of the weights is such that they are not', metadata={'source': 'C:\\\\Users\\\\user\\\\Documents\\\\Github\\\\projects\\\\LlamaAi\\\\AnsiAssistance\\\\data\\\\E2624-17-SP-Torque-Calibration-Testing-Machine.pdf', 'page': 7}),\n",
       " Document(page_content='impacted by the laboratory environmental conditions.\\nX2.10 The uncertainty due to repeatability during the veri-\\nﬁcation can be assessed by evaluating the differences betweenthe two runs of data.\\nX2.10.1 For each force veriﬁcation point, ﬁnd the sum of', metadata={'source': 'C:\\\\Users\\\\user\\\\Documents\\\\Github\\\\projects\\\\LlamaAi\\\\AnsiAssistance\\\\data\\\\E2624-17-SP-Torque-Calibration-Testing-Machine.pdf', 'page': 7}),\n",
       " Document(page_content='the squares of the differences in error between the ﬁrst andsecond run of that veriﬁcation point and the four veriﬁcationpoints closest to that veriﬁcation point. Divide that sum by tenand take the square root of the result to obtain an estimate ofthe uncertainty due to repeatability during the veriﬁcationprocess.\\nNOTEX2.1—The sum is divided by ten because there are ﬁve pairs of\\nreadings used, and the variance of each pair is equal to the differencedivided by two.\\nN', metadata={'source': 'C:\\\\Users\\\\user\\\\Documents\\\\Github\\\\projects\\\\LlamaAi\\\\AnsiAssistance\\\\data\\\\E2624-17-SP-Torque-Calibration-Testing-Machine.pdf', 'page': 7}),\n",
       " Document(page_content='N\\nOTEX2.2—Example: The repeatability contribution to the uncertainty\\nof a 2.25 N·m capacity testing machine is to be determined at 40 percentof the range. See\\nTable X2.1 for results of two calibration runs.\\nThe uncertainty component due to repeatability at 40% of range, urepis', metadata={'source': 'C:\\\\Users\\\\user\\\\Documents\\\\Github\\\\projects\\\\LlamaAi\\\\AnsiAssistance\\\\data\\\\E2624-17-SP-Torque-Calibration-Testing-Machine.pdf', 'page': 7}),\n",
       " Document(page_content='calculated as follows:The repeatability at 40% of range and the four closest torques to 40% ofrange are 0.00% of 0.2241 N·m, 0.00% of 0.448199 N·m, 0.00% of 0.8964N·m, 0.06% of 1.58115 N·m and 0.09% of 2.2161 N·m which respectivelyare 0.00, 0.00, 0.00, 0.000949 and 0.001994 N·m. Therefore:\\nu\\nrep 5Œ0.00210.00210.00210.000949210.0019942\\n10\\n50.00070N·m\\nE2624 − 17\\n8', metadata={'source': 'C:\\\\Users\\\\user\\\\Documents\\\\Github\\\\projects\\\\LlamaAi\\\\AnsiAssistance\\\\data\\\\E2624-17-SP-Torque-Calibration-Testing-Machine.pdf', 'page': 7}),\n",
       " Document(page_content=\"E2624 − 17\\n8\\n\\x0b8&5\\x0c\\x038QLYHUVLGDG\\x03GH\\x03&RVWD\\x035LFD\\x03SXUVXDQW\\x03WR\\x03/LFHQVH\\x03$JUHHPHQW\\x11\\x031R\\x03IXUWKHU\\x03UHSURGXFWLRQV\\x03DXWKRUL]HG\\x11'RZQORDGHG\\x12SULQWHG\\x03E\\\\\\x03&RS\\\\ULJKW\\x03E\\\\\\x03$670\\x03,QW\\nO\\x03\\x0bDOO\\x03ULJKWV\\x03UHVHUYHG\\x0c\\x036XQ\\x03$SU\\x03\\x14\\x17\\x03\\x14\\x19\\x1d\\x15\\x19\\x1d\\x18\\x14\\x0387&\\x03\\x15\\x13\\x15\\x17\", metadata={'source': 'C:\\\\Users\\\\user\\\\Documents\\\\Github\\\\projects\\\\LlamaAi\\\\AnsiAssistance\\\\data\\\\E2624-17-SP-Torque-Calibration-Testing-Machine.pdf', 'page': 7}),\n",
       " Document(page_content='X2.11 The uncertainty due to friction involving the knife\\nedges and ﬁxtures can’t be quantiﬁed; however they arebelieved to be extremely small relative the other uncertaintiestherefore considered insigniﬁcant and not included in the\\nassessment.\\nSUMMARY OF CHANGES\\nCommittee E28 has identiﬁed the location of selected changes to this standard since the last issue (E2624–15)\\nthat may impact the use of this standard.\\n(1)\\nTable 1 was revised.', metadata={'source': 'C:\\\\Users\\\\user\\\\Documents\\\\Github\\\\projects\\\\LlamaAi\\\\AnsiAssistance\\\\data\\\\E2624-17-SP-Torque-Calibration-Testing-Machine.pdf', 'page': 8}),\n",
       " Document(page_content='ASTM International takes no position respecting the validity of any patent rights asserted in connection with any item mentioned\\nin this standard. Users of this standard are expressly advised that determination of the validity of any such patent rights, and the riskof infringement of such rights, are entirely their own responsibility.\\nThis standard is subject to revision at any time by the responsible technical committee and must be reviewed every ﬁve years and', metadata={'source': 'C:\\\\Users\\\\user\\\\Documents\\\\Github\\\\projects\\\\LlamaAi\\\\AnsiAssistance\\\\data\\\\E2624-17-SP-Torque-Calibration-Testing-Machine.pdf', 'page': 8}),\n",
       " Document(page_content='if not revised, either reapproved or withdrawn. Your comments are invited either for revision of this standard or for additional standardsand should be addressed to ASTM International Headquarters. Your comments will receive careful consideration at a meeting of theresponsible technical committee, which you may attend. If you feel that your comments have not received a fair hearing you shouldmake your views known to the ASTM Committee on Standards, at the address shown below.', metadata={'source': 'C:\\\\Users\\\\user\\\\Documents\\\\Github\\\\projects\\\\LlamaAi\\\\AnsiAssistance\\\\data\\\\E2624-17-SP-Torque-Calibration-Testing-Machine.pdf', 'page': 8}),\n",
       " Document(page_content='This standard is copyrighted by ASTM International, 100 Barr Harbor Drive, PO Box C700, West Conshohocken, PA 19428-2959,', metadata={'source': 'C:\\\\Users\\\\user\\\\Documents\\\\Github\\\\projects\\\\LlamaAi\\\\AnsiAssistance\\\\data\\\\E2624-17-SP-Torque-Calibration-Testing-Machine.pdf', 'page': 8}),\n",
       " Document(page_content='United States. Individual reprints (single or multiple copies) of this standard may be obtained by contacting ASTM at the aboveaddress or at 610-832-9585 (phone), 610-832-9555 (fax), or service@astm.org (e-mail); or through the ASTM website(www.astm.org). Permission rights to photocopy the standard may also be secured from the Copyright Clearance Center, 222Rosewood Drive, Danvers, MA 01923, Tel: (978) 646-2600; http://www.copyright.com/TABLE X2.1 Calibration Runs\\nPercent of\\nRangeRun 1', metadata={'source': 'C:\\\\Users\\\\user\\\\Documents\\\\Github\\\\projects\\\\LlamaAi\\\\AnsiAssistance\\\\data\\\\E2624-17-SP-Torque-Calibration-Testing-Machine.pdf', 'page': 8}),\n",
       " Document(page_content='RangeRun 1\\nIndicatedRun 1\\nAppliedRun 1\\nError %Run 2\\nIndicatedRun 2\\nAppliedRun 2\\nError %%\\nRepeatability\\n1 0.025 0.0249 0.40 0.025 0.0249 0.40 0.002 0.050 0.0497999 0.40 0.050 0.0497999 0.40 0.004 0.087 0.0871501 -0.17 0.087 0.0871501 -0.17 0.007 0.162 0.16185 0.09 0.162 0.16185 0.09 0.00\\n10 0.225 0.2241 0.40 0.225 0.2241 -0.40 0.004420 0.449 0.448199 0.18 0.449 0.448199 0.18 0.0040 0.897 0.8964 0.07 0.897 0.8964 0.07 0.0070 1.582 1.58115 0.05 1.583 1.58115 0.12 0.06', metadata={'source': 'C:\\\\Users\\\\user\\\\Documents\\\\Github\\\\projects\\\\LlamaAi\\\\AnsiAssistance\\\\data\\\\E2624-17-SP-Torque-Calibration-Testing-Machine.pdf', 'page': 8}),\n",
       " Document(page_content=\"100 2.215 2.2161 -0.05 2.217 2.2161 0.04 0.09\\nE2624 − 17\\n9\\n\\x0b8&5\\x0c\\x038QLYHUVLGDG\\x03GH\\x03&RVWD\\x035LFD\\x03SXUVXDQW\\x03WR\\x03/LFHQVH\\x03$JUHHPHQW\\x11\\x031R\\x03IXUWKHU\\x03UHSURGXFWLRQV\\x03DXWKRUL]HG\\x11'RZQORDGHG\\x12SULQWHG\\x03E\\\\\\x03&RS\\\\ULJKW\\x03E\\\\\\x03$670\\x03,QW\\nO\\x03\\x0bDOO\\x03ULJKWV\\x03UHVHUYHG\\x0c\\x036XQ\\x03$SU\\x03\\x14\\x17\\x03\\x14\\x19\\x1d\\x15\\x19\\x1d\\x18\\x14\\x0387&\\x03\\x15\\x13\\x15\\x17\", metadata={'source': 'C:\\\\Users\\\\user\\\\Documents\\\\Github\\\\projects\\\\LlamaAi\\\\AnsiAssistance\\\\data\\\\E2624-17-SP-Torque-Calibration-Testing-Machine.pdf', 'page': 8})]"
      ]
     },
     "execution_count": 13,
     "metadata": {},
     "output_type": "execute_result"
    }
   ],
   "source": [
    "text_chunks"
   ]
  },
  {
   "cell_type": "code",
   "execution_count": 14,
   "metadata": {},
   "outputs": [
    {
     "name": "stdout",
     "output_type": "stream",
     "text": [
      "122\n"
     ]
    }
   ],
   "source": [
    "print(len(text_chunks))"
   ]
  },
  {
   "cell_type": "code",
   "execution_count": 15,
   "metadata": {},
   "outputs": [],
   "source": [
    "#download embedding model\n",
    "def download_hugging_face_embedding():\n",
    "  embeddings = HuggingFaceEmbeddings(model_name=\"sentence-transformers/all-MiniLM-L6-v2\")\n",
    "  return embeddings"
   ]
  },
  {
   "cell_type": "code",
   "execution_count": 16,
   "metadata": {},
   "outputs": [
    {
     "name": "stderr",
     "output_type": "stream",
     "text": [
      "c:\\Users\\user\\anaconda3\\envs\\ansibot\\lib\\site-packages\\transformers\\tokenization_utils_base.py:1601: FutureWarning: `clean_up_tokenization_spaces` was not set. It will be set to `True` by default. This behavior will be depracted in transformers v4.45, and will be then set to `False` by default. For more details check this issue: https://github.com/huggingface/transformers/issues/31884\n",
      "  warnings.warn(\n"
     ]
    }
   ],
   "source": [
    "embeddings = download_hugging_face_embedding()"
   ]
  },
  {
   "cell_type": "code",
   "execution_count": 17,
   "metadata": {},
   "outputs": [
    {
     "data": {
      "text/plain": [
       "HuggingFaceEmbeddings(client=SentenceTransformer(\n",
       "  (0): Transformer({'max_seq_length': 256, 'do_lower_case': False}) with Transformer model: BertModel \n",
       "  (1): Pooling({'word_embedding_dimension': 384, 'pooling_mode_cls_token': False, 'pooling_mode_mean_tokens': True, 'pooling_mode_max_tokens': False, 'pooling_mode_mean_sqrt_len_tokens': False})\n",
       "  (2): Normalize()\n",
       "), model_name='sentence-transformers/all-MiniLM-L6-v2', cache_folder=None, model_kwargs={}, encode_kwargs={})"
      ]
     },
     "execution_count": 17,
     "metadata": {},
     "output_type": "execute_result"
    }
   ],
   "source": [
    "embeddings"
   ]
  },
  {
   "cell_type": "code",
   "execution_count": 18,
   "metadata": {},
   "outputs": [],
   "source": [
    "query_result = embeddings.embed_query(\"Hello World\")"
   ]
  },
  {
   "cell_type": "code",
   "execution_count": 19,
   "metadata": {},
   "outputs": [
    {
     "data": {
      "text/plain": [
       "[-0.03447726368904114,\n",
       " 0.031023195013403893,\n",
       " 0.006734934169799089,\n",
       " 0.026109030470252037,\n",
       " -0.039362065494060516,\n",
       " -0.16030246019363403,\n",
       " 0.06692402064800262,\n",
       " -0.006441517733037472,\n",
       " -0.04745056480169296,\n",
       " 0.014758898876607418,\n",
       " 0.07087533175945282,\n",
       " 0.05552754923701286,\n",
       " 0.019193338230252266,\n",
       " -0.02625126764178276,\n",
       " -0.01010944414883852,\n",
       " -0.02694048173725605,\n",
       " 0.022307468578219414,\n",
       " -0.022226648405194283,\n",
       " -0.1496926099061966,\n",
       " -0.017493069171905518,\n",
       " 0.007676312699913979,\n",
       " 0.0543522983789444,\n",
       " 0.003254531417042017,\n",
       " 0.03172597661614418,\n",
       " -0.084621362388134,\n",
       " -0.029405953362584114,\n",
       " 0.05159563198685646,\n",
       " 0.04812399297952652,\n",
       " -0.0033147777430713177,\n",
       " -0.058279190212488174,\n",
       " 0.041969332844018936,\n",
       " 0.02221066504716873,\n",
       " 0.1281888484954834,\n",
       " -0.02233894355595112,\n",
       " -0.011656250804662704,\n",
       " 0.06292835623025894,\n",
       " -0.032876234501600266,\n",
       " -0.09122610837221146,\n",
       " -0.03117542713880539,\n",
       " 0.05269954353570938,\n",
       " 0.047034844756126404,\n",
       " -0.0842030718922615,\n",
       " -0.030056234449148178,\n",
       " -0.020744752138853073,\n",
       " 0.009517735801637173,\n",
       " -0.0037217524368315935,\n",
       " 0.007343307137489319,\n",
       " 0.0393243134021759,\n",
       " 0.09327403455972672,\n",
       " -0.003788589732721448,\n",
       " -0.0527421273291111,\n",
       " -0.05805819854140282,\n",
       " -0.0068643419072031975,\n",
       " 0.005283201113343239,\n",
       " 0.082893006503582,\n",
       " 0.019362762570381165,\n",
       " 0.006284472532570362,\n",
       " -0.010330788791179657,\n",
       " 0.009032324887812138,\n",
       " -0.037683770060539246,\n",
       " -0.04520609229803085,\n",
       " 0.024016311392188072,\n",
       " -0.006944160908460617,\n",
       " 0.013491613790392876,\n",
       " 0.10005493462085724,\n",
       " -0.07168380916118622,\n",
       " -0.021695034578442574,\n",
       " 0.03161853179335594,\n",
       " -0.05163460969924927,\n",
       " -0.08224767446517944,\n",
       " -0.06569337844848633,\n",
       " -0.009895364753901958,\n",
       " 0.005816347431391478,\n",
       " 0.07355460524559021,\n",
       " -0.034050337970256805,\n",
       " 0.024886133149266243,\n",
       " 0.014488049782812595,\n",
       " 0.026457365602254868,\n",
       " 0.009656698442995548,\n",
       " 0.030217299237847328,\n",
       " 0.052804045379161835,\n",
       " -0.07535991072654724,\n",
       " 0.009897192940115929,\n",
       " 0.029836811125278473,\n",
       " 0.017555588856339455,\n",
       " 0.02309197187423706,\n",
       " 0.001933785737492144,\n",
       " 0.0014002296375110745,\n",
       " -0.04717597737908363,\n",
       " -0.011194336228072643,\n",
       " -0.11420141905546188,\n",
       " -0.01981198415160179,\n",
       " 0.04026617109775543,\n",
       " 0.002193005755543709,\n",
       " -0.07979223877191544,\n",
       " -0.025382287800312042,\n",
       " 0.09448286145925522,\n",
       " -0.0289811622351408,\n",
       " -0.145002543926239,\n",
       " 0.23097743093967438,\n",
       " 0.02773112989962101,\n",
       " 0.03211149200797081,\n",
       " 0.031064936891198158,\n",
       " 0.042832836508750916,\n",
       " 0.06423777341842651,\n",
       " 0.03216322138905525,\n",
       " -0.00487671559676528,\n",
       " 0.05569944903254509,\n",
       " -0.037532392889261246,\n",
       " -0.02150554582476616,\n",
       " -0.02834266982972622,\n",
       " -0.028846928849816322,\n",
       " 0.03835306316614151,\n",
       " -0.01746867410838604,\n",
       " 0.052485305815935135,\n",
       " -0.07487607002258301,\n",
       " -0.031259745359420776,\n",
       " 0.02184154838323593,\n",
       " -0.03989564627408981,\n",
       " -0.008587067946791649,\n",
       " 0.026956645771861076,\n",
       " -0.04849549010396004,\n",
       " 0.011469866149127483,\n",
       " 0.029618289321660995,\n",
       " -0.02057219296693802,\n",
       " 0.013103884644806385,\n",
       " 0.02883347123861313,\n",
       " -3.194200921532142e-33,\n",
       " 0.06478207558393478,\n",
       " -0.018130173906683922,\n",
       " 0.05178990960121155,\n",
       " 0.12198273092508316,\n",
       " 0.02878013253211975,\n",
       " 0.008721960708498955,\n",
       " -0.07052117586135864,\n",
       " -0.016907284036278725,\n",
       " 0.04073972627520561,\n",
       " 0.042116206139326096,\n",
       " 0.025447238236665726,\n",
       " 0.03574627637863159,\n",
       " -0.04914471507072449,\n",
       " 0.0021290541626513004,\n",
       " -0.015546551905572414,\n",
       " 0.05073057487607002,\n",
       " -0.04818529263138771,\n",
       " 0.035880520939826965,\n",
       " -0.004067104775458574,\n",
       " 0.1017247885465622,\n",
       " -0.055970095098018646,\n",
       " -0.010681027546525002,\n",
       " 0.011235782876610756,\n",
       " 0.09068648517131805,\n",
       " 0.004234494175761938,\n",
       " 0.03513864055275917,\n",
       " -0.009702866896986961,\n",
       " -0.09386517107486725,\n",
       " 0.09285552054643631,\n",
       " 0.00800492987036705,\n",
       " -0.007705381605774164,\n",
       " -0.052086807787418365,\n",
       " -0.012587991543114185,\n",
       " 0.0032668348867446184,\n",
       " 0.006013567093759775,\n",
       " 0.007581537123769522,\n",
       " 0.01051713339984417,\n",
       " -0.08634547889232635,\n",
       " -0.06987880915403366,\n",
       " -0.002533840714022517,\n",
       " -0.09097661823034286,\n",
       " 0.04688730835914612,\n",
       " 0.05207650363445282,\n",
       " 0.007193813566118479,\n",
       " 0.010903601534664631,\n",
       " -0.005229503847658634,\n",
       " 0.013937230221927166,\n",
       " 0.021968331187963486,\n",
       " 0.03420861437916756,\n",
       " 0.06022467464208603,\n",
       " 0.00011659744632197544,\n",
       " 0.01473195943981409,\n",
       " -0.07008922100067139,\n",
       " 0.028499066829681396,\n",
       " -0.027601640671491623,\n",
       " 0.010768391191959381,\n",
       " 0.03483092784881592,\n",
       " -0.02248786762356758,\n",
       " 0.009769030846655369,\n",
       " 0.07722786068916321,\n",
       " 0.021588338539004326,\n",
       " 0.11495622247457504,\n",
       " -0.0680011510848999,\n",
       " 0.02376101166009903,\n",
       " -0.015983939170837402,\n",
       " -0.0178269874304533,\n",
       " 0.06439483165740967,\n",
       " 0.032025743275880814,\n",
       " 0.05027022957801819,\n",
       " -0.005913690198212862,\n",
       " -0.033708032220602036,\n",
       " 0.017840301617980003,\n",
       " 0.016573375090956688,\n",
       " 0.06329651176929474,\n",
       " 0.03467722609639168,\n",
       " 0.04647344723343849,\n",
       " 0.09790610522031784,\n",
       " -0.006635491736233234,\n",
       " 0.02520701475441456,\n",
       " -0.07798830419778824,\n",
       " 0.01692645065486431,\n",
       " -0.000945836363825947,\n",
       " 0.022471917793154716,\n",
       " -0.03825325518846512,\n",
       " 0.09570477902889252,\n",
       " -0.005350738298147917,\n",
       " 0.010469022206962109,\n",
       " -0.11524054408073425,\n",
       " -0.01326244417577982,\n",
       " -0.010709318332374096,\n",
       " -0.08311720937490463,\n",
       " 0.07327358424663544,\n",
       " 0.04939224198460579,\n",
       " -0.00899441260844469,\n",
       " -0.09584563970565796,\n",
       " 3.3661485617505796e-33,\n",
       " 0.12493185698986053,\n",
       " 0.01934969052672386,\n",
       " -0.058225732296705246,\n",
       " -0.0359882153570652,\n",
       " -0.05074683949351311,\n",
       " -0.04566238075494766,\n",
       " -0.08260341733694077,\n",
       " 0.1481948047876358,\n",
       " -0.08842107653617859,\n",
       " 0.06027444079518318,\n",
       " 0.051030199974775314,\n",
       " 0.010303128510713577,\n",
       " 0.14121423661708832,\n",
       " 0.030813822522759438,\n",
       " 0.06103319302201271,\n",
       " -0.05285131558775902,\n",
       " 0.13664890825748444,\n",
       " 0.009189927950501442,\n",
       " -0.01732519641518593,\n",
       " -0.01284862868487835,\n",
       " -0.00799519568681717,\n",
       " -0.0509801059961319,\n",
       " -0.05235069990158081,\n",
       " 0.007592960260808468,\n",
       " -0.015166257508099079,\n",
       " 0.016960345208644867,\n",
       " 0.02127053774893284,\n",
       " 0.020558014512062073,\n",
       " -0.12002807855606079,\n",
       " 0.014461861923336983,\n",
       " 0.026759842410683632,\n",
       " 0.025330625474452972,\n",
       " -0.04275454580783844,\n",
       " 0.006768506485968828,\n",
       " -0.014458559453487396,\n",
       " 0.045261964201927185,\n",
       " -0.09147659689188004,\n",
       " -0.019439145922660828,\n",
       " -0.01783345639705658,\n",
       " -0.05491013452410698,\n",
       " -0.05264109745621681,\n",
       " -0.01045905239880085,\n",
       " -0.05201609805226326,\n",
       " 0.020892079919576645,\n",
       " -0.0799703598022461,\n",
       " -0.012111326679587364,\n",
       " -0.057731449604034424,\n",
       " 0.023178258910775185,\n",
       " -0.008031658828258514,\n",
       " -0.025989217683672905,\n",
       " -0.07995673269033432,\n",
       " -0.020728837698698044,\n",
       " 0.0488177165389061,\n",
       " -0.0203892569988966,\n",
       " -0.04917661100625992,\n",
       " 0.014159555546939373,\n",
       " -0.06362208724021912,\n",
       " -0.007807453628629446,\n",
       " 0.01643148995935917,\n",
       " -0.02568250708281994,\n",
       " 0.013381032273173332,\n",
       " 0.026248792186379433,\n",
       " 0.00997831393033266,\n",
       " 0.06322887539863586,\n",
       " 0.0026720957830548286,\n",
       " -0.0065828184597194195,\n",
       " 0.01663203164935112,\n",
       " 0.03236653655767441,\n",
       " 0.0379425548017025,\n",
       " -0.03637602552771568,\n",
       " -0.006910985801368952,\n",
       " 0.00015969539526849985,\n",
       " -0.0016335871769115329,\n",
       " -0.02727825753390789,\n",
       " -0.02803805097937584,\n",
       " 0.04968147724866867,\n",
       " -0.028867190703749657,\n",
       " -0.002418068004772067,\n",
       " 0.01477495301514864,\n",
       " 0.009764582850039005,\n",
       " 0.005797585938125849,\n",
       " 0.013486145064234734,\n",
       " 0.005567873362451792,\n",
       " 0.037227023392915726,\n",
       " 0.007232557516545057,\n",
       " 0.040156252682209015,\n",
       " 0.08150322735309601,\n",
       " 0.07199159264564514,\n",
       " -0.013056247495114803,\n",
       " -0.04288201406598091,\n",
       " -0.011011237278580666,\n",
       " 0.004897858016192913,\n",
       " -0.009229753166437149,\n",
       " 0.03519151359796524,\n",
       " -0.05103502422571182,\n",
       " -1.571437557856825e-08,\n",
       " -0.08862441778182983,\n",
       " 0.02390933223068714,\n",
       " -0.01623874343931675,\n",
       " 0.03170048072934151,\n",
       " 0.027284208685159683,\n",
       " 0.05246882513165474,\n",
       " -0.04707096517086029,\n",
       " -0.05884740874171257,\n",
       " -0.06320824474096298,\n",
       " 0.04088858887553215,\n",
       " 0.049827929586172104,\n",
       " 0.10655171424150467,\n",
       " -0.0745023787021637,\n",
       " -0.01249545719474554,\n",
       " 0.018370583653450012,\n",
       " 0.039474137127399445,\n",
       " -0.024797871708869934,\n",
       " 0.014516339637339115,\n",
       " -0.03706919401884079,\n",
       " 0.020015837624669075,\n",
       " -4.8583569878246635e-05,\n",
       " 0.009866595268249512,\n",
       " 0.024838805198669434,\n",
       " -0.05245812237262726,\n",
       " 0.029314160346984863,\n",
       " -0.08719196170568466,\n",
       " -0.014499806798994541,\n",
       " 0.026018967851996422,\n",
       " -0.018746377900242805,\n",
       " -0.07620513439178467,\n",
       " 0.03504335135221481,\n",
       " 0.10363946855068207,\n",
       " -0.028050540015101433,\n",
       " 0.012718204408884048,\n",
       " -0.07632552832365036,\n",
       " -0.0186524149030447,\n",
       " 0.024976758286356926,\n",
       " 0.08144541829824448,\n",
       " 0.06875882297754288,\n",
       " -0.06405671685934067,\n",
       " -0.08389382809400558,\n",
       " 0.06136243790388107,\n",
       " -0.03354552760720253,\n",
       " -0.10615336149930954,\n",
       " -0.04008050635457039,\n",
       " 0.03253021836280823,\n",
       " 0.07662492245435715,\n",
       " -0.0730162113904953,\n",
       " 0.00033759945654310286,\n",
       " -0.040871649980545044,\n",
       " -0.07578843832015991,\n",
       " 0.027527613565325737,\n",
       " 0.0746253952383995,\n",
       " 0.017717231065034866,\n",
       " 0.09121835231781006,\n",
       " 0.11022024601697922,\n",
       " 0.0005697919405065477,\n",
       " 0.05146336182951927,\n",
       " -0.014551273547112942,\n",
       " 0.033232033252716064,\n",
       " 0.02379230037331581,\n",
       " -0.022889843210577965,\n",
       " 0.038937557488679886,\n",
       " 0.03020683117210865]"
      ]
     },
     "execution_count": 19,
     "metadata": {},
     "output_type": "execute_result"
    }
   ],
   "source": [
    "query_result"
   ]
  },
  {
   "cell_type": "code",
   "execution_count": 20,
   "metadata": {},
   "outputs": [],
   "source": [
    "pc = Pinecone(api_key=os.environ.get(\"PINECONE_API_KEY\"))\n",
    "\n",
    "index_name = \"ansichatbot\"\n",
    "\n",
    "index = pc.Index(index_name)\n",
    "\n"
   ]
  },
  {
   "cell_type": "code",
   "execution_count": 21,
   "metadata": {},
   "outputs": [],
   "source": [
    "vectorstore = PineconeVectorStore(index=index,embedding=embeddings)\n"
   ]
  },
  {
   "cell_type": "code",
   "execution_count": 22,
   "metadata": {},
   "outputs": [
    {
     "data": {
      "text/plain": [
       "['a2a618c1-f5b3-453b-9761-5be3c6410d65',\n",
       " '4e024278-1c6a-42e6-8779-0c69bf4195b3',\n",
       " 'f570fab1-3e5c-48f3-a634-2416c3b6bcd9',\n",
       " '38e221e0-5e49-4f34-9964-eb91af37556f',\n",
       " '86573669-3dfe-459b-99f8-e731f7ce573f',\n",
       " '6a01f4fc-cc39-4d13-baac-677434b4adc6',\n",
       " 'e3e6ecf2-1532-4fd6-a82b-258f67d63b22',\n",
       " 'a3fd63cf-12ab-4097-bbee-94431cc2ebf5',\n",
       " '593b16cf-b035-4ea1-b92a-976e162d65cc',\n",
       " '9473972c-b678-4ef5-b18e-82912eb106b8',\n",
       " 'ad8cbb1f-11d9-44f8-90f6-0fed101dc392',\n",
       " 'a71fcac9-b07c-4d1a-9bb1-408bdf60882c',\n",
       " '685ad70b-8c9c-4d65-b944-9f4bfa4e94c0',\n",
       " '092a4ab0-1c24-4c11-9520-19c2d3207eba',\n",
       " '642ffaab-f30f-4367-970f-5bc4fb4d4478',\n",
       " '83ad0957-0e25-4811-bfaf-5d1d54c0016c',\n",
       " 'f9d9328e-a0b6-4ca9-af4f-e0ff9d27fc78',\n",
       " '1dc1fbf8-900c-4470-8b35-88717333b5c6',\n",
       " '05f3d638-64f8-420a-81dc-736fac26e09a',\n",
       " '8330c6f3-aba0-4757-821a-6130506163b8',\n",
       " '403bd704-5f9c-44f1-a469-ff8f2cff4a7f',\n",
       " '60f461b0-9fd0-48fd-bb4a-490b63687db9',\n",
       " '1a1c4ed4-e945-46e2-bceb-a8fc38a6d094',\n",
       " '5444a5fb-53c8-4399-8d45-feef830f658e',\n",
       " 'a2845b72-2928-42d7-8a7f-a44ce4990af7',\n",
       " 'c470b664-fb0e-4b1f-8992-b786638d10c8',\n",
       " '5c756ca5-5b36-4da8-99e8-4cb7558927fe',\n",
       " '1ffbee56-0871-4961-8a73-c056735ecc81',\n",
       " '7dbd1a1e-7898-4af8-8b12-8ae893e0de6c',\n",
       " 'e5178109-bbac-439d-a0d4-5cf49a0ea0d9',\n",
       " '77a61b70-71c1-45d1-bfb3-4099e92bf616',\n",
       " '6b0ff5d0-4ef0-4deb-a33f-ddf8133ec6f6',\n",
       " '805317e3-641f-4a85-bac3-4b376f64ebdd',\n",
       " 'd0b373e3-a35b-4953-9ac5-9330a36d2a04',\n",
       " 'c25b4688-e337-4f8d-9086-c6b7153fc81e',\n",
       " '54f7878a-848b-4295-a606-051a336793c6',\n",
       " '528d1c1c-0201-4015-a3aa-6b5e5f5638f0',\n",
       " 'a21fc422-7c57-4f52-b16a-538af51a4f68',\n",
       " 'fb33c309-f6aa-4ee0-9de6-7a7149025d49',\n",
       " '616408ca-3a34-438e-820b-3df3db69fe1c',\n",
       " '8d5051ae-ebf4-4b4c-8b9d-c48647bce257',\n",
       " '59906707-c12c-4ac6-b43b-b88485566601',\n",
       " '0c0bd246-fff8-44f4-a1dd-0c5f1c66f269',\n",
       " 'e9d6884e-9889-4ecd-9498-1abff0eb34fe',\n",
       " '05bf1083-5464-45d3-8fb5-6b13d0ea3269',\n",
       " '6b97c0f4-c2fc-4409-9344-c1450ab378ac',\n",
       " 'f8c143e4-e29b-464d-b712-be2ee69e3753',\n",
       " '2a898466-85fc-4b4c-a792-5aa00bd24d5c',\n",
       " '57bc7bae-d4a0-49a5-860a-90379bbb9668',\n",
       " 'e7a80634-3ac8-40de-a953-3b05f14e6ff4',\n",
       " '03f792e5-fbb3-4c59-9926-94b2edb0ae89',\n",
       " '1c23ad72-dc73-4f5c-a252-4ebbc58864f5',\n",
       " '67fc77f7-3213-4eea-9f42-c4f934a6649b',\n",
       " '81bb3bd4-b6a3-4611-9486-e0f474e884b1',\n",
       " '953f5343-e9e7-4bfd-9b1e-7c11508a5923',\n",
       " 'd40a8f15-7f08-4edb-9ed0-f1da880409b1',\n",
       " '8f56c010-221d-4f7e-a30d-20733aa0b8e6',\n",
       " 'd1ad8d8f-0fbd-478e-83d3-b28608899cf5',\n",
       " 'ae9cfc27-cf3d-47fa-abac-69b32833284b',\n",
       " '6666b38d-ffab-4279-9bff-ed063a53b92b',\n",
       " '0095cf97-9016-493c-9d9d-ff4abd6c868c',\n",
       " 'a22d1fbf-b543-4b57-9f47-5129a6911f14',\n",
       " '5be78237-29a3-4a37-98cf-d6ed84420d01',\n",
       " '0b15c88d-8683-44ff-aa4a-f2f5cece35e1',\n",
       " '25ac8070-3b6d-44a4-a2fe-fd60898c62f0',\n",
       " '2c1439da-c5ea-4269-922a-b4a9dc6f966a',\n",
       " '06652a8d-fb68-4842-a348-0ed7db8febf5',\n",
       " 'a913a0ce-4398-4a89-9b54-89bebaeb005a',\n",
       " '12947c05-6b8a-465e-85a9-2f0a0deae77a',\n",
       " 'a9a60383-b62b-47e2-a395-beadedf76649',\n",
       " '38bf9cdb-4c70-42a4-b607-6df7f399393f',\n",
       " '7488ac8c-bc59-4826-9a7f-eef20ac8beaf',\n",
       " '8245e4c0-83c4-4a99-82fa-f27b4f93b58e',\n",
       " 'f8e17ede-815e-482e-8d6b-6104051cfe5e',\n",
       " '8fe7ef61-6853-4614-9f5c-28ba5fd903b9',\n",
       " '7f645abb-1c47-473a-a1ad-e1ce07783c2c',\n",
       " 'edb36185-4a63-4f81-9a44-0a9e659682a5',\n",
       " 'cf84fcef-90e0-4896-a70b-5ea0faa18455',\n",
       " 'f5d3a85e-f376-4a15-a768-a3e5d82cb77f',\n",
       " 'f7307f69-7ed7-4fa4-895c-faf9c10a6700',\n",
       " '8a853178-981d-4691-996e-e30f5488cc5f',\n",
       " 'f802658f-3357-4087-bb38-c9047ae0a912',\n",
       " '1f6c0997-cf34-43a8-84f8-57d986f6e8d9',\n",
       " '8952da0c-0ea7-4f50-93ae-578dcd66e6a5',\n",
       " 'ebaf8981-5795-4032-b6fb-07fa399adb5a',\n",
       " '47f00d21-c0c2-4d64-90cb-ad2f1a88701e',\n",
       " '25a5be29-d199-4341-bc4f-2251bf728d9e',\n",
       " '7a2a9d5b-2ecf-48db-bdad-29f005334f58',\n",
       " 'a64d651f-025d-45b9-b556-045a8d3777bd',\n",
       " '130d45fc-742d-4bd6-9ca4-6317a6892493',\n",
       " '1e08a153-722e-4e57-9001-9794e93bcabb',\n",
       " '3d5b232e-b940-4a58-88a7-c92fe4fe5653',\n",
       " '55512fbd-bf3c-4dcb-9738-1675f7da5617',\n",
       " 'bb5af3b0-00c3-4658-8b9b-c329e1da7951',\n",
       " '024e7741-35af-4c37-917f-6300263ff91c',\n",
       " '09403768-7c6a-47f8-a767-06a830f56921',\n",
       " '987afd63-2b07-47f8-829e-281035248ecc',\n",
       " 'a5277401-6e00-41d7-af73-c9f54788602f',\n",
       " 'de08f361-38bc-4c9f-9ce9-0aad067a5599',\n",
       " '3342378e-8182-4525-9ee0-cf68121f6b6b',\n",
       " '9fb379d8-c277-4b83-a5db-93d4794c8092',\n",
       " '3a22b4ea-fc19-4772-8191-5cf37a3cf8b7',\n",
       " '98894edb-be0f-4a41-bd77-0ae067a9e509',\n",
       " 'e1045407-7c25-492b-be82-82984d750142',\n",
       " '7c78a6e4-657a-427f-8d60-9061e8ee361b',\n",
       " '2cf46e0e-290a-422c-9443-9a2c8b65fd07',\n",
       " '11562c93-2ba8-468a-9c4c-219a5f101637',\n",
       " 'a1d683f5-d18e-498f-b4fd-c1755ed68560',\n",
       " 'fbd67417-41da-4d92-be31-551b2c31587a',\n",
       " '9edd95f5-1b2d-4b3c-baa7-a8f237b48884',\n",
       " '8de492bd-8da2-45ec-af89-bc91769c5f51',\n",
       " 'a46868b9-33bd-4a71-8304-3ef770bc7ed1',\n",
       " '49aaa47b-7b5d-4502-96cb-8d691d6d4f14',\n",
       " '6d92a413-7e1a-499d-be91-86586e673033',\n",
       " 'a4122157-0979-42ff-adbf-6a1e2853ce74',\n",
       " 'd847d7c2-f770-4c95-9e22-789cfb8fd644',\n",
       " '5d8cb5bd-b747-4213-84bd-a62059aa9ef4',\n",
       " 'e9feba59-99ff-4221-9170-bd11fa6dba41',\n",
       " '773da07b-978f-4437-88dc-07b74c723ad0',\n",
       " 'a19bb65a-d9a3-46c7-9984-8fe642762c93',\n",
       " 'e2f6b9a6-995a-4db2-8c3f-135cf4365ec7',\n",
       " '3a7c7728-6b16-40a0-a6fc-44f0e2a110dd']"
      ]
     },
     "execution_count": 22,
     "metadata": {},
     "output_type": "execute_result"
    }
   ],
   "source": [
    "vectorstore.add_texts([t.page_content for t in text_chunks])"
   ]
  },
  {
   "cell_type": "code",
   "execution_count": 32,
   "metadata": {},
   "outputs": [
    {
     "name": "stdout",
     "output_type": "stream",
     "text": [
      "<class 'langchain_core.vectorstores.base.VectorStoreRetriever'>\n"
     ]
    }
   ],
   "source": [
    "\n",
    "retriever = vectorstore.as_retriever()\n",
    "print(type(retriever))"
   ]
  },
  {
   "cell_type": "code",
   "execution_count": 24,
   "metadata": {},
   "outputs": [
    {
     "name": "stdout",
     "output_type": "stream",
     "text": [
      "page_content='Calibration by the application of standard weights using a leverarm to the torque sensing mechanism of the testing machine,where practicable, is the most accurate method. Its limitationsare: (1)the small range of torque that can be calibrated, (2)the\n",
      "non-portability of any high capacity standard weights and (3)\n",
      "analysis of all parasitic torque components.\n",
      "5.2 Calibration by Elastic Calibration Devices— The sec-'\n",
      "page_content='Calibration by the application of standard weights using a leverarm to the torque sensing mechanism of the testing machine,where practicable, is the most accurate method. Its limitationsare: (1)the small range of torque that can be calibrated, (2)the\n",
      "non-portability of any high capacity standard weights and (3)\n",
      "analysis of all parasitic torque components.\n",
      "5.2 Calibration by Elastic Calibration Devices— The sec-'\n",
      "page_content='Calibration by the application of standard weights using a leverarm to the torque sensing mechanism of the testing machine,where practicable, is the most accurate method. Its limitationsare: (1)the small range of torque that can be calibrated, (2)the\n",
      "non-portability of any high capacity standard weights and (3)\n",
      "analysis of all parasitic torque components.\n",
      "5.2 Calibration by Elastic Calibration Devices— The sec-'\n",
      "page_content='Calibration by the application of standard weights using a leverarm to the torque sensing mechanism of the testing machine,where practicable, is the most accurate method. Its limitationsare: (1)the small range of torque that can be calibrated, (2)the\n",
      "non-portability of any high capacity standard weights and (3)\n",
      "analysis of all parasitic torque components.\n",
      "5.2 Calibration by Elastic Calibration Devices— The sec-'\n",
      "page_content='Calibration by the application of standard weights using a leverarm to the torque sensing mechanism of the testing machine,where practicable, is the most accurate method. Its limitationsare: (1)the small range of torque that can be calibrated, (2)the\n",
      "non-portability of any high capacity standard weights and (3)\n",
      "analysis of all parasitic torque components.\n",
      "5.2 Calibration by Elastic Calibration Devices— The sec-'\n"
     ]
    }
   ],
   "source": [
    "query = \"How to calibrate torque?\"\n",
    "\n",
    "results = vectorstore.similarity_search(query=query,k=5)\n",
    "for doc in results:\n",
    "    print(doc)\n"
   ]
  },
  {
   "cell_type": "code",
   "execution_count": 25,
   "metadata": {},
   "outputs": [],
   "source": [
    "prompt_template = \"\"\"\n",
    "\n",
    "Use the following pieces of information to answer the user´s question.\n",
    "if you don´t know the answer, just say that you don´t know, don´t try to make up an answer.\n",
    "\n",
    "Context:{context}\n",
    "Question:{question}\n",
    "\n",
    "only return the helpful answer below and nothing else.\n",
    "Helpful answer:\n",
    "\"\"\""
   ]
  },
  {
   "cell_type": "code",
   "execution_count": 26,
   "metadata": {},
   "outputs": [],
   "source": [
    "PROMPT = PromptTemplate(\n",
    "  template=prompt_template,\n",
    "  input_variables=[\"context\",\"question\"],\n",
    ")\n",
    "chain_type_kwargs={\"prompt\":PROMPT}"
   ]
  },
  {
   "cell_type": "code",
   "execution_count": 27,
   "metadata": {},
   "outputs": [],
   "source": [
    "llm = CTransformers(\n",
    "  model=r\"C:\\Users\\user\\Documents\\Github\\projects\\LlamaAi\\AnsiAssistance\\Model\\Llama 2\\llama-2-7b-chat.ggmlv3.q4_0.bin\",\n",
    "  model_type=\"llama\",\n",
    "  config={\n",
    "    \"max_new_tokens\":512,\n",
    "    \"temperature\":0.8\n",
    "  }\n",
    "  \n",
    ")"
   ]
  },
  {
   "cell_type": "code",
   "execution_count": 28,
   "metadata": {},
   "outputs": [],
   "source": [
    "query = \"What is torque?\"\n"
   ]
  },
  {
   "cell_type": "code",
   "execution_count": 31,
   "metadata": {},
   "outputs": [
    {
     "ename": "ValidationError",
     "evalue": "1 validation error for RetrievalQA\nretriever\n  Can't instantiate abstract class BaseRetriever with abstract methods _aget_relevant_documents, _get_relevant_documents (type=type_error)",
     "output_type": "error",
     "traceback": [
      "\u001b[1;31m---------------------------------------------------------------------------\u001b[0m",
      "\u001b[1;31mValidationError\u001b[0m                           Traceback (most recent call last)",
      "Cell \u001b[1;32mIn[31], line 1\u001b[0m\n\u001b[1;32m----> 1\u001b[0m qa \u001b[38;5;241m=\u001b[39m \u001b[43mRetrievalQA\u001b[49m\u001b[38;5;241;43m.\u001b[39;49m\u001b[43mfrom_chain_type\u001b[49m\u001b[43m(\u001b[49m\n\u001b[0;32m      2\u001b[0m \u001b[43m    \u001b[49m\u001b[43mllm\u001b[49m\u001b[38;5;241;43m=\u001b[39;49m\u001b[43mllm\u001b[49m\u001b[43m,\u001b[49m\n\u001b[0;32m      3\u001b[0m \u001b[43m    \u001b[49m\u001b[43mchain_type\u001b[49m\u001b[38;5;241;43m=\u001b[39;49m\u001b[38;5;124;43m\"\u001b[39;49m\u001b[38;5;124;43mstuff\u001b[39;49m\u001b[38;5;124;43m\"\u001b[39;49m\u001b[43m,\u001b[49m\n\u001b[0;32m      4\u001b[0m \u001b[43m    \u001b[49m\u001b[43mretriever\u001b[49m\u001b[38;5;241;43m=\u001b[39;49m\u001b[43mretriever\u001b[49m\n\u001b[0;32m      5\u001b[0m \u001b[43m)\u001b[49m\n",
      "File \u001b[1;32mc:\\Users\\user\\anaconda3\\envs\\ansibot\\lib\\site-packages\\langchain\\chains\\retrieval_qa\\base.py:95\u001b[0m, in \u001b[0;36mBaseRetrievalQA.from_chain_type\u001b[1;34m(cls, llm, chain_type, chain_type_kwargs, **kwargs)\u001b[0m\n\u001b[0;32m     91\u001b[0m _chain_type_kwargs \u001b[38;5;241m=\u001b[39m chain_type_kwargs \u001b[38;5;129;01mor\u001b[39;00m {}\n\u001b[0;32m     92\u001b[0m combine_documents_chain \u001b[38;5;241m=\u001b[39m load_qa_chain(\n\u001b[0;32m     93\u001b[0m     llm, chain_type\u001b[38;5;241m=\u001b[39mchain_type, \u001b[38;5;241m*\u001b[39m\u001b[38;5;241m*\u001b[39m_chain_type_kwargs\n\u001b[0;32m     94\u001b[0m )\n\u001b[1;32m---> 95\u001b[0m \u001b[38;5;28;01mreturn\u001b[39;00m \u001b[38;5;28;43mcls\u001b[39;49m\u001b[43m(\u001b[49m\u001b[43mcombine_documents_chain\u001b[49m\u001b[38;5;241;43m=\u001b[39;49m\u001b[43mcombine_documents_chain\u001b[49m\u001b[43m,\u001b[49m\u001b[43m \u001b[49m\u001b[38;5;241;43m*\u001b[39;49m\u001b[38;5;241;43m*\u001b[39;49m\u001b[43mkwargs\u001b[49m\u001b[43m)\u001b[49m\n",
      "File \u001b[1;32mc:\\Users\\user\\anaconda3\\envs\\ansibot\\lib\\site-packages\\langchain\\load\\serializable.py:74\u001b[0m, in \u001b[0;36mSerializable.__init__\u001b[1;34m(self, **kwargs)\u001b[0m\n\u001b[0;32m     73\u001b[0m \u001b[38;5;28;01mdef\u001b[39;00m \u001b[38;5;21m__init__\u001b[39m(\u001b[38;5;28mself\u001b[39m, \u001b[38;5;241m*\u001b[39m\u001b[38;5;241m*\u001b[39mkwargs: Any) \u001b[38;5;241m-\u001b[39m\u001b[38;5;241m>\u001b[39m \u001b[38;5;28;01mNone\u001b[39;00m:\n\u001b[1;32m---> 74\u001b[0m     \u001b[38;5;28;43msuper\u001b[39;49m\u001b[43m(\u001b[49m\u001b[43m)\u001b[49m\u001b[38;5;241;43m.\u001b[39;49m\u001b[38;5;21;43m__init__\u001b[39;49m\u001b[43m(\u001b[49m\u001b[38;5;241;43m*\u001b[39;49m\u001b[38;5;241;43m*\u001b[39;49m\u001b[43mkwargs\u001b[49m\u001b[43m)\u001b[49m\n\u001b[0;32m     75\u001b[0m     \u001b[38;5;28mself\u001b[39m\u001b[38;5;241m.\u001b[39m_lc_kwargs \u001b[38;5;241m=\u001b[39m kwargs\n",
      "File \u001b[1;32mc:\\Users\\user\\anaconda3\\envs\\ansibot\\lib\\site-packages\\pydantic\\main.py:341\u001b[0m, in \u001b[0;36mpydantic.main.BaseModel.__init__\u001b[1;34m()\u001b[0m\n",
      "\u001b[1;31mValidationError\u001b[0m: 1 validation error for RetrievalQA\nretriever\n  Can't instantiate abstract class BaseRetriever with abstract methods _aget_relevant_documents, _get_relevant_documents (type=type_error)"
     ]
    }
   ],
   "source": [
    "qa = RetrievalQA.from_chain_type(\n",
    "    llm=llm,\n",
    "    chain_type=\"stuff\",\n",
    "    retriever=retriever\n",
    ")"
   ]
  },
  {
   "cell_type": "code",
   "execution_count": 267,
   "metadata": {},
   "outputs": [
    {
     "ename": "NameError",
     "evalue": "name 'qa' is not defined",
     "output_type": "error",
     "traceback": [
      "\u001b[1;31m---------------------------------------------------------------------------\u001b[0m",
      "\u001b[1;31mNameError\u001b[0m                                 Traceback (most recent call last)",
      "Cell \u001b[1;32mIn[267], line 3\u001b[0m\n\u001b[0;32m      1\u001b[0m \u001b[38;5;28;01mwhile\u001b[39;00m \u001b[38;5;28;01mTrue\u001b[39;00m:\n\u001b[0;32m      2\u001b[0m     user_input \u001b[38;5;241m=\u001b[39m \u001b[38;5;28minput\u001b[39m(\u001b[38;5;124mf\u001b[39m\u001b[38;5;124m\"\u001b[39m\u001b[38;5;124mInput Prompt:\u001b[39m\u001b[38;5;124m\"\u001b[39m)\n\u001b[1;32m----> 3\u001b[0m     results \u001b[38;5;241m=\u001b[39m \u001b[43mqa\u001b[49m({\u001b[38;5;124m\"\u001b[39m\u001b[38;5;124mquery\u001b[39m\u001b[38;5;124m\"\u001b[39m:user_input})\n\u001b[0;32m      4\u001b[0m     \u001b[38;5;28mprint\u001b[39m (\u001b[38;5;124m\"\u001b[39m\u001b[38;5;124mResponse : \u001b[39m\u001b[38;5;124m\"\u001b[39m, results[\u001b[38;5;124m\"\u001b[39m\u001b[38;5;124mresult\u001b[39m\u001b[38;5;124m\"\u001b[39m])\n",
      "\u001b[1;31mNameError\u001b[0m: name 'qa' is not defined"
     ]
    }
   ],
   "source": [
    "while True:\n",
    "    user_input = input(f\"Input Prompt:\")\n",
    "    results = qa({\"query\":user_input})\n",
    "    print (\"Response : \", results[\"result\"])"
   ]
  }
 ],
 "metadata": {
  "kernelspec": {
   "display_name": "ansibot",
   "language": "python",
   "name": "python3"
  },
  "language_info": {
   "codemirror_mode": {
    "name": "ipython",
    "version": 3
   },
   "file_extension": ".py",
   "mimetype": "text/x-python",
   "name": "python",
   "nbconvert_exporter": "python",
   "pygments_lexer": "ipython3",
   "version": "3.8.19"
  }
 },
 "nbformat": 4,
 "nbformat_minor": 2
}
