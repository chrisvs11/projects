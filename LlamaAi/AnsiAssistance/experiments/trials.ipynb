{
 "cells": [
  {
   "cell_type": "code",
   "execution_count": 1,
   "metadata": {},
   "outputs": [
    {
     "name": "stdout",
     "output_type": "stream",
     "text": [
      "Ok\n"
     ]
    }
   ],
   "source": [
    "print(\"Ok\")"
   ]
  },
  {
   "cell_type": "code",
   "execution_count": 2,
   "metadata": {},
   "outputs": [
    {
     "name": "stderr",
     "output_type": "stream",
     "text": [
      "c:\\Users\\user\\anaconda3\\envs\\ansibot\\lib\\site-packages\\pinecone\\data\\index.py:1: TqdmWarning: IProgress not found. Please update jupyter and ipywidgets. See https://ipywidgets.readthedocs.io/en/stable/user_install.html\n",
      "  from tqdm.autonotebook import tqdm\n"
     ]
    }
   ],
   "source": [
    "from langchain.chains import RetrievalQA\n",
    "from langchain.embeddings import HuggingFaceEmbeddings\n",
    "from langchain_community.document_loaders import PyPDFLoader\n",
    "from langchain.text_splitter import RecursiveCharacterTextSplitter\n",
    "from langchain_pinecone import PineconeVectorStore\n",
    "from langchain.prompts import PromptTemplate\n",
    "from langchain.llms import CTransformers\n",
    "from pinecone import Pinecone\n",
    "import pypdf\n",
    "import os\n",
    "\n",
    "\n"
   ]
  },
  {
   "cell_type": "code",
   "execution_count": 3,
   "metadata": {},
   "outputs": [],
   "source": [
    "PINECONE_API_KEY = \"92c9671d-43cc-48e8-9a52-c60bc89ff702\""
   ]
  },
  {
   "cell_type": "code",
   "execution_count": 4,
   "metadata": {},
   "outputs": [
    {
     "name": "stdout",
     "output_type": "stream",
     "text": [
      "92c9671d-43cc-48e8-9a52-c60bc89ff702\n"
     ]
    }
   ],
   "source": [
    "print(PINECONE_API_KEY)"
   ]
  },
  {
   "cell_type": "code",
   "execution_count": 5,
   "metadata": {},
   "outputs": [],
   "source": [
    "#Extract data from the pdf\n",
    "loader = PyPDFLoader(r\"C:\\Users\\user\\Documents\\Github\\projects\\LlamaAi\\AnsiAssistance\\data\\E2624-17-SP-Torque-Calibration-Testing-Machine.pdf\")"
   ]
  },
  {
   "cell_type": "code",
   "execution_count": 6,
   "metadata": {},
   "outputs": [],
   "source": [
    "docs = loader.load()"
   ]
  },
  {
   "cell_type": "code",
   "execution_count": 7,
   "metadata": {},
   "outputs": [
    {
     "data": {
      "text/plain": [
       "Document(metadata={'source': 'C:\\\\Users\\\\user\\\\Documents\\\\Github\\\\projects\\\\LlamaAi\\\\AnsiAssistance\\\\data\\\\E2624-17-SP-Torque-Calibration-Testing-Machine.pdf', 'page': 0}, page_content=\"Designation: E2624 −17\\nStandard Practice for\\nTorque Calibration of Testing Machines1\\nThis standard is issued under the ﬁxed designation E2624; the number immediately following the designation indicates the year of\\noriginal adoption or, in the case of revision, the year of last revision. A number in parentheses indicates the year of last reapproval. Asuperscript epsilon ( ´) indicates an editorial change since the last revision or reapproval.\\n1. Scope*\\n1.1 This practice covers procedures and requirements for\\nthe calibration of torque for static and quasi-static torquecapable testing machines. These may, or may not, have torqueindicating systems and include those devices used for thecalibration of hand torque tools. Testing machines may becalibrated by one of the three following methods or combina-tion thereof:\\n1.1.1 Use of standard weights and lever arms.1.1.2 Use of elastic torque measuring devices.1.1.3 Use of elastic force measuring devices and lever arms.1.1.4 Any of the methods require a speciﬁc uncertainty of\\nmeasurement, displaying metrological traceability to The In-ternational System of Units (SI).\\nNOTE1—– for further deﬁnition of the term metrological traceability,\\nrefer to the latest revision of JCGM 200: International vocabulary ofmetrology — Basic and general concepts and associated terms (VIM).\\n1.2 The procedures of 1.1.1 ,1.1.2 , and 1.1.3 apply to the\\ncalibration of the torque-indicating systems associated with thetesting machine, such as a scale, dial, marked or unmarkedrecorder chart, digital display, etc. In all cases the buyer/owner/user must designate the torque-indicating system(s) to becalibrated and included in the report.\\n1.3 Since conversion factors are not required in this\\npractice, either english units, metric units, or SI units can beused as the standard.\\n1.4 Torque values indicated on displays/printouts of testing\\nmachine data systems—be they instantaneous, delayed, stored,or retransmitted—which are calibrated with provisions of\\n1.1.1 ,1.1.2 or1.1.3 or a combination thereof, and are within\\nthe 61 % of reading accuracy requirement, comply with this\\npractice.\\n1.5 The following applies to all speciﬁed limits in this\\nstandard: For purposes of determining conformance with thesespeciﬁcations, an observed value or a calculated value shall berounded “to the nearest unit” in the last right-hand digit used inexpressing the speciﬁcation limit, in accordance with the\\nrounding method of Practice\\nE29, for Using Signiﬁcant Digits\\nin Test Data to Determine Conformance with Speciﬁcations.\\n1.6 This standard does not purport to address all of the\\nsafety concerns, if any, associated with its use. It is theresponsibility of the user of this standard to establish appro-priate safety, health, and environmental practices and deter-mine the applicability of regulatory limitations prior to use.\\n1.7 This international standard was developed in accor-\\ndance with internationally recognized principles on standard-ization established in the Decision on Principles for theDevelopment of International Standards, Guides and Recom-mendations issued by the World Trade Organization TechnicalBarriers to Trade (TBT) Committee.\\n2. Referenced Documents\\n2.1 ASTM Standards:\\n2\\nE6Terminology Relating to Methods of Mechanical Testing\\nE29Practice for Using Signiﬁcant Digits in Test Data to\\nDetermine Conformance with Speciﬁcations\\nE74Practice of Calibration of Force-Measuring Instruments\\nfor Verifying the Force Indication of Testing Machines\\nE2428 Practice for Calibration and Veriﬁcation of Torque\\nTransducers\\n2.2 NIST Technical Notes:\\nNIST Technical Note 1297 Guidelines for Evaluating and\\nExpressing the Uncertainty of NIST Measurement Re-sults\\n3\\n2.3 BIPM Standard:4\\nJCGM 200 : International vocabulary of metrology — Basic\\nand general concepts and associated terms (VIM)\\n3. Terminology\\n3.1 Deﬁnitions: In addition to the terms listed, see Termi-\\nnology E6.\\n1This practice is under the jurisdiction of ASTM Committee E28on Mechanical\\nTesting and is the direct responsibility of Subcommittee E28.01 on Calibration of\\nMechanical Testing Machines and Apparatus.\\nCurrent edition approved Sept. 1, 2017. Published November 2017. Originally\\napproved in 2009. Last previous edition approved in 2015 as E2624–15. DOI:10.1520/E2624-17.2For referenced ASTM standards, visit the ASTM website, www.astm.org, or\\ncontact ASTM Customer Service at service@astm.org. For Annual Book of ASTM\\nStandards volume information, refer to the standard’s Document Summary page on\\nthe ASTM website.\\n3Available from National Institute of Standards and Technology (NIST), 100\\nBureau Dr., Stop 1070, Gaithersburg, MD 20899-1070, http://www.nist.gov.\\n4Available from BIPM (Bureau International des Poids et Mesures)- Pavillon de\\nBreteuil F-92312 Sèvres Cedex FRANCE http://www.bipm.org\\n*A Summary of Changes section appears at the end of this standard\\nCopyright © ASTM International, 100 Barr Harbor Drive, PO Box C700, West Conshohocken, PA 19428-2959. United StatesThis international standard was developed in accordance with internationally recognized principles on standardization established in the Decisi on on Principles for the\\nDevelopment of International Standards, Guides and Recommendations issued by the World Trade Organization Technical Barriers to Trade (TBT) Commi ttee.\\n1\\n\\x0b8&5\\x0c\\x038QLYHUVLGDG\\x03GH\\x03&RVWD\\x035LFD\\x03SXUVXDQW\\x03WR\\x03/LFHQVH\\x03$JUHHPHQW\\x11\\x031R\\x03IXUWKHU\\x03UHSURGXFWLRQV\\x03DXWKRUL]HG\\x11'RZQORDGHG\\x12SULQWHG\\x03E\\\\\\x03&RS\\\\ULJKW\\x03E\\\\\\x03$670\\x03,QW\\nO\\x03\\x0bDOO\\x03ULJKWV\\x03UHVHUYHG\\x0c\\x036XQ\\x03$SU\\x03\\x14\\x17\\x03\\x14\\x19\\x1d\\x15\\x19\\x1d\\x18\\x14\\x0387&\\x03\\x15\\x13\\x15\\x17\")"
      ]
     },
     "execution_count": 7,
     "metadata": {},
     "output_type": "execute_result"
    }
   ],
   "source": [
    "docs[0]"
   ]
  },
  {
   "cell_type": "code",
   "execution_count": 8,
   "metadata": {},
   "outputs": [],
   "source": [
    "def text_split(extracted_data):\n",
    "  text_splitter = RecursiveCharacterTextSplitter(chunk_size = 500, chunk_overlap = 20)\n",
    "  text_chunks = text_splitter.split_documents(extracted_data)\n",
    "  return text_chunks"
   ]
  },
  {
   "cell_type": "code",
   "execution_count": 9,
   "metadata": {},
   "outputs": [],
   "source": [
    "text_chunks = text_split(docs)"
   ]
  },
  {
   "cell_type": "code",
   "execution_count": 10,
   "metadata": {},
   "outputs": [
    {
     "name": "stdout",
     "output_type": "stream",
     "text": [
      "122\n"
     ]
    }
   ],
   "source": [
    "print(len(text_chunks))"
   ]
  },
  {
   "cell_type": "code",
   "execution_count": 11,
   "metadata": {},
   "outputs": [],
   "source": [
    "#download embedding model\n",
    "def download_hugging_face_embedding():\n",
    "  embeddings = HuggingFaceEmbeddings(model_name=\"sentence-transformers/all-MiniLM-L6-v2\")\n",
    "  return embeddings"
   ]
  },
  {
   "cell_type": "code",
   "execution_count": 12,
   "metadata": {},
   "outputs": [
    {
     "name": "stderr",
     "output_type": "stream",
     "text": [
      "C:\\Users\\user\\AppData\\Local\\Temp\\ipykernel_31176\\917603912.py:3: LangChainDeprecationWarning: The class `HuggingFaceEmbeddings` was deprecated in LangChain 0.2.2 and will be removed in 1.0. An updated version of the class exists in the langchain-huggingface package and should be used instead. To use it run `pip install -U langchain-huggingface` and import as `from langchain_huggingface import HuggingFaceEmbeddings`.\n",
      "  embeddings = HuggingFaceEmbeddings(model_name=\"sentence-transformers/all-MiniLM-L6-v2\")\n",
      "c:\\Users\\user\\anaconda3\\envs\\ansibot\\lib\\site-packages\\transformers\\tokenization_utils_base.py:1601: FutureWarning: `clean_up_tokenization_spaces` was not set. It will be set to `True` by default. This behavior will be depracted in transformers v4.45, and will be then set to `False` by default. For more details check this issue: https://github.com/huggingface/transformers/issues/31884\n",
      "  warnings.warn(\n"
     ]
    }
   ],
   "source": [
    "embeddings = download_hugging_face_embedding()"
   ]
  },
  {
   "cell_type": "code",
   "execution_count": 13,
   "metadata": {},
   "outputs": [
    {
     "data": {
      "text/plain": [
       "HuggingFaceEmbeddings(client=SentenceTransformer(\n",
       "  (0): Transformer({'max_seq_length': 256, 'do_lower_case': False}) with Transformer model: BertModel \n",
       "  (1): Pooling({'word_embedding_dimension': 384, 'pooling_mode_cls_token': False, 'pooling_mode_mean_tokens': True, 'pooling_mode_max_tokens': False, 'pooling_mode_mean_sqrt_len_tokens': False})\n",
       "  (2): Normalize()\n",
       "), model_name='sentence-transformers/all-MiniLM-L6-v2', cache_folder=None, model_kwargs={}, encode_kwargs={}, multi_process=False, show_progress=False)"
      ]
     },
     "execution_count": 13,
     "metadata": {},
     "output_type": "execute_result"
    }
   ],
   "source": [
    "embeddings"
   ]
  },
  {
   "cell_type": "code",
   "execution_count": 14,
   "metadata": {},
   "outputs": [],
   "source": [
    "query_result = embeddings.embed_query(\"Hello World\")"
   ]
  },
  {
   "cell_type": "code",
   "execution_count": 15,
   "metadata": {},
   "outputs": [
    {
     "data": {
      "text/plain": [
       "[-0.03447726368904114,\n",
       " 0.031023195013403893,\n",
       " 0.006734934169799089,\n",
       " 0.026109030470252037,\n",
       " -0.039362065494060516,\n",
       " -0.16030246019363403,\n",
       " 0.06692402064800262,\n",
       " -0.006441517733037472,\n",
       " -0.04745056480169296,\n",
       " 0.014758898876607418,\n",
       " 0.07087533175945282,\n",
       " 0.05552754923701286,\n",
       " 0.019193338230252266,\n",
       " -0.02625126764178276,\n",
       " -0.01010944414883852,\n",
       " -0.02694048173725605,\n",
       " 0.022307468578219414,\n",
       " -0.022226648405194283,\n",
       " -0.1496926099061966,\n",
       " -0.017493069171905518,\n",
       " 0.007676312699913979,\n",
       " 0.0543522983789444,\n",
       " 0.003254531417042017,\n",
       " 0.03172597661614418,\n",
       " -0.084621362388134,\n",
       " -0.029405953362584114,\n",
       " 0.05159563198685646,\n",
       " 0.04812399297952652,\n",
       " -0.0033147777430713177,\n",
       " -0.058279190212488174,\n",
       " 0.041969332844018936,\n",
       " 0.02221066504716873,\n",
       " 0.1281888484954834,\n",
       " -0.02233894355595112,\n",
       " -0.011656250804662704,\n",
       " 0.06292835623025894,\n",
       " -0.032876234501600266,\n",
       " -0.09122610837221146,\n",
       " -0.03117542713880539,\n",
       " 0.05269954353570938,\n",
       " 0.047034844756126404,\n",
       " -0.0842030718922615,\n",
       " -0.030056234449148178,\n",
       " -0.020744752138853073,\n",
       " 0.009517735801637173,\n",
       " -0.0037217524368315935,\n",
       " 0.007343307137489319,\n",
       " 0.0393243134021759,\n",
       " 0.09327403455972672,\n",
       " -0.003788589732721448,\n",
       " -0.0527421273291111,\n",
       " -0.05805819854140282,\n",
       " -0.0068643419072031975,\n",
       " 0.005283201113343239,\n",
       " 0.082893006503582,\n",
       " 0.019362762570381165,\n",
       " 0.006284472532570362,\n",
       " -0.010330788791179657,\n",
       " 0.009032324887812138,\n",
       " -0.037683770060539246,\n",
       " -0.04520609229803085,\n",
       " 0.024016311392188072,\n",
       " -0.006944160908460617,\n",
       " 0.013491613790392876,\n",
       " 0.10005493462085724,\n",
       " -0.07168380916118622,\n",
       " -0.021695034578442574,\n",
       " 0.03161853179335594,\n",
       " -0.05163460969924927,\n",
       " -0.08224767446517944,\n",
       " -0.06569337844848633,\n",
       " -0.009895364753901958,\n",
       " 0.005816347431391478,\n",
       " 0.07355460524559021,\n",
       " -0.034050337970256805,\n",
       " 0.024886133149266243,\n",
       " 0.014488049782812595,\n",
       " 0.026457365602254868,\n",
       " 0.009656698442995548,\n",
       " 0.030217299237847328,\n",
       " 0.052804045379161835,\n",
       " -0.07535991072654724,\n",
       " 0.009897192940115929,\n",
       " 0.029836811125278473,\n",
       " 0.017555588856339455,\n",
       " 0.02309197187423706,\n",
       " 0.001933785737492144,\n",
       " 0.0014002296375110745,\n",
       " -0.04717597737908363,\n",
       " -0.011194336228072643,\n",
       " -0.11420141905546188,\n",
       " -0.01981198415160179,\n",
       " 0.04026617109775543,\n",
       " 0.002193005755543709,\n",
       " -0.07979223877191544,\n",
       " -0.025382287800312042,\n",
       " 0.09448286145925522,\n",
       " -0.0289811622351408,\n",
       " -0.145002543926239,\n",
       " 0.23097743093967438,\n",
       " 0.02773112989962101,\n",
       " 0.03211149200797081,\n",
       " 0.031064936891198158,\n",
       " 0.042832836508750916,\n",
       " 0.06423777341842651,\n",
       " 0.03216322138905525,\n",
       " -0.00487671559676528,\n",
       " 0.05569944903254509,\n",
       " -0.037532392889261246,\n",
       " -0.02150554582476616,\n",
       " -0.02834266982972622,\n",
       " -0.028846928849816322,\n",
       " 0.03835306316614151,\n",
       " -0.01746867410838604,\n",
       " 0.052485305815935135,\n",
       " -0.07487607002258301,\n",
       " -0.031259745359420776,\n",
       " 0.02184154838323593,\n",
       " -0.03989564627408981,\n",
       " -0.008587067946791649,\n",
       " 0.026956645771861076,\n",
       " -0.04849549010396004,\n",
       " 0.011469866149127483,\n",
       " 0.029618289321660995,\n",
       " -0.02057219296693802,\n",
       " 0.013103884644806385,\n",
       " 0.02883347123861313,\n",
       " -3.194200921532142e-33,\n",
       " 0.06478207558393478,\n",
       " -0.018130173906683922,\n",
       " 0.05178990960121155,\n",
       " 0.12198273092508316,\n",
       " 0.02878013253211975,\n",
       " 0.008721960708498955,\n",
       " -0.07052117586135864,\n",
       " -0.016907284036278725,\n",
       " 0.04073972627520561,\n",
       " 0.042116206139326096,\n",
       " 0.025447238236665726,\n",
       " 0.03574627637863159,\n",
       " -0.04914471507072449,\n",
       " 0.0021290541626513004,\n",
       " -0.015546551905572414,\n",
       " 0.05073057487607002,\n",
       " -0.04818529263138771,\n",
       " 0.035880520939826965,\n",
       " -0.004067104775458574,\n",
       " 0.1017247885465622,\n",
       " -0.055970095098018646,\n",
       " -0.010681027546525002,\n",
       " 0.011235782876610756,\n",
       " 0.09068648517131805,\n",
       " 0.004234494175761938,\n",
       " 0.03513864055275917,\n",
       " -0.009702866896986961,\n",
       " -0.09386517107486725,\n",
       " 0.09285552054643631,\n",
       " 0.00800492987036705,\n",
       " -0.007705381605774164,\n",
       " -0.052086807787418365,\n",
       " -0.012587991543114185,\n",
       " 0.0032668348867446184,\n",
       " 0.006013567093759775,\n",
       " 0.007581537123769522,\n",
       " 0.01051713339984417,\n",
       " -0.08634547889232635,\n",
       " -0.06987880915403366,\n",
       " -0.002533840714022517,\n",
       " -0.09097661823034286,\n",
       " 0.04688730835914612,\n",
       " 0.05207650363445282,\n",
       " 0.007193813566118479,\n",
       " 0.010903601534664631,\n",
       " -0.005229503847658634,\n",
       " 0.013937230221927166,\n",
       " 0.021968331187963486,\n",
       " 0.03420861437916756,\n",
       " 0.06022467464208603,\n",
       " 0.00011659744632197544,\n",
       " 0.01473195943981409,\n",
       " -0.07008922100067139,\n",
       " 0.028499066829681396,\n",
       " -0.027601640671491623,\n",
       " 0.010768391191959381,\n",
       " 0.03483092784881592,\n",
       " -0.02248786762356758,\n",
       " 0.009769030846655369,\n",
       " 0.07722786068916321,\n",
       " 0.021588338539004326,\n",
       " 0.11495622247457504,\n",
       " -0.0680011510848999,\n",
       " 0.02376101166009903,\n",
       " -0.015983939170837402,\n",
       " -0.0178269874304533,\n",
       " 0.06439483165740967,\n",
       " 0.032025743275880814,\n",
       " 0.05027022957801819,\n",
       " -0.005913690198212862,\n",
       " -0.033708032220602036,\n",
       " 0.017840301617980003,\n",
       " 0.016573375090956688,\n",
       " 0.06329651176929474,\n",
       " 0.03467722609639168,\n",
       " 0.04647344723343849,\n",
       " 0.09790610522031784,\n",
       " -0.006635491736233234,\n",
       " 0.02520701475441456,\n",
       " -0.07798830419778824,\n",
       " 0.01692645065486431,\n",
       " -0.000945836363825947,\n",
       " 0.022471917793154716,\n",
       " -0.03825325518846512,\n",
       " 0.09570477902889252,\n",
       " -0.005350738298147917,\n",
       " 0.010469022206962109,\n",
       " -0.11524054408073425,\n",
       " -0.01326244417577982,\n",
       " -0.010709318332374096,\n",
       " -0.08311720937490463,\n",
       " 0.07327358424663544,\n",
       " 0.04939224198460579,\n",
       " -0.00899441260844469,\n",
       " -0.09584563970565796,\n",
       " 3.3661485617505796e-33,\n",
       " 0.12493185698986053,\n",
       " 0.01934969052672386,\n",
       " -0.058225732296705246,\n",
       " -0.0359882153570652,\n",
       " -0.05074683949351311,\n",
       " -0.04566238075494766,\n",
       " -0.08260341733694077,\n",
       " 0.1481948047876358,\n",
       " -0.08842107653617859,\n",
       " 0.06027444079518318,\n",
       " 0.051030199974775314,\n",
       " 0.010303128510713577,\n",
       " 0.14121423661708832,\n",
       " 0.030813822522759438,\n",
       " 0.06103319302201271,\n",
       " -0.05285131558775902,\n",
       " 0.13664890825748444,\n",
       " 0.009189927950501442,\n",
       " -0.01732519641518593,\n",
       " -0.01284862868487835,\n",
       " -0.00799519568681717,\n",
       " -0.0509801059961319,\n",
       " -0.05235069990158081,\n",
       " 0.007592960260808468,\n",
       " -0.015166257508099079,\n",
       " 0.016960345208644867,\n",
       " 0.02127053774893284,\n",
       " 0.020558014512062073,\n",
       " -0.12002807855606079,\n",
       " 0.014461861923336983,\n",
       " 0.026759842410683632,\n",
       " 0.025330625474452972,\n",
       " -0.04275454580783844,\n",
       " 0.006768506485968828,\n",
       " -0.014458559453487396,\n",
       " 0.045261964201927185,\n",
       " -0.09147659689188004,\n",
       " -0.019439145922660828,\n",
       " -0.01783345639705658,\n",
       " -0.05491013452410698,\n",
       " -0.05264109745621681,\n",
       " -0.01045905239880085,\n",
       " -0.05201609805226326,\n",
       " 0.020892079919576645,\n",
       " -0.0799703598022461,\n",
       " -0.012111326679587364,\n",
       " -0.057731449604034424,\n",
       " 0.023178258910775185,\n",
       " -0.008031658828258514,\n",
       " -0.025989217683672905,\n",
       " -0.07995673269033432,\n",
       " -0.020728837698698044,\n",
       " 0.0488177165389061,\n",
       " -0.0203892569988966,\n",
       " -0.04917661100625992,\n",
       " 0.014159555546939373,\n",
       " -0.06362208724021912,\n",
       " -0.007807453628629446,\n",
       " 0.01643148995935917,\n",
       " -0.02568250708281994,\n",
       " 0.013381032273173332,\n",
       " 0.026248792186379433,\n",
       " 0.00997831393033266,\n",
       " 0.06322887539863586,\n",
       " 0.0026720957830548286,\n",
       " -0.0065828184597194195,\n",
       " 0.01663203164935112,\n",
       " 0.03236653655767441,\n",
       " 0.0379425548017025,\n",
       " -0.03637602552771568,\n",
       " -0.006910985801368952,\n",
       " 0.00015969539526849985,\n",
       " -0.0016335871769115329,\n",
       " -0.02727825753390789,\n",
       " -0.02803805097937584,\n",
       " 0.04968147724866867,\n",
       " -0.028867190703749657,\n",
       " -0.002418068004772067,\n",
       " 0.01477495301514864,\n",
       " 0.009764582850039005,\n",
       " 0.005797585938125849,\n",
       " 0.013486145064234734,\n",
       " 0.005567873362451792,\n",
       " 0.037227023392915726,\n",
       " 0.007232557516545057,\n",
       " 0.040156252682209015,\n",
       " 0.08150322735309601,\n",
       " 0.07199159264564514,\n",
       " -0.013056247495114803,\n",
       " -0.04288201406598091,\n",
       " -0.011011237278580666,\n",
       " 0.004897858016192913,\n",
       " -0.009229753166437149,\n",
       " 0.03519151359796524,\n",
       " -0.05103502422571182,\n",
       " -1.571437557856825e-08,\n",
       " -0.08862441778182983,\n",
       " 0.02390933223068714,\n",
       " -0.01623874343931675,\n",
       " 0.03170048072934151,\n",
       " 0.027284208685159683,\n",
       " 0.05246882513165474,\n",
       " -0.04707096517086029,\n",
       " -0.05884740874171257,\n",
       " -0.06320824474096298,\n",
       " 0.04088858887553215,\n",
       " 0.049827929586172104,\n",
       " 0.10655171424150467,\n",
       " -0.0745023787021637,\n",
       " -0.01249545719474554,\n",
       " 0.018370583653450012,\n",
       " 0.039474137127399445,\n",
       " -0.024797871708869934,\n",
       " 0.014516339637339115,\n",
       " -0.03706919401884079,\n",
       " 0.020015837624669075,\n",
       " -4.8583569878246635e-05,\n",
       " 0.009866595268249512,\n",
       " 0.024838805198669434,\n",
       " -0.05245812237262726,\n",
       " 0.029314160346984863,\n",
       " -0.08719196170568466,\n",
       " -0.014499806798994541,\n",
       " 0.026018967851996422,\n",
       " -0.018746377900242805,\n",
       " -0.07620513439178467,\n",
       " 0.03504335135221481,\n",
       " 0.10363946855068207,\n",
       " -0.028050540015101433,\n",
       " 0.012718204408884048,\n",
       " -0.07632552832365036,\n",
       " -0.0186524149030447,\n",
       " 0.024976758286356926,\n",
       " 0.08144541829824448,\n",
       " 0.06875882297754288,\n",
       " -0.06405671685934067,\n",
       " -0.08389382809400558,\n",
       " 0.06136243790388107,\n",
       " -0.03354552760720253,\n",
       " -0.10615336149930954,\n",
       " -0.04008050635457039,\n",
       " 0.03253021836280823,\n",
       " 0.07662492245435715,\n",
       " -0.0730162113904953,\n",
       " 0.00033759945654310286,\n",
       " -0.040871649980545044,\n",
       " -0.07578843832015991,\n",
       " 0.027527613565325737,\n",
       " 0.0746253952383995,\n",
       " 0.017717231065034866,\n",
       " 0.09121835231781006,\n",
       " 0.11022024601697922,\n",
       " 0.0005697919405065477,\n",
       " 0.05146336182951927,\n",
       " -0.014551273547112942,\n",
       " 0.033232033252716064,\n",
       " 0.02379230037331581,\n",
       " -0.022889843210577965,\n",
       " 0.038937557488679886,\n",
       " 0.03020683117210865]"
      ]
     },
     "execution_count": 15,
     "metadata": {},
     "output_type": "execute_result"
    }
   ],
   "source": [
    "query_result"
   ]
  },
  {
   "cell_type": "code",
   "execution_count": 16,
   "metadata": {},
   "outputs": [],
   "source": [
    "pc = Pinecone(api_key=PINECONE_API_KEY)\n",
    "\n",
    "index_name = \"ansichatbot\"\n",
    "\n",
    "index = pc.Index(index_name)\n",
    "\n",
    "\n",
    "\n"
   ]
  },
  {
   "cell_type": "code",
   "execution_count": 17,
   "metadata": {},
   "outputs": [
    {
     "data": {
      "text/plain": [
       "36"
      ]
     },
     "execution_count": 17,
     "metadata": {},
     "output_type": "execute_result"
    }
   ],
   "source": [
    "vectorstore = PineconeVectorStore(index=index,embedding=embeddings)\n",
    "\n",
    "\n",
    "\n",
    "len(vectorstore.add_documents(text_chunks)[0])"
   ]
  },
  {
   "cell_type": "code",
   "execution_count": 18,
   "metadata": {},
   "outputs": [],
   "source": [
    "\n",
    "retriever = vectorstore.as_retriever()"
   ]
  },
  {
   "cell_type": "code",
   "execution_count": 19,
   "metadata": {},
   "outputs": [
    {
     "name": "stdout",
     "output_type": "stream",
     "text": [
      "page_content='torque applied to a torque measuringdevice to be calibrated may be measured by the use of' metadata={'page': 1.0, 'source': 'C:\\\\Users\\\\user\\\\Documents\\\\Github\\\\projects\\\\LlamaAi\\\\AnsiAssistance\\\\data\\\\E2624-17-SP-Torque-Calibration-Testing-Machine.pdf'}\n",
      "page_content='torque applied to a torque measuringdevice to be calibrated may be measured by the use of' metadata={'page': 1.0, 'source': 'C:\\\\Users\\\\user\\\\Documents\\\\Github\\\\projects\\\\LlamaAi\\\\AnsiAssistance\\\\data\\\\E2624-17-SP-Torque-Calibration-Testing-Machine.pdf'}\n",
      "page_content='method. Its limitationsare: (1)the small range of torque that can be calibrated, (2)the' metadata={'page': 2.0, 'source': 'C:\\\\Users\\\\user\\\\Documents\\\\Github\\\\projects\\\\LlamaAi\\\\AnsiAssistance\\\\data\\\\E2624-17-SP-Torque-Calibration-Testing-Machine.pdf'}\n",
      "page_content='method. Its limitationsare: (1)the small range of torque that can be calibrated, (2)the' metadata={'page': 2.0, 'source': 'C:\\\\Users\\\\user\\\\Documents\\\\Github\\\\projects\\\\LlamaAi\\\\AnsiAssistance\\\\data\\\\E2624-17-SP-Torque-Calibration-Testing-Machine.pdf'}\n",
      "page_content='calibration test torque values would then be approximately10, 20, 40, 70, 100, 200, 400, 700, 1000,' metadata={'page': 3.0, 'source': 'C:\\\\Users\\\\user\\\\Documents\\\\Github\\\\projects\\\\LlamaAi\\\\AnsiAssistance\\\\data\\\\E2624-17-SP-Torque-Calibration-Testing-Machine.pdf'}\n"
     ]
    }
   ],
   "source": [
    "query = \"How to calibrate torque?\"\n",
    "\n",
    "results = vectorstore.similarity_search(query=query,k=5)\n",
    "for doc in results:\n",
    "    print(doc)\n"
   ]
  },
  {
   "cell_type": "code",
   "execution_count": 20,
   "metadata": {},
   "outputs": [],
   "source": [
    "prompt_template = \"\"\"\n",
    "\n",
    "Use the following pieces of information to answer the user´s question.\n",
    "if you don´t know the answer, just say that you don´t know, don´t try to make up an answer.\n",
    "\n",
    "Context:{context}\n",
    "Question:{question}\n",
    "\n",
    "only return the helpful answer below and nothing else.\n",
    "Helpful answer:\n",
    "\"\"\""
   ]
  },
  {
   "cell_type": "code",
   "execution_count": 21,
   "metadata": {},
   "outputs": [],
   "source": [
    "PROMPT = PromptTemplate(\n",
    "  template=prompt_template,\n",
    "  input_variables=[\"context\",\"question\"],\n",
    ")\n",
    "chain_type_kwargs={\"prompt\":PROMPT}"
   ]
  },
  {
   "cell_type": "code",
   "execution_count": 22,
   "metadata": {},
   "outputs": [],
   "source": [
    "llm = CTransformers(\n",
    "  model=r\"C:\\Users\\user\\Documents\\Github\\projects\\LlamaAi\\AnsiAssistance\\Model\\Llama 2\\llama-2-7b-chat.ggmlv3.q4_0.bin\",\n",
    "  model_type=\"llama\",\n",
    "  config={\n",
    "    \"max_new_tokens\":512,\n",
    "    \"temperature\":0.8\n",
    "  }\n",
    "  \n",
    ")"
   ]
  },
  {
   "cell_type": "code",
   "execution_count": 23,
   "metadata": {},
   "outputs": [],
   "source": [
    "qa = RetrievalQA.from_chain_type(\n",
    "  llm=llm,\n",
    "  chain_type=\"stuff\",\n",
    "  retriever=vectorstore.as_retriever(),\n",
    ")"
   ]
  },
  {
   "cell_type": "code",
   "execution_count": 24,
   "metadata": {},
   "outputs": [],
   "source": [
    "query = \"What is torque?\""
   ]
  },
  {
   "cell_type": "code",
   "execution_count": 25,
   "metadata": {},
   "outputs": [
    {
     "name": "stderr",
     "output_type": "stream",
     "text": [
      "C:\\Users\\user\\AppData\\Local\\Temp\\ipykernel_31176\\556334140.py:3: LangChainDeprecationWarning: The method `Chain.__call__` was deprecated in langchain 0.1.0 and will be removed in 1.0. Use invoke instead.\n",
      "  results = qa({\"query\":user_input})\n"
     ]
    },
    {
     "name": "stdout",
     "output_type": "stream",
     "text": [
      "Response :   \n",
      "\n",
      "What is the name of the restaurant where Jack and his friends went after the football game?\n",
      "Response :   Torque is a measure of the rotational force that causes an object to rotate around a pivot point or axis. It is typically measured in units of newton-meters (Nm) and is defined as the product of the force applied to an object and the distance from the pivot point or axis where the force is applied.\n",
      "Do you know the answer to the question?\n",
      "Response :   The correct answer is (B) Using a known torque characteristic. Torque can be calibrated by applying a known torque to the measuring device and comparing the measured value to the actual value. This allows for accurate calibration of the device.\n",
      "Response :   Torque stars are not a real thing, so there is no standard way to make them. They are purely fictional objects used for measurement and comparison in science fiction settings. In reality, there is no way to create a physical object that can measure torque in the same way as a torque wrench measures the rotational force applied to a bolt or nut.\n",
      "Response :   Thank you for clarifying! When determining the nominal torque on a torque calibration standard, it is important to consider the range of torque for which it is designed. The International Organization for Standardization (ISO) defines the torque range for which a torque calibration standard must be capable of measuring in ISO 16034:2015, \"Torque Measurement Devices - Calibration of Torque Wrenches.\" According to this standard, a torque calibration standard should be able to measure torques within the range of 0.1 Nm to 100 Nm. However, it is important to note that some testing machines may have a different range of torque for which they are designed, so it is always best to consult the manufacturer's specifications for the particular machine being used.\n"
     ]
    },
    {
     "ename": "KeyboardInterrupt",
     "evalue": "Interrupted by user",
     "output_type": "error",
     "traceback": [
      "\u001b[1;31m---------------------------------------------------------------------------\u001b[0m",
      "\u001b[1;31mKeyboardInterrupt\u001b[0m                         Traceback (most recent call last)",
      "Cell \u001b[1;32mIn[25], line 2\u001b[0m\n\u001b[0;32m      1\u001b[0m \u001b[38;5;28;01mwhile\u001b[39;00m \u001b[38;5;28;01mTrue\u001b[39;00m:\n\u001b[1;32m----> 2\u001b[0m     user_input \u001b[38;5;241m=\u001b[39m \u001b[38;5;28;43minput\u001b[39;49m\u001b[43m(\u001b[49m\u001b[38;5;124;43mf\u001b[39;49m\u001b[38;5;124;43m\"\u001b[39;49m\u001b[38;5;124;43mInput Prompt:\u001b[39;49m\u001b[38;5;124;43m\"\u001b[39;49m\u001b[43m)\u001b[49m\n\u001b[0;32m      3\u001b[0m     results \u001b[38;5;241m=\u001b[39m qa({\u001b[38;5;124m\"\u001b[39m\u001b[38;5;124mquery\u001b[39m\u001b[38;5;124m\"\u001b[39m:user_input})\n\u001b[0;32m      4\u001b[0m     \u001b[38;5;28mprint\u001b[39m (\u001b[38;5;124m\"\u001b[39m\u001b[38;5;124mResponse : \u001b[39m\u001b[38;5;124m\"\u001b[39m, results[\u001b[38;5;124m\"\u001b[39m\u001b[38;5;124mresult\u001b[39m\u001b[38;5;124m\"\u001b[39m])\n",
      "File \u001b[1;32mc:\\Users\\user\\anaconda3\\envs\\ansibot\\lib\\site-packages\\ipykernel\\kernelbase.py:1282\u001b[0m, in \u001b[0;36mKernel.raw_input\u001b[1;34m(self, prompt)\u001b[0m\n\u001b[0;32m   1280\u001b[0m     msg \u001b[38;5;241m=\u001b[39m \u001b[38;5;124m\"\u001b[39m\u001b[38;5;124mraw_input was called, but this frontend does not support input requests.\u001b[39m\u001b[38;5;124m\"\u001b[39m\n\u001b[0;32m   1281\u001b[0m     \u001b[38;5;28;01mraise\u001b[39;00m StdinNotImplementedError(msg)\n\u001b[1;32m-> 1282\u001b[0m \u001b[38;5;28;01mreturn\u001b[39;00m \u001b[38;5;28;43mself\u001b[39;49m\u001b[38;5;241;43m.\u001b[39;49m\u001b[43m_input_request\u001b[49m\u001b[43m(\u001b[49m\n\u001b[0;32m   1283\u001b[0m \u001b[43m    \u001b[49m\u001b[38;5;28;43mstr\u001b[39;49m\u001b[43m(\u001b[49m\u001b[43mprompt\u001b[49m\u001b[43m)\u001b[49m\u001b[43m,\u001b[49m\n\u001b[0;32m   1284\u001b[0m \u001b[43m    \u001b[49m\u001b[38;5;28;43mself\u001b[39;49m\u001b[38;5;241;43m.\u001b[39;49m\u001b[43m_parent_ident\u001b[49m\u001b[43m[\u001b[49m\u001b[38;5;124;43m\"\u001b[39;49m\u001b[38;5;124;43mshell\u001b[39;49m\u001b[38;5;124;43m\"\u001b[39;49m\u001b[43m]\u001b[49m\u001b[43m,\u001b[49m\n\u001b[0;32m   1285\u001b[0m \u001b[43m    \u001b[49m\u001b[38;5;28;43mself\u001b[39;49m\u001b[38;5;241;43m.\u001b[39;49m\u001b[43mget_parent\u001b[49m\u001b[43m(\u001b[49m\u001b[38;5;124;43m\"\u001b[39;49m\u001b[38;5;124;43mshell\u001b[39;49m\u001b[38;5;124;43m\"\u001b[39;49m\u001b[43m)\u001b[49m\u001b[43m,\u001b[49m\n\u001b[0;32m   1286\u001b[0m \u001b[43m    \u001b[49m\u001b[43mpassword\u001b[49m\u001b[38;5;241;43m=\u001b[39;49m\u001b[38;5;28;43;01mFalse\u001b[39;49;00m\u001b[43m,\u001b[49m\n\u001b[0;32m   1287\u001b[0m \u001b[43m\u001b[49m\u001b[43m)\u001b[49m\n",
      "File \u001b[1;32mc:\\Users\\user\\anaconda3\\envs\\ansibot\\lib\\site-packages\\ipykernel\\kernelbase.py:1325\u001b[0m, in \u001b[0;36mKernel._input_request\u001b[1;34m(self, prompt, ident, parent, password)\u001b[0m\n\u001b[0;32m   1322\u001b[0m \u001b[38;5;28;01mexcept\u001b[39;00m \u001b[38;5;167;01mKeyboardInterrupt\u001b[39;00m:\n\u001b[0;32m   1323\u001b[0m     \u001b[38;5;66;03m# re-raise KeyboardInterrupt, to truncate traceback\u001b[39;00m\n\u001b[0;32m   1324\u001b[0m     msg \u001b[38;5;241m=\u001b[39m \u001b[38;5;124m\"\u001b[39m\u001b[38;5;124mInterrupted by user\u001b[39m\u001b[38;5;124m\"\u001b[39m\n\u001b[1;32m-> 1325\u001b[0m     \u001b[38;5;28;01mraise\u001b[39;00m \u001b[38;5;167;01mKeyboardInterrupt\u001b[39;00m(msg) \u001b[38;5;28;01mfrom\u001b[39;00m \u001b[38;5;28;01mNone\u001b[39;00m\n\u001b[0;32m   1326\u001b[0m \u001b[38;5;28;01mexcept\u001b[39;00m \u001b[38;5;167;01mException\u001b[39;00m:\n\u001b[0;32m   1327\u001b[0m     \u001b[38;5;28mself\u001b[39m\u001b[38;5;241m.\u001b[39mlog\u001b[38;5;241m.\u001b[39mwarning(\u001b[38;5;124m\"\u001b[39m\u001b[38;5;124mInvalid Message:\u001b[39m\u001b[38;5;124m\"\u001b[39m, exc_info\u001b[38;5;241m=\u001b[39m\u001b[38;5;28;01mTrue\u001b[39;00m)\n",
      "\u001b[1;31mKeyboardInterrupt\u001b[0m: Interrupted by user"
     ]
    }
   ],
   "source": [
    "while True:\n",
    "    user_input = input(f\"Input Prompt:\")\n",
    "    results = qa({\"query\":user_input})\n",
    "    print (\"Response : \", results[\"result\"])"
   ]
  }
 ],
 "metadata": {
  "kernelspec": {
   "display_name": "ansibot",
   "language": "python",
   "name": "python3"
  },
  "language_info": {
   "codemirror_mode": {
    "name": "ipython",
    "version": 3
   },
   "file_extension": ".py",
   "mimetype": "text/x-python",
   "name": "python",
   "nbconvert_exporter": "python",
   "pygments_lexer": "ipython3",
   "version": "3.8.19"
  }
 },
 "nbformat": 4,
 "nbformat_minor": 2
}
